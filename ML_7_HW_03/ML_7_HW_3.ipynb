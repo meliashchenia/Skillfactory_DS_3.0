{
 "cells": [
  {
   "attachments": {},
   "cell_type": "markdown",
   "metadata": {},
   "source": [
    "# *ML-7. Прогнозирование биологического ответа (HW-3)*"
   ]
  },
  {
   "attachments": {},
   "cell_type": "markdown",
   "metadata": {},
   "source": [
    "#### *Необходимо*:\n",
    "1. обучить две модели: \n",
    "    - логистическую регрессию\n",
    "    - случайный лес. \n",
    "2. сделать подбор гиперпараметров с помощью базовых и продвинутых методов оптимизации. \n",
    "Важно использовать все четыре метода (GridSeachCV, RandomizedSearchCV, Hyperopt, Optuna) хотя бы по разу, максимальное количество итераций не должно превышать 50.\n",
    "\n",
    "*В качестве метрики будем использовать F1-score.*\n",
    "\n"
   ]
  },
  {
   "cell_type": "code",
   "execution_count": 1,
   "metadata": {},
   "outputs": [],
   "source": [
    "# Импортируем используемые библиотеки.\n",
    "import numpy as np\n",
    "import pandas as pd\n",
    "import matplotlib.pyplot as plt\n",
    "import seaborn as sns\n",
    "\n",
    "from sklearn import linear_model\n",
    "from sklearn import ensemble\n",
    "from sklearn import metrics\n",
    "from sklearn.model_selection import train_test_split\n",
    "\n",
    "from sklearn.model_selection import GridSearchCV\n",
    "from sklearn.model_selection import RandomizedSearchCV\n",
    "\n",
    "from sklearn.model_selection import cross_val_score\n",
    "import hyperopt\n",
    "from hyperopt import hp, fmin, tpe, Trials\n",
    "import optuna\n"
   ]
  },
  {
   "cell_type": "code",
   "execution_count": 2,
   "metadata": {},
   "outputs": [
    {
     "data": {
      "text/html": [
       "<div>\n",
       "<style scoped>\n",
       "    .dataframe tbody tr th:only-of-type {\n",
       "        vertical-align: middle;\n",
       "    }\n",
       "\n",
       "    .dataframe tbody tr th {\n",
       "        vertical-align: top;\n",
       "    }\n",
       "\n",
       "    .dataframe thead th {\n",
       "        text-align: right;\n",
       "    }\n",
       "</style>\n",
       "<table border=\"1\" class=\"dataframe\">\n",
       "  <thead>\n",
       "    <tr style=\"text-align: right;\">\n",
       "      <th></th>\n",
       "      <th>Activity</th>\n",
       "      <th>D1</th>\n",
       "      <th>D2</th>\n",
       "      <th>D3</th>\n",
       "      <th>D4</th>\n",
       "      <th>D5</th>\n",
       "      <th>D6</th>\n",
       "      <th>D7</th>\n",
       "      <th>D8</th>\n",
       "      <th>D9</th>\n",
       "      <th>...</th>\n",
       "      <th>D1767</th>\n",
       "      <th>D1768</th>\n",
       "      <th>D1769</th>\n",
       "      <th>D1770</th>\n",
       "      <th>D1771</th>\n",
       "      <th>D1772</th>\n",
       "      <th>D1773</th>\n",
       "      <th>D1774</th>\n",
       "      <th>D1775</th>\n",
       "      <th>D1776</th>\n",
       "    </tr>\n",
       "  </thead>\n",
       "  <tbody>\n",
       "    <tr>\n",
       "      <th>0</th>\n",
       "      <td>1</td>\n",
       "      <td>0.000000</td>\n",
       "      <td>0.497009</td>\n",
       "      <td>0.10</td>\n",
       "      <td>0.0</td>\n",
       "      <td>0.132956</td>\n",
       "      <td>0.678031</td>\n",
       "      <td>0.273166</td>\n",
       "      <td>0.585445</td>\n",
       "      <td>0.743663</td>\n",
       "      <td>...</td>\n",
       "      <td>0</td>\n",
       "      <td>0</td>\n",
       "      <td>0</td>\n",
       "      <td>0</td>\n",
       "      <td>0</td>\n",
       "      <td>0</td>\n",
       "      <td>0</td>\n",
       "      <td>0</td>\n",
       "      <td>0</td>\n",
       "      <td>0</td>\n",
       "    </tr>\n",
       "    <tr>\n",
       "      <th>1</th>\n",
       "      <td>1</td>\n",
       "      <td>0.366667</td>\n",
       "      <td>0.606291</td>\n",
       "      <td>0.05</td>\n",
       "      <td>0.0</td>\n",
       "      <td>0.111209</td>\n",
       "      <td>0.803455</td>\n",
       "      <td>0.106105</td>\n",
       "      <td>0.411754</td>\n",
       "      <td>0.836582</td>\n",
       "      <td>...</td>\n",
       "      <td>1</td>\n",
       "      <td>1</td>\n",
       "      <td>1</td>\n",
       "      <td>1</td>\n",
       "      <td>0</td>\n",
       "      <td>1</td>\n",
       "      <td>0</td>\n",
       "      <td>0</td>\n",
       "      <td>1</td>\n",
       "      <td>0</td>\n",
       "    </tr>\n",
       "    <tr>\n",
       "      <th>2</th>\n",
       "      <td>1</td>\n",
       "      <td>0.033300</td>\n",
       "      <td>0.480124</td>\n",
       "      <td>0.00</td>\n",
       "      <td>0.0</td>\n",
       "      <td>0.209791</td>\n",
       "      <td>0.610350</td>\n",
       "      <td>0.356453</td>\n",
       "      <td>0.517720</td>\n",
       "      <td>0.679051</td>\n",
       "      <td>...</td>\n",
       "      <td>0</td>\n",
       "      <td>0</td>\n",
       "      <td>0</td>\n",
       "      <td>0</td>\n",
       "      <td>0</td>\n",
       "      <td>0</td>\n",
       "      <td>0</td>\n",
       "      <td>0</td>\n",
       "      <td>0</td>\n",
       "      <td>0</td>\n",
       "    </tr>\n",
       "    <tr>\n",
       "      <th>3</th>\n",
       "      <td>1</td>\n",
       "      <td>0.000000</td>\n",
       "      <td>0.538825</td>\n",
       "      <td>0.00</td>\n",
       "      <td>0.5</td>\n",
       "      <td>0.196344</td>\n",
       "      <td>0.724230</td>\n",
       "      <td>0.235606</td>\n",
       "      <td>0.288764</td>\n",
       "      <td>0.805110</td>\n",
       "      <td>...</td>\n",
       "      <td>0</td>\n",
       "      <td>0</td>\n",
       "      <td>0</td>\n",
       "      <td>0</td>\n",
       "      <td>0</td>\n",
       "      <td>0</td>\n",
       "      <td>0</td>\n",
       "      <td>0</td>\n",
       "      <td>0</td>\n",
       "      <td>0</td>\n",
       "    </tr>\n",
       "    <tr>\n",
       "      <th>4</th>\n",
       "      <td>0</td>\n",
       "      <td>0.100000</td>\n",
       "      <td>0.517794</td>\n",
       "      <td>0.00</td>\n",
       "      <td>0.0</td>\n",
       "      <td>0.494734</td>\n",
       "      <td>0.781422</td>\n",
       "      <td>0.154361</td>\n",
       "      <td>0.303809</td>\n",
       "      <td>0.812646</td>\n",
       "      <td>...</td>\n",
       "      <td>0</td>\n",
       "      <td>0</td>\n",
       "      <td>0</td>\n",
       "      <td>0</td>\n",
       "      <td>0</td>\n",
       "      <td>0</td>\n",
       "      <td>0</td>\n",
       "      <td>0</td>\n",
       "      <td>0</td>\n",
       "      <td>0</td>\n",
       "    </tr>\n",
       "    <tr>\n",
       "      <th>...</th>\n",
       "      <td>...</td>\n",
       "      <td>...</td>\n",
       "      <td>...</td>\n",
       "      <td>...</td>\n",
       "      <td>...</td>\n",
       "      <td>...</td>\n",
       "      <td>...</td>\n",
       "      <td>...</td>\n",
       "      <td>...</td>\n",
       "      <td>...</td>\n",
       "      <td>...</td>\n",
       "      <td>...</td>\n",
       "      <td>...</td>\n",
       "      <td>...</td>\n",
       "      <td>...</td>\n",
       "      <td>...</td>\n",
       "      <td>...</td>\n",
       "      <td>...</td>\n",
       "      <td>...</td>\n",
       "      <td>...</td>\n",
       "      <td>...</td>\n",
       "    </tr>\n",
       "    <tr>\n",
       "      <th>3746</th>\n",
       "      <td>1</td>\n",
       "      <td>0.033300</td>\n",
       "      <td>0.506409</td>\n",
       "      <td>0.10</td>\n",
       "      <td>0.0</td>\n",
       "      <td>0.209887</td>\n",
       "      <td>0.633426</td>\n",
       "      <td>0.297659</td>\n",
       "      <td>0.376124</td>\n",
       "      <td>0.727093</td>\n",
       "      <td>...</td>\n",
       "      <td>0</td>\n",
       "      <td>0</td>\n",
       "      <td>0</td>\n",
       "      <td>0</td>\n",
       "      <td>0</td>\n",
       "      <td>0</td>\n",
       "      <td>0</td>\n",
       "      <td>0</td>\n",
       "      <td>0</td>\n",
       "      <td>0</td>\n",
       "    </tr>\n",
       "    <tr>\n",
       "      <th>3747</th>\n",
       "      <td>1</td>\n",
       "      <td>0.133333</td>\n",
       "      <td>0.651023</td>\n",
       "      <td>0.15</td>\n",
       "      <td>0.0</td>\n",
       "      <td>0.151154</td>\n",
       "      <td>0.766505</td>\n",
       "      <td>0.170876</td>\n",
       "      <td>0.404546</td>\n",
       "      <td>0.787935</td>\n",
       "      <td>...</td>\n",
       "      <td>0</td>\n",
       "      <td>0</td>\n",
       "      <td>1</td>\n",
       "      <td>0</td>\n",
       "      <td>1</td>\n",
       "      <td>0</td>\n",
       "      <td>1</td>\n",
       "      <td>0</td>\n",
       "      <td>0</td>\n",
       "      <td>0</td>\n",
       "    </tr>\n",
       "    <tr>\n",
       "      <th>3748</th>\n",
       "      <td>0</td>\n",
       "      <td>0.200000</td>\n",
       "      <td>0.520564</td>\n",
       "      <td>0.00</td>\n",
       "      <td>0.0</td>\n",
       "      <td>0.179949</td>\n",
       "      <td>0.768785</td>\n",
       "      <td>0.177341</td>\n",
       "      <td>0.471179</td>\n",
       "      <td>0.872241</td>\n",
       "      <td>...</td>\n",
       "      <td>0</td>\n",
       "      <td>0</td>\n",
       "      <td>0</td>\n",
       "      <td>0</td>\n",
       "      <td>0</td>\n",
       "      <td>0</td>\n",
       "      <td>0</td>\n",
       "      <td>0</td>\n",
       "      <td>0</td>\n",
       "      <td>0</td>\n",
       "    </tr>\n",
       "    <tr>\n",
       "      <th>3749</th>\n",
       "      <td>1</td>\n",
       "      <td>0.100000</td>\n",
       "      <td>0.765646</td>\n",
       "      <td>0.00</td>\n",
       "      <td>0.0</td>\n",
       "      <td>0.536954</td>\n",
       "      <td>0.634936</td>\n",
       "      <td>0.342713</td>\n",
       "      <td>0.447162</td>\n",
       "      <td>0.672689</td>\n",
       "      <td>...</td>\n",
       "      <td>0</td>\n",
       "      <td>0</td>\n",
       "      <td>0</td>\n",
       "      <td>0</td>\n",
       "      <td>0</td>\n",
       "      <td>0</td>\n",
       "      <td>0</td>\n",
       "      <td>0</td>\n",
       "      <td>0</td>\n",
       "      <td>0</td>\n",
       "    </tr>\n",
       "    <tr>\n",
       "      <th>3750</th>\n",
       "      <td>0</td>\n",
       "      <td>0.133333</td>\n",
       "      <td>0.533952</td>\n",
       "      <td>0.00</td>\n",
       "      <td>0.0</td>\n",
       "      <td>0.347966</td>\n",
       "      <td>0.757971</td>\n",
       "      <td>0.230667</td>\n",
       "      <td>0.272652</td>\n",
       "      <td>0.854116</td>\n",
       "      <td>...</td>\n",
       "      <td>0</td>\n",
       "      <td>0</td>\n",
       "      <td>0</td>\n",
       "      <td>0</td>\n",
       "      <td>0</td>\n",
       "      <td>0</td>\n",
       "      <td>0</td>\n",
       "      <td>0</td>\n",
       "      <td>0</td>\n",
       "      <td>0</td>\n",
       "    </tr>\n",
       "  </tbody>\n",
       "</table>\n",
       "<p>3751 rows × 1777 columns</p>\n",
       "</div>"
      ],
      "text/plain": [
       "      Activity        D1        D2    D3   D4        D5        D6        D7  \\\n",
       "0            1  0.000000  0.497009  0.10  0.0  0.132956  0.678031  0.273166   \n",
       "1            1  0.366667  0.606291  0.05  0.0  0.111209  0.803455  0.106105   \n",
       "2            1  0.033300  0.480124  0.00  0.0  0.209791  0.610350  0.356453   \n",
       "3            1  0.000000  0.538825  0.00  0.5  0.196344  0.724230  0.235606   \n",
       "4            0  0.100000  0.517794  0.00  0.0  0.494734  0.781422  0.154361   \n",
       "...        ...       ...       ...   ...  ...       ...       ...       ...   \n",
       "3746         1  0.033300  0.506409  0.10  0.0  0.209887  0.633426  0.297659   \n",
       "3747         1  0.133333  0.651023  0.15  0.0  0.151154  0.766505  0.170876   \n",
       "3748         0  0.200000  0.520564  0.00  0.0  0.179949  0.768785  0.177341   \n",
       "3749         1  0.100000  0.765646  0.00  0.0  0.536954  0.634936  0.342713   \n",
       "3750         0  0.133333  0.533952  0.00  0.0  0.347966  0.757971  0.230667   \n",
       "\n",
       "            D8        D9  ...  D1767  D1768  D1769  D1770  D1771  D1772  \\\n",
       "0     0.585445  0.743663  ...      0      0      0      0      0      0   \n",
       "1     0.411754  0.836582  ...      1      1      1      1      0      1   \n",
       "2     0.517720  0.679051  ...      0      0      0      0      0      0   \n",
       "3     0.288764  0.805110  ...      0      0      0      0      0      0   \n",
       "4     0.303809  0.812646  ...      0      0      0      0      0      0   \n",
       "...        ...       ...  ...    ...    ...    ...    ...    ...    ...   \n",
       "3746  0.376124  0.727093  ...      0      0      0      0      0      0   \n",
       "3747  0.404546  0.787935  ...      0      0      1      0      1      0   \n",
       "3748  0.471179  0.872241  ...      0      0      0      0      0      0   \n",
       "3749  0.447162  0.672689  ...      0      0      0      0      0      0   \n",
       "3750  0.272652  0.854116  ...      0      0      0      0      0      0   \n",
       "\n",
       "      D1773  D1774  D1775  D1776  \n",
       "0         0      0      0      0  \n",
       "1         0      0      1      0  \n",
       "2         0      0      0      0  \n",
       "3         0      0      0      0  \n",
       "4         0      0      0      0  \n",
       "...     ...    ...    ...    ...  \n",
       "3746      0      0      0      0  \n",
       "3747      1      0      0      0  \n",
       "3748      0      0      0      0  \n",
       "3749      0      0      0      0  \n",
       "3750      0      0      0      0  \n",
       "\n",
       "[3751 rows x 1777 columns]"
      ]
     },
     "execution_count": 2,
     "metadata": {},
     "output_type": "execute_result"
    }
   ],
   "source": [
    "# Загружаем датафрейм.\n",
    "bio_answer = pd.read_csv('data/_train_sem09 (1).csv')\n",
    "bio_answer"
   ]
  },
  {
   "cell_type": "code",
   "execution_count": 3,
   "metadata": {},
   "outputs": [],
   "source": [
    "# Отделяем из датасет целевой признак.\n",
    "y = bio_answer['Activity']\n",
    "x = bio_answer.drop(['Activity'], axis=1)\n",
    "\n",
    "# Разбиваем данные на тренировочную и тестовую.\n",
    "X_train, X_test, y_train, y_test = train_test_split(x, y, test_size=0.3, random_state=1, stratify=y)"
   ]
  },
  {
   "attachments": {},
   "cell_type": "markdown",
   "metadata": {},
   "source": [
    "## *1. Логистическая регрессия*"
   ]
  },
  {
   "attachments": {},
   "cell_type": "markdown",
   "metadata": {},
   "source": [
    "#### Посмотрим на метрику f1-score при устрановленных по умолчанию гиперпараметров."
   ]
  },
  {
   "cell_type": "code",
   "execution_count": 4,
   "metadata": {},
   "outputs": [
    {
     "name": "stdout",
     "output_type": "stream",
     "text": [
      "f1_score на тренировочном наборе: 0.90\n",
      "accuracy на тестовом наборе: 0.76\n",
      "f1_score на тестовом наборе: 0.78\n"
     ]
    }
   ],
   "source": [
    "# Обучаем модель.\n",
    "log_reg = linear_model.LogisticRegression(random_state=42, max_iter=600)\n",
    "log_reg.fit(X_train, y_train)\n",
    "\n",
    "# Делаем предсказание.\n",
    "log_reg_train_pred = log_reg.predict(X_train)\n",
    "log_reg_test_pred = log_reg.predict(X_test)\n",
    "\n",
    "# Рассчитываем метрики.\n",
    "print('f1_score на тренировочном наборе: {:.2f}'.format(metrics.f1_score(y_train, log_reg_train_pred)))\n",
    "print(\"accuracy на тестовом наборе: {:.2f}\".format(log_reg.score(X_test, y_test)))\n",
    "print('f1_score на тестовом наборе: {:.2f}'.format(metrics.f1_score(y_test, log_reg_test_pred)))"
   ]
  },
  {
   "attachments": {},
   "cell_type": "markdown",
   "metadata": {},
   "source": [
    "### *1.1 GridSearchCV*"
   ]
  },
  {
   "cell_type": "code",
   "execution_count": 5,
   "metadata": {},
   "outputs": [
    {
     "name": "stdout",
     "output_type": "stream",
     "text": [
      "CPU times: user 1.37 s, sys: 213 ms, total: 1.58 s\n",
      "Wall time: 9min 50s\n",
      "f1_score на тренировочном наборе: 0.85\n",
      "accuracy на тестовом наборе: 0.78\n",
      "f1_score на тестовом наборе: 0.80\n",
      "Наилучшие значения гиперпараметров: {'C': 0.1, 'penalty': 'l2', 'solver': 'lbfgs'}\n"
     ]
    }
   ],
   "source": [
    "# Задаем искомые гиперпараметры в виде словаря.\n",
    "param_grid = {'penalty': ['l2'],\n",
    "              'solver': ['lbfgs', 'sag'],\n",
    "              'C': list(np.linspace(0.1, 0.5, 20, dtype=float))\n",
    "              }\n",
    "\n",
    "# С помощью GridSearchCV находим наилучшие параметры для логистической регрессии.\n",
    "grid_search_lr = GridSearchCV(\n",
    "    estimator=linear_model.LogisticRegression(\n",
    "    random_state=42,\n",
    "    max_iter=1000\n",
    "    ), \n",
    "    param_grid=param_grid, \n",
    "    cv=5, \n",
    "    n_jobs = -1\n",
    ")  \n",
    "\n",
    "# Обучаем модель и предсказываем результаты.\n",
    "%time grid_search_lr.fit(X_train, y_train)\n",
    "y_train_pred = grid_search_lr.predict(X_train)\n",
    "y_test_pred = grid_search_lr.predict(X_test)\n",
    "\n",
    "# Рассчитываем метрики.\n",
    "print('f1_score на тренировочном наборе: {:.2f}'.format(metrics.f1_score(y_train, y_train_pred)))\n",
    "print(\"accuracy на тестовом наборе: {:.2f}\".format(grid_search_lr.score(X_test, y_test)))\n",
    "print('f1_score на тестовом наборе: {:.2f}'.format(metrics.f1_score(y_test, y_test_pred)))\n",
    "print(\"Наилучшие значения гиперпараметров: {}\".format(grid_search_lr.best_params_))"
   ]
  },
  {
   "attachments": {},
   "cell_type": "markdown",
   "metadata": {},
   "source": [
    "_________________\n",
    "### *Вывод:*\n",
    "*С помощью подобранных гиперпараметров классом GridSearchCV нам удалось улучшить метрику f1-score, она составила - 0.80.*\n",
    "\n",
    "_________________"
   ]
  },
  {
   "attachments": {},
   "cell_type": "markdown",
   "metadata": {},
   "source": [
    "###  ***1.2 RandomizedSearchCV***"
   ]
  },
  {
   "cell_type": "code",
   "execution_count": 7,
   "metadata": {},
   "outputs": [
    {
     "name": "stdout",
     "output_type": "stream",
     "text": [
      "CPU times: user 1.12 s, sys: 144 ms, total: 1.26 s\n",
      "Wall time: 2min 51s\n",
      "f1_score на тренировочном наборе: 0.85\n",
      "accuracy на тестовом наборе: 0.78\n",
      "f1_score на тестовом наборе: 0.80\n",
      "Наилучшие значения гиперпараметров: {'solver': 'lbfgs', 'penalty': 'l2', 'C': 0.1}\n"
     ]
    }
   ],
   "source": [
    "# Задаем искомые гиперпараметры в виде словаря.\n",
    "param_distributions = {'penalty': ['l2'] ,\n",
    "              'solver': ['lbfgs', 'sag'],\n",
    "               'C': list(np.linspace(0.1, 0.5, 20, dtype=float))},\n",
    "\n",
    "# С помощью RandomizedSearchCV находим наилучшие параметры для логистической регрессии.            \n",
    "random_search_lr = RandomizedSearchCV(\n",
    "    estimator=linear_model.LogisticRegression(random_state=42, max_iter=1000), \n",
    "    param_distributions=param_distributions, \n",
    "    cv=5, \n",
    "    n_iter = 15, \n",
    "    n_jobs = -1\n",
    ")  \n",
    "\n",
    "# Обучаем модель и предсказываем результаты.\n",
    "%time random_search_lr.fit(X_train, y_train)\n",
    "y_train_pred = random_search_lr.predict(X_train)\n",
    "y_test_pred = random_search_lr.predict(X_test)\n",
    "\n",
    "# Рассчитываем метрики.\n",
    "print('f1_score на тренировочном наборе: {:.2f}'.format(metrics.f1_score(y_train, y_train_pred)))\n",
    "print(\"accuracy на тестовом наборе: {:.2f}\".format(random_search_lr.score(X_test, y_test)))\n",
    "print('f1_score на тестовом наборе: {:.2f}'.format(metrics.f1_score(y_test, y_test_pred)))\n",
    "print(\"Наилучшие значения гиперпараметров: {}\".format(random_search_lr.best_params_))"
   ]
  },
  {
   "attachments": {},
   "cell_type": "markdown",
   "metadata": {},
   "source": [
    "_________________\n",
    "### *Вывод:*\n",
    "*С помощью подобранных гиперпараметров классом RandomizedSearchCV нашли такие же гиперпараметры как и при GridSearchCV. Но при этом время для их поиска намного сократилось в 3 раза.*\n",
    "\n",
    "_________________"
   ]
  },
  {
   "attachments": {},
   "cell_type": "markdown",
   "metadata": {},
   "source": [
    "###  *1.3 Hyperopt*"
   ]
  },
  {
   "cell_type": "code",
   "execution_count": 8,
   "metadata": {},
   "outputs": [
    {
     "name": "stdout",
     "output_type": "stream",
     "text": [
      "100%|██████████| 25/25 [06:57<00:00, 16.68s/trial, best loss: -0.7785419212939304]\n",
      "Наилучшие значения гиперпараметров {'C': 0.09664464567700914, 'penalty': 0, 'solver': 0}\n"
     ]
    }
   ],
   "source": [
    "# Задаем искомые гиперпараметры в виде словаря.\n",
    "penalties = ['l2']\n",
    "solvers = ['sag', 'lbfgs']\n",
    "space = {'penalty': hp.choice('penalty', penalties),\n",
    "        'solver': hp.choice('solver', solvers),\n",
    "        'C': hp.uniform('C',0,1)}\n",
    "\n",
    "\n",
    "def hyperopt_rf(params, cv=5, X=X_train, y=y_train, random_state=42):\n",
    "    \"\"\"Функция получения комбинации гиперпараметров.\"\"\"\n",
    "\n",
    "    # Строим модель.\n",
    "    model = linear_model.LogisticRegression(**params, random_state=42, max_iter=5000)\n",
    "\n",
    "    # Обучаем модель с помощью кросс-валидации\n",
    "    score = cross_val_score(model, X, y, cv=cv, scoring=\"f1\", n_jobs=-1).mean()\n",
    "\n",
    "    # Метрику необходимо минимизировать, поэтому ставим знак минус.\n",
    "    return -score\n",
    "\n",
    "\n",
    "# Залогируем полученные результаты.\n",
    "trials = Trials() # используется для логирования результатов\n",
    "\n",
    "# Начинаем подбор гиперпараметров.\n",
    "best = fmin(hyperopt_rf,\n",
    "          space=space,\n",
    "          algo=tpe.suggest,\n",
    "          max_evals=25,\n",
    "          trials=trials,\n",
    "          rstate=np.random.default_rng(42)\n",
    "         )\n",
    "\n",
    "#Выводим наилучшие значения гиперпараметров.\n",
    "print(\"Наилучшие значения гиперпараметров {}\".format(best))"
   ]
  },
  {
   "cell_type": "code",
   "execution_count": 11,
   "metadata": {},
   "outputs": [
    {
     "name": "stdout",
     "output_type": "stream",
     "text": [
      "f1_score на обучающем наборе: 0.85\n",
      "accuracy на тестовом наборе: 0.78\n",
      "f1_score на тестовом наборе: 0.80\n"
     ]
    }
   ],
   "source": [
    "# Строим логистическую модель.\n",
    "model = linear_model.LogisticRegression(\n",
    "    max_iter=1000,\n",
    "    random_state=42, \n",
    "    penalty=penalties[best['penalty']],\n",
    "    solver=solvers[best['solver']],\n",
    "    C=best['C']\n",
    ")\n",
    "\n",
    "# Обучаем модель.\n",
    "model.fit(X_train, y_train)\n",
    "\n",
    "# Предсказываем результат для тренировочной и тестовой выборки.\n",
    "y_train_pred = model.predict(X_train)\n",
    "y_test_pred = model.predict(X_test)\n",
    "\n",
    "# Рассчитываем метрики.\n",
    "print('f1_score на обучающем наборе: {:.2f}'.format(metrics.f1_score(y_train, y_train_pred)))\n",
    "print(\"accuracy на тестовом наборе: {:.2f}\".format(model.score(X_test, y_test)))\n",
    "print('f1_score на тестовом наборе: {:.2f}'.format(metrics.f1_score(y_test, y_test_pred)))"
   ]
  },
  {
   "cell_type": "code",
   "execution_count": 13,
   "metadata": {},
   "outputs": [
    {
     "name": "stdout",
     "output_type": "stream",
     "text": [
      "100%|██████████| 30/30 [00:00<?, ?trial/s, best loss=?]\n",
      "Наилучшие значения гиперпараметров {'C': 0.09664464567700914, 'penalty': 0, 'solver': 0}\n"
     ]
    }
   ],
   "source": [
    "# Продолжим подбор наилучших гиперпараметров.\n",
    "best = fmin(hyperopt_rf,\n",
    "          space=space,\n",
    "          algo=tpe.suggest,\n",
    "          max_evals=30,\n",
    "          trials=trials,\n",
    "          rstate=np.random.default_rng(42)\n",
    "         )\n",
    "\n",
    "#Выводим наилучшие значения гиперпараметров.\n",
    "print(\"Наилучшие значения гиперпараметров {}\".format(best))"
   ]
  },
  {
   "cell_type": "code",
   "execution_count": 14,
   "metadata": {},
   "outputs": [
    {
     "name": "stdout",
     "output_type": "stream",
     "text": [
      "f1_score на обучающем наборе: 0.85\n",
      "accuracy на тестовом наборе: 0.78\n",
      "f1_score на тестовом наборе: 0.80\n"
     ]
    }
   ],
   "source": [
    "# Строим еще раз логистическую модель.\n",
    "model = linear_model.LogisticRegression(\n",
    "    max_iter=1000,\n",
    "    random_state=42, \n",
    "    penalty=penalties[best['penalty']],\n",
    "    solver=solvers[best['solver']],\n",
    "    C=best['C']\n",
    ")\n",
    "\n",
    "# Обучаем модель.\n",
    "model.fit(X_train, y_train)\n",
    "\n",
    "# Предсказываем результат для тренировочной и тестовой выборки.\n",
    "y_train_pred = model.predict(X_train)\n",
    "y_test_pred = model.predict(X_test)\n",
    "\n",
    "# Рассчитываем метрики.\n",
    "print('f1_score на обучающем наборе: {:.2f}'.format(metrics.f1_score(y_train, y_train_pred)))\n",
    "print(\"accuracy на тестовом наборе: {:.2f}\".format(model.score(X_test, y_test)))\n",
    "print('f1_score на тестовом наборе: {:.2f}'.format(metrics.f1_score(y_test, y_test_pred)))"
   ]
  },
  {
   "attachments": {},
   "cell_type": "markdown",
   "metadata": {},
   "source": [
    "_________________\n",
    "### *Вывод:*\n",
    "*С помощью Hyperopt и использования кросс-валидации метрика f1-score составила - 0.80. Нам неудалось еще больше улучшить результаты.*\n",
    "\n",
    "_________________"
   ]
  },
  {
   "attachments": {},
   "cell_type": "markdown",
   "metadata": {},
   "source": [
    "###  *1.4 Optuna*"
   ]
  },
  {
   "cell_type": "code",
   "execution_count": 15,
   "metadata": {},
   "outputs": [
    {
     "name": "stderr",
     "output_type": "stream",
     "text": [
      "\u001b[32m[I 2023-04-02 15:43:31,519]\u001b[0m A new study created in memory with name: LogisticRegression\u001b[0m\n",
      "\u001b[32m[I 2023-04-02 15:43:37,646]\u001b[0m Trial 0 finished with value: 0.7702292241071234 and parameters: {'penalty': 'l2', 'solver': 'lbfgs', 'C': 0.26661651175110335}. Best is trial 0 with value: 0.7702292241071234.\u001b[0m\n",
      "\u001b[32m[I 2023-04-02 15:43:44,813]\u001b[0m Trial 1 finished with value: 0.7732374671257205 and parameters: {'penalty': 'l2', 'solver': 'lbfgs', 'C': 0.864145007132271}. Best is trial 1 with value: 0.7732374671257205.\u001b[0m\n",
      "\u001b[32m[I 2023-04-02 15:44:23,294]\u001b[0m Trial 2 finished with value: 0.7767224176907688 and parameters: {'penalty': 'l2', 'solver': 'sag', 'C': 0.13326669366771804}. Best is trial 2 with value: 0.7767224176907688.\u001b[0m\n",
      "\u001b[32m[I 2023-04-02 15:45:06,240]\u001b[0m Trial 3 finished with value: 0.7773132138958562 and parameters: {'penalty': 'l2', 'solver': 'sag', 'C': 0.1377743297529077}. Best is trial 3 with value: 0.7773132138958562.\u001b[0m\n",
      "\u001b[32m[I 2023-04-02 15:45:46,858]\u001b[0m Trial 4 finished with value: 0.7741039366297284 and parameters: {'penalty': 'l2', 'solver': 'sag', 'C': 0.8888875846068596}. Best is trial 3 with value: 0.7773132138958562.\u001b[0m\n",
      "\u001b[32m[I 2023-04-02 15:45:51,815]\u001b[0m Trial 5 finished with value: 0.7714522233990225 and parameters: {'penalty': 'l2', 'solver': 'lbfgs', 'C': 0.3707185131195715}. Best is trial 3 with value: 0.7773132138958562.\u001b[0m\n",
      "\u001b[32m[I 2023-04-02 15:46:28,984]\u001b[0m Trial 6 finished with value: 0.7737473489109966 and parameters: {'penalty': 'l2', 'solver': 'sag', 'C': 0.80008023196656}. Best is trial 3 with value: 0.7773132138958562.\u001b[0m\n",
      "\u001b[32m[I 2023-04-02 15:46:33,864]\u001b[0m Trial 7 finished with value: 0.7719699486111354 and parameters: {'penalty': 'l2', 'solver': 'lbfgs', 'C': 0.33943955782574986}. Best is trial 3 with value: 0.7773132138958562.\u001b[0m\n",
      "\u001b[32m[I 2023-04-02 15:46:37,374]\u001b[0m Trial 8 finished with value: 0.7760474778828044 and parameters: {'penalty': 'l2', 'solver': 'lbfgs', 'C': 0.14610966223456823}. Best is trial 3 with value: 0.7773132138958562.\u001b[0m\n",
      "\u001b[32m[I 2023-04-02 15:47:13,832]\u001b[0m Trial 9 finished with value: 0.7757198624925226 and parameters: {'penalty': 'l2', 'solver': 'sag', 'C': 0.11556663023376545}. Best is trial 3 with value: 0.7773132138958562.\u001b[0m\n",
      "\u001b[32m[I 2023-04-02 15:47:31,074]\u001b[0m Trial 10 finished with value: 0.7812956113403173 and parameters: {'penalty': 'l2', 'solver': 'sag', 'C': 0.023369730276901035}. Best is trial 10 with value: 0.7812956113403173.\u001b[0m\n",
      "\u001b[32m[I 2023-04-02 15:47:43,733]\u001b[0m Trial 11 finished with value: 0.7801320284157497 and parameters: {'penalty': 'l2', 'solver': 'sag', 'C': 0.0162769613773599}. Best is trial 10 with value: 0.7812956113403173.\u001b[0m\n",
      "\u001b[32m[I 2023-04-02 15:47:48,621]\u001b[0m Trial 12 finished with value: 0.7647328232002407 and parameters: {'penalty': 'l2', 'solver': 'sag', 'C': 0.0031172443807701636}. Best is trial 10 with value: 0.7812956113403173.\u001b[0m\n",
      "\u001b[32m[I 2023-04-02 15:48:39,808]\u001b[0m Trial 13 finished with value: 0.7685750974537484 and parameters: {'penalty': 'l2', 'solver': 'sag', 'C': 0.5614457185071318}. Best is trial 10 with value: 0.7812956113403173.\u001b[0m\n",
      "\u001b[32m[I 2023-04-02 15:48:44,549]\u001b[0m Trial 14 finished with value: 0.7627176511411558 and parameters: {'penalty': 'l2', 'solver': 'sag', 'C': 0.0028342672038681738}. Best is trial 10 with value: 0.7812956113403173.\u001b[0m\n",
      "\u001b[32m[I 2023-04-02 15:49:32,463]\u001b[0m Trial 15 finished with value: 0.7688512008953194 and parameters: {'penalty': 'l2', 'solver': 'sag', 'C': 0.5723683495072402}. Best is trial 10 with value: 0.7812956113403173.\u001b[0m\n",
      "\u001b[32m[I 2023-04-02 15:50:19,737]\u001b[0m Trial 16 finished with value: 0.7722488650693511 and parameters: {'penalty': 'l2', 'solver': 'sag', 'C': 0.23593626337581347}. Best is trial 10 with value: 0.7812956113403173.\u001b[0m\n",
      "\u001b[32m[I 2023-04-02 15:50:27,252]\u001b[0m Trial 17 finished with value: 0.7696070481005851 and parameters: {'penalty': 'l2', 'solver': 'sag', 'C': 0.006620941879238958}. Best is trial 10 with value: 0.7812956113403173.\u001b[0m\n",
      "\u001b[32m[I 2023-04-02 15:51:17,371]\u001b[0m Trial 18 finished with value: 0.7706865160874884 and parameters: {'penalty': 'l2', 'solver': 'sag', 'C': 0.43808637106541115}. Best is trial 10 with value: 0.7812956113403173.\u001b[0m\n",
      "\u001b[32m[I 2023-04-02 15:52:06,545]\u001b[0m Trial 19 finished with value: 0.76995665194993 and parameters: {'penalty': 'l2', 'solver': 'sag', 'C': 0.2595709312906329}. Best is trial 10 with value: 0.7812956113403173.\u001b[0m\n"
     ]
    },
    {
     "name": "stdout",
     "output_type": "stream",
     "text": [
      "Наилучшие значения гиперпараметров {'penalty': 'l2', 'solver': 'sag', 'C': 0.023369730276901035}\n"
     ]
    }
   ],
   "source": [
    "def optuna_rf(trial, cv=5, X=X_train, y=y_train, random_state=42):\n",
    "    \"\"\"Функция получения комбинации гиперпараметров.\"\"\"\n",
    "    \n",
    "    # Задаем пространства поиска гиперпараметров.\n",
    "    penalties = ['l2']\n",
    "    solvers = ['sag', 'lbfgs']\n",
    "    penalty = trial.suggest_categorical('penalty', penalties)\n",
    "    solver = trial.suggest_categorical('solver', solvers)\n",
    "    C = trial.suggest_float('C', 0, 1)\n",
    "\n",
    "    # Создаем модель.\n",
    "    model = linear_model.LogisticRegression(penalty=penalty,\n",
    "                                          solver=solver,\n",
    "                                          C=C,\n",
    "                                          random_state=42,\n",
    "                                          max_iter=1000)\n",
    "    # Обучаем модель.\n",
    "    model.fit(X_train, y_train)\n",
    "    score = cross_val_score(model, X, y, cv=cv, scoring=\"f1\", n_jobs=-1).mean()\n",
    "\n",
    "    return score\n",
    "\n",
    "\n",
    "# Создаем объект исследования.\n",
    "study = optuna.create_study(study_name=\"LogisticRegression\", direction=\"maximize\")\n",
    "\n",
    "# Ищем лучшую комбинацию гиперпараметров n_trials раз.\n",
    "study.optimize(optuna_rf, n_trials=20)\n",
    "\n",
    "print(\"Наилучшие значения гиперпараметров {}\".format(study.best_params))\n"
   ]
  },
  {
   "cell_type": "code",
   "execution_count": 16,
   "metadata": {},
   "outputs": [
    {
     "name": "stdout",
     "output_type": "stream",
     "text": [
      "f1_score на тренировочном наборе: 0.83\n",
      "accuracy на тестовом наборе: 0.78\n",
      "f1_score на тестовом наборе: 0.80\n"
     ]
    }
   ],
   "source": [
    "# Создаем модель.\n",
    "model = linear_model.LogisticRegression(**study.best_params,random_state=42, max_iter=1000)\n",
    "\n",
    "# Обучаем модель.\n",
    "model.fit(X_train, y_train)\n",
    "\n",
    "# Предсказываем результат для тренировочной и тестовой выборки.\n",
    "y_train_pred = model.predict(X_train)\n",
    "y_test_pred = model.predict(X_test)\n",
    "\n",
    "# Рассчитываем метрики.\n",
    "print('f1_score на тренировочном наборе: {:.2f}'.format(metrics.f1_score(y_train, y_train_pred)))\n",
    "print(\"accuracy на тестовом наборе: {:.2f}\".format(model.score(X_test, y_test)))\n",
    "print('f1_score на тестовом наборе: {:.2f}'.format(metrics.f1_score(y_test, y_test_pred)))"
   ]
  },
  {
   "attachments": {},
   "cell_type": "markdown",
   "metadata": {},
   "source": [
    "_________________\n",
    "### *Вывод:*\n",
    "*С помощью гиперпараметров найденных Optuna получили такие же значения метрики f1-score как и при других классах 0.80.*\n",
    "\n",
    "_________________"
   ]
  },
  {
   "attachments": {},
   "cell_type": "markdown",
   "metadata": {},
   "source": [
    "## *2. Случайный лес*"
   ]
  },
  {
   "attachments": {},
   "cell_type": "markdown",
   "metadata": {},
   "source": [
    "#### Посмотрим на метрику f1-score при устрановленных по умолчанию гиперпараметров."
   ]
  },
  {
   "cell_type": "code",
   "execution_count": 17,
   "metadata": {},
   "outputs": [
    {
     "name": "stdout",
     "output_type": "stream",
     "text": [
      "f1_score на тренировочном наборе: 1.00\n",
      "accuracy на тестовом наборе: 0.80\n",
      "f1_score на тестовом наборе: 0.82\n"
     ]
    }
   ],
   "source": [
    "# Обучаем модель.\n",
    "forest = ensemble.RandomForestClassifier(random_state=42)\n",
    "forest.fit(X_train, y_train)\n",
    "\n",
    "# Делаем предсказание.\n",
    "forest_train_pred = forest.predict(X_train)\n",
    "forest_test_pred = forest.predict(X_test)\n",
    "\n",
    "# Рассчитываем метрики.\n",
    "print('f1_score на тренировочном наборе: {:.2f}'.format(metrics.f1_score(y_train, forest_train_pred)))\n",
    "print(\"accuracy на тестовом наборе: {:.2f}\".format(forest.score(X_test, y_test)))\n",
    "print('f1_score на тестовом наборе: {:.2f}'.format(metrics.f1_score(y_test, forest_test_pred)))"
   ]
  },
  {
   "attachments": {},
   "cell_type": "markdown",
   "metadata": {},
   "source": [
    "### *2.1 GridSearchCV*"
   ]
  },
  {
   "cell_type": "code",
   "execution_count": 18,
   "metadata": {},
   "outputs": [
    {
     "name": "stdout",
     "output_type": "stream",
     "text": [
      "CPU times: user 1.68 s, sys: 103 ms, total: 1.78 s\n",
      "Wall time: 1min 45s\n",
      "f1_score на тренировочном наборе: 0.98\n",
      "accuracy на тестовом наборе: 0.79\n",
      "f1_score на тестовом наборе: 0.82\n",
      "Наилучшие значения гиперпараметров: {'criterion': 'entropy', 'max_depth': 30, 'min_samples_leaf': 3, 'n_estimators': 110}\n"
     ]
    }
   ],
   "source": [
    "# Задаем искомые гиперпараметры в виде словаря.\n",
    "param_grid = {'n_estimators': list(range(80, 200, 30)),\n",
    "            'min_samples_leaf': [3],\n",
    "            'max_depth': list(np.linspace(20, 40, 5, dtype=int)),\n",
    "            'criterion': ['gini', 'entropy']\n",
    "            }\n",
    "\n",
    "# С помощью GridSearchCV находим наилучшие параметры для логистической регрессии.\n",
    "grid_search_forest = GridSearchCV(\n",
    "    estimator=ensemble.RandomForestClassifier(random_state=42), \n",
    "    param_grid=param_grid, \n",
    "    cv=5, \n",
    "    n_jobs = -1\n",
    ")  \n",
    "\n",
    "# Обучаем модель и предсказываем результаты.\n",
    "%time grid_search_forest.fit(X_train, y_train)\n",
    "y_train_pred = grid_search_forest.predict(X_train)\n",
    "y_test_pred = grid_search_forest.predict(X_test)\n",
    "\n",
    "# Рассчитываем метрики.\n",
    "print('f1_score на тренировочном наборе: {:.2f}'.format(metrics.f1_score(y_train, y_train_pred)))\n",
    "print(\"accuracy на тестовом наборе: {:.2f}\".format(grid_search_forest.score(X_test, y_test)))\n",
    "print('f1_score на тестовом наборе: {:.2f}'.format(metrics.f1_score(y_test, y_test_pred)))\n",
    "print(\"Наилучшие значения гиперпараметров: {}\".format(grid_search_forest.best_params_))"
   ]
  },
  {
   "attachments": {},
   "cell_type": "markdown",
   "metadata": {},
   "source": [
    "_________________\n",
    "### *Вывод:*\n",
    "*С помощью подобранных гипераметров классом GridSearchCV нам не удалось улучшить метрику f1-score и она также составила 0.82.*\n",
    "\n",
    "_________________"
   ]
  },
  {
   "attachments": {},
   "cell_type": "markdown",
   "metadata": {},
   "source": [
    "###  *2.2 RandomizedSearchCV*"
   ]
  },
  {
   "cell_type": "code",
   "execution_count": 19,
   "metadata": {},
   "outputs": [
    {
     "name": "stdout",
     "output_type": "stream",
     "text": [
      "CPU times: user 1.43 s, sys: 64.7 ms, total: 1.49 s\n",
      "Wall time: 40.5 s\n",
      "f1_score на тренировочном наборе: 0.98\n",
      "accuracy на тестовом наборе: 0.79\n",
      "f1_score на тестовом наборе: 0.82\n",
      "Наилучшие значения гиперпараметров: {'n_estimators': 110, 'min_samples_leaf': 3, 'max_depth': 30, 'criterion': 'entropy'}\n"
     ]
    }
   ],
   "source": [
    "# Задаем искомые гиперпараметры в виде словаря.\n",
    "param_distributions = {'n_estimators': list(range(80, 200, 30)),\n",
    "            'min_samples_leaf': [3],\n",
    "            'max_depth': list(np.linspace(20, 40, 5, dtype=int)),\n",
    "            'criterion': ['gini', 'entropy']\n",
    "            }\n",
    "\n",
    "# С помощью RandomizedSearchCV находим наилучшие параметры для логистической регрессии.            \n",
    "random_search_forest = RandomizedSearchCV(\n",
    "    estimator=ensemble.RandomForestClassifier(random_state=42), \n",
    "    param_distributions=param_distributions, \n",
    "    cv=5, \n",
    "    n_iter = 15, \n",
    "    n_jobs = -1\n",
    ")  \n",
    "\n",
    "# Обучаем модель и предсказываем результаты.\n",
    "%time random_search_forest.fit(X_train, y_train)\n",
    "y_train_pred = random_search_forest.predict(X_train)\n",
    "y_test_pred = random_search_forest.predict(X_test)\n",
    "\n",
    "# Рассчитываем метрики.\n",
    "print('f1_score на тренировочном наборе: {:.2f}'.format(metrics.f1_score(y_train, y_train_pred)))\n",
    "print(\"accuracy на тестовом наборе: {:.2f}\".format(random_search_forest.score(X_test, y_test)))\n",
    "print('f1_score на тестовом наборе: {:.2f}'.format(metrics.f1_score(y_test, y_test_pred)))\n",
    "print(\"Наилучшие значения гиперпараметров: {}\".format(random_search_forest.best_params_))"
   ]
  },
  {
   "attachments": {},
   "cell_type": "markdown",
   "metadata": {},
   "source": [
    "_________________\n",
    "### *Вывод:*\n",
    "*С помощью подобранных гиперпараметров классом RandomizedSearchCV метрика f1-score осталась такая же как и при помощи  GridSearchCV.*\n",
    "\n",
    "_________________"
   ]
  },
  {
   "attachments": {},
   "cell_type": "markdown",
   "metadata": {},
   "source": [
    "###  *2.3 Hyperopt*"
   ]
  },
  {
   "cell_type": "code",
   "execution_count": 20,
   "metadata": {},
   "outputs": [
    {
     "name": "stdout",
     "output_type": "stream",
     "text": [
      "100%|██████████| 25/25 [01:29<00:00,  3.60s/trial, best loss: -0.8127261258298031]\n",
      "Наилучшие значения гиперпараметров {'criterion': 1, 'max_depth': 22.0, 'min_samples_leaf': 2.0, 'n_estimators': 154.0}\n"
     ]
    }
   ],
   "source": [
    "# Задаем искомые гиперпараметры в виде словаря.\n",
    "criterions = ['gini', 'entropy']\n",
    "space={'n_estimators': hp.quniform('n_estimators', 80, 200, 1),\n",
    "       'max_depth' : hp.quniform('max_depth', 15, 40, 1),\n",
    "       'min_samples_leaf': hp.quniform('min_samples_leaf', 2, 10, 1),\n",
    "       'criterion': hp.choice('criterion', criterions)\n",
    "      }\n",
    "\n",
    "\n",
    "def hyperopt_rf(params, cv=5, X=X_train, y=y_train, random_state=42):\n",
    "    \"\"\"Функция получения комбинации гиперпараметров.\"\"\"\n",
    "    params = {'n_estimators': int(params['n_estimators']), \n",
    "            'max_depth': int(params['max_depth']), \n",
    "            'min_samples_leaf': int(params['min_samples_leaf']),\n",
    "            'criterion': params['criterion']\n",
    "            }\n",
    "    # Строим модель.\n",
    "    model = ensemble.RandomForestClassifier(**params, random_state=42)\n",
    "\n",
    "    # Обучаем модель с помощью кросс-валидации\n",
    "    score = cross_val_score(model, X, y, cv=cv, scoring=\"f1\", n_jobs=-1).mean()\n",
    "\n",
    "    # Метрику необходимо минимизировать, поэтому ставим знак минус.\n",
    "    return -score\n",
    "\n",
    "\n",
    "# Залогируем полученные результаты.\n",
    "trials = Trials() # используется для логирования результатов\n",
    "\n",
    "# Начинаем подбор гиперпараметров.\n",
    "best = fmin(hyperopt_rf,\n",
    "          space=space,\n",
    "          algo=tpe.suggest,\n",
    "          max_evals=25,\n",
    "          trials=trials,\n",
    "          rstate=np.random.default_rng(42)\n",
    "         )\n",
    "\n",
    "#Выводим наилучшие значения гиперпараметров.\n",
    "print(\"Наилучшие значения гиперпараметров {}\".format(best))"
   ]
  },
  {
   "cell_type": "code",
   "execution_count": 21,
   "metadata": {},
   "outputs": [
    {
     "name": "stdout",
     "output_type": "stream",
     "text": [
      "f1_score на обучающем наборе: 1.00\n",
      "accuracy на тестовом наборе: 0.80\n",
      "f1_score на тестовом наборе: 0.82\n"
     ]
    }
   ],
   "source": [
    "# Строим  модель.\n",
    "model = ensemble.RandomForestClassifier(\n",
    "    random_state=42, \n",
    "    n_estimators=int(best['n_estimators']),\n",
    "    criterion=criterions[best['criterion']],\n",
    "    max_depth=int(best['max_depth']),\n",
    "    min_samples_leaf=int(best['min_samples_leaf'])\n",
    ")\n",
    "\n",
    "# Обучаем модель.\n",
    "model.fit(X_train, y_train)\n",
    "\n",
    "# Предсказываем результат для тренировочной и тестовой выборки.\n",
    "y_train_pred = model.predict(X_train)\n",
    "y_test_pred = model.predict(X_test)\n",
    "\n",
    "# Рассчитываем метрики.\n",
    "print('f1_score на обучающем наборе: {:.2f}'.format(metrics.f1_score(y_train, y_train_pred)))\n",
    "print(\"accuracy на тестовом наборе: {:.2f}\".format(model.score(X_test, y_test)))\n",
    "print('f1_score на тестовом наборе: {:.2f}'.format(metrics.f1_score(y_test, y_test_pred)))"
   ]
  },
  {
   "cell_type": "code",
   "execution_count": 22,
   "metadata": {},
   "outputs": [
    {
     "name": "stdout",
     "output_type": "stream",
     "text": [
      "100%|██████████| 30/30 [00:23<00:00,  4.65s/trial, best loss: -0.8127261258298031]\n",
      "Наилучшие значения гиперпараметров {'criterion': 1, 'max_depth': 22.0, 'min_samples_leaf': 2.0, 'n_estimators': 154.0}\n"
     ]
    }
   ],
   "source": [
    "# Продолжим подбор наилучших гиперпараметров.\n",
    "best = fmin(hyperopt_rf,\n",
    "          space=space,\n",
    "          algo=tpe.suggest,\n",
    "          max_evals=30,\n",
    "          trials=trials,\n",
    "          rstate=np.random.default_rng(42)\n",
    "         )\n",
    "\n",
    "#Выводим наилучшие значения гиперпараметров.\n",
    "print(\"Наилучшие значения гиперпараметров {}\".format(best))"
   ]
  },
  {
   "cell_type": "code",
   "execution_count": 23,
   "metadata": {},
   "outputs": [
    {
     "name": "stdout",
     "output_type": "stream",
     "text": [
      "f1_score на обучающем наборе: 1.00\n",
      "accuracy на тестовом наборе: 0.80\n",
      "f1_score на тестовом наборе: 0.82\n"
     ]
    }
   ],
   "source": [
    "# Строим модель.\n",
    "model = ensemble.RandomForestClassifier(\n",
    "    random_state=42, \n",
    "    n_estimators=int(best['n_estimators']),\n",
    "    criterion=criterions[best['criterion']],\n",
    "    max_depth=int(best['max_depth']),\n",
    "    min_samples_leaf=int(best['min_samples_leaf'])\n",
    ")\n",
    "\n",
    "# Обучаем модель.\n",
    "model.fit(X_train, y_train)\n",
    "\n",
    "# Предсказываем результат для тренировочной и тестовой выборки.\n",
    "y_train_pred = model.predict(X_train)\n",
    "y_test_pred = model.predict(X_test)\n",
    "\n",
    "# Рассчитываем метрики.\n",
    "print('f1_score на обучающем наборе: {:.2f}'.format(metrics.f1_score(y_train, y_train_pred)))\n",
    "print(\"accuracy на тестовом наборе: {:.2f}\".format(model.score(X_test, y_test)))\n",
    "print('f1_score на тестовом наборе: {:.2f}'.format(metrics.f1_score(y_test, y_test_pred)))"
   ]
  },
  {
   "attachments": {},
   "cell_type": "markdown",
   "metadata": {},
   "source": [
    "_________________\n",
    "### *Вывод:*\n",
    "*С помощью Hyperopt мы не смогли преулучшить f1-score.*\n",
    "\n",
    "_________________"
   ]
  },
  {
   "attachments": {},
   "cell_type": "markdown",
   "metadata": {},
   "source": [
    "###  *2.4 Optuna*"
   ]
  },
  {
   "cell_type": "code",
   "execution_count": 24,
   "metadata": {},
   "outputs": [
    {
     "name": "stderr",
     "output_type": "stream",
     "text": [
      "\u001b[32m[I 2023-04-02 16:03:55,466]\u001b[0m A new study created in memory with name: RandomForestClassifier\u001b[0m\n",
      "\u001b[32m[I 2023-04-02 16:04:00,663]\u001b[0m Trial 0 finished with value: 0.7940239110732945 and parameters: {'n_estimators': 135, 'max_depth': 25, 'min_samples_leaf': 6, 'criterion': 'entropy'}. Best is trial 0 with value: 0.7940239110732945.\u001b[0m\n",
      "\u001b[32m[I 2023-04-02 16:04:03,804]\u001b[0m Trial 1 finished with value: 0.7915754690655279 and parameters: {'n_estimators': 93, 'max_depth': 35, 'min_samples_leaf': 8, 'criterion': 'entropy'}. Best is trial 0 with value: 0.7940239110732945.\u001b[0m\n",
      "\u001b[32m[I 2023-04-02 16:04:07,367]\u001b[0m Trial 2 finished with value: 0.792933734704751 and parameters: {'n_estimators': 103, 'max_depth': 32, 'min_samples_leaf': 7, 'criterion': 'entropy'}. Best is trial 0 with value: 0.7940239110732945.\u001b[0m\n",
      "\u001b[32m[I 2023-04-02 16:04:09,541]\u001b[0m Trial 3 finished with value: 0.7960092799896223 and parameters: {'n_estimators': 70, 'max_depth': 37, 'min_samples_leaf': 10, 'criterion': 'gini'}. Best is trial 3 with value: 0.7960092799896223.\u001b[0m\n",
      "\u001b[32m[I 2023-04-02 16:04:15,593]\u001b[0m Trial 4 finished with value: 0.8067016677953349 and parameters: {'n_estimators': 183, 'max_depth': 21, 'min_samples_leaf': 4, 'criterion': 'gini'}. Best is trial 4 with value: 0.8067016677953349.\u001b[0m\n",
      "\u001b[32m[I 2023-04-02 16:04:19,728]\u001b[0m Trial 5 finished with value: 0.800044180134852 and parameters: {'n_estimators': 121, 'max_depth': 34, 'min_samples_leaf': 4, 'criterion': 'gini'}. Best is trial 4 with value: 0.8067016677953349.\u001b[0m\n",
      "\u001b[32m[I 2023-04-02 16:04:27,386]\u001b[0m Trial 6 finished with value: 0.7923012960453288 and parameters: {'n_estimators': 183, 'max_depth': 33, 'min_samples_leaf': 8, 'criterion': 'entropy'}. Best is trial 4 with value: 0.8067016677953349.\u001b[0m\n",
      "\u001b[32m[I 2023-04-02 16:04:33,168]\u001b[0m Trial 7 finished with value: 0.791438681191 and parameters: {'n_estimators': 94, 'max_depth': 16, 'min_samples_leaf': 8, 'criterion': 'gini'}. Best is trial 4 with value: 0.8067016677953349.\u001b[0m\n",
      "\u001b[32m[I 2023-04-02 16:04:37,380]\u001b[0m Trial 8 finished with value: 0.7999570863524947 and parameters: {'n_estimators': 122, 'max_depth': 14, 'min_samples_leaf': 3, 'criterion': 'gini'}. Best is trial 4 with value: 0.8067016677953349.\u001b[0m\n",
      "\u001b[32m[I 2023-04-02 16:04:42,781]\u001b[0m Trial 9 finished with value: 0.7915025421842774 and parameters: {'n_estimators': 182, 'max_depth': 20, 'min_samples_leaf': 10, 'criterion': 'gini'}. Best is trial 4 with value: 0.8067016677953349.\u001b[0m\n",
      "\u001b[32m[I 2023-04-02 16:04:51,297]\u001b[0m Trial 10 finished with value: 0.8132922298649312 and parameters: {'n_estimators': 156, 'max_depth': 26, 'min_samples_leaf': 2, 'criterion': 'gini'}. Best is trial 10 with value: 0.8132922298649312.\u001b[0m\n",
      "\u001b[32m[I 2023-04-02 16:04:56,575]\u001b[0m Trial 11 finished with value: 0.7648100210442715 and parameters: {'n_estimators': 157, 'max_depth': 5, 'min_samples_leaf': 2, 'criterion': 'gini'}. Best is trial 10 with value: 0.8132922298649312.\u001b[0m\n",
      "\u001b[32m[I 2023-04-02 16:05:03,026]\u001b[0m Trial 12 finished with value: 0.8037366197572551 and parameters: {'n_estimators': 197, 'max_depth': 26, 'min_samples_leaf': 4, 'criterion': 'gini'}. Best is trial 10 with value: 0.8132922298649312.\u001b[0m\n",
      "\u001b[32m[I 2023-04-02 16:05:09,391]\u001b[0m Trial 13 finished with value: 0.8137320899525438 and parameters: {'n_estimators': 156, 'max_depth': 28, 'min_samples_leaf': 2, 'criterion': 'gini'}. Best is trial 13 with value: 0.8137320899525438.\u001b[0m\n",
      "\u001b[32m[I 2023-04-02 16:05:18,875]\u001b[0m Trial 14 finished with value: 0.8147274288007477 and parameters: {'n_estimators': 154, 'max_depth': 29, 'min_samples_leaf': 2, 'criterion': 'gini'}. Best is trial 14 with value: 0.8147274288007477.\u001b[0m\n",
      "\u001b[32m[I 2023-04-02 16:05:27,021]\u001b[0m Trial 15 finished with value: 0.8009893109202932 and parameters: {'n_estimators': 156, 'max_depth': 28, 'min_samples_leaf': 5, 'criterion': 'gini'}. Best is trial 14 with value: 0.8147274288007477.\u001b[0m\n",
      "\u001b[32m[I 2023-04-02 16:05:33,925]\u001b[0m Trial 16 finished with value: 0.8150203030308438 and parameters: {'n_estimators': 141, 'max_depth': 30, 'min_samples_leaf': 2, 'criterion': 'gini'}. Best is trial 16 with value: 0.8150203030308438.\u001b[0m\n",
      "\u001b[32m[I 2023-04-02 16:05:40,314]\u001b[0m Trial 17 finished with value: 0.8026912258943447 and parameters: {'n_estimators': 138, 'max_depth': 40, 'min_samples_leaf': 3, 'criterion': 'gini'}. Best is trial 16 with value: 0.8150203030308438.\u001b[0m\n",
      "\u001b[32m[I 2023-04-02 16:05:45,559]\u001b[0m Trial 18 finished with value: 0.8070474479330801 and parameters: {'n_estimators': 52, 'max_depth': 30, 'min_samples_leaf': 3, 'criterion': 'entropy'}. Best is trial 16 with value: 0.8150203030308438.\u001b[0m\n",
      "\u001b[32m[I 2023-04-02 16:05:50,120]\u001b[0m Trial 19 finished with value: 0.7980564882752097 and parameters: {'n_estimators': 139, 'max_depth': 17, 'min_samples_leaf': 5, 'criterion': 'gini'}. Best is trial 16 with value: 0.8150203030308438.\u001b[0m\n",
      "\u001b[32m[I 2023-04-02 16:05:56,109]\u001b[0m Trial 20 finished with value: 0.7935323295881485 and parameters: {'n_estimators': 109, 'max_depth': 8, 'min_samples_leaf': 2, 'criterion': 'gini'}. Best is trial 16 with value: 0.8150203030308438.\u001b[0m\n",
      "\u001b[32m[I 2023-04-02 16:06:02,452]\u001b[0m Trial 21 finished with value: 0.8145750149967448 and parameters: {'n_estimators': 166, 'max_depth': 30, 'min_samples_leaf': 2, 'criterion': 'gini'}. Best is trial 16 with value: 0.8150203030308438.\u001b[0m\n",
      "\u001b[32m[I 2023-04-02 16:06:11,236]\u001b[0m Trial 22 finished with value: 0.8033692301543092 and parameters: {'n_estimators': 170, 'max_depth': 30, 'min_samples_leaf': 3, 'criterion': 'gini'}. Best is trial 16 with value: 0.8150203030308438.\u001b[0m\n",
      "\u001b[32m[I 2023-04-02 16:06:20,529]\u001b[0m Trial 23 finished with value: 0.814978670400192 and parameters: {'n_estimators': 170, 'max_depth': 23, 'min_samples_leaf': 2, 'criterion': 'gini'}. Best is trial 16 with value: 0.8150203030308438.\u001b[0m\n",
      "\u001b[32m[I 2023-04-02 16:06:28,248]\u001b[0m Trial 24 finished with value: 0.7979914719553202 and parameters: {'n_estimators': 143, 'max_depth': 24, 'min_samples_leaf': 3, 'criterion': 'gini'}. Best is trial 16 with value: 0.8150203030308438.\u001b[0m\n",
      "\u001b[32m[I 2023-04-02 16:06:37,141]\u001b[0m Trial 25 finished with value: 0.7973644647679736 and parameters: {'n_estimators': 171, 'max_depth': 22, 'min_samples_leaf': 5, 'criterion': 'gini'}. Best is trial 16 with value: 0.8150203030308438.\u001b[0m\n",
      "\u001b[32m[I 2023-04-02 16:06:49,843]\u001b[0m Trial 26 finished with value: 0.805978504983574 and parameters: {'n_estimators': 196, 'max_depth': 12, 'min_samples_leaf': 4, 'criterion': 'entropy'}. Best is trial 16 with value: 0.8150203030308438.\u001b[0m\n",
      "\u001b[32m[I 2023-04-02 16:06:59,978]\u001b[0m Trial 27 finished with value: 0.8053197388196234 and parameters: {'n_estimators': 146, 'max_depth': 19, 'min_samples_leaf': 2, 'criterion': 'gini'}. Best is trial 16 with value: 0.8150203030308438.\u001b[0m\n",
      "\u001b[32m[I 2023-04-02 16:07:04,620]\u001b[0m Trial 28 finished with value: 0.7990627993073781 and parameters: {'n_estimators': 130, 'max_depth': 39, 'min_samples_leaf': 3, 'criterion': 'gini'}. Best is trial 16 with value: 0.8150203030308438.\u001b[0m\n",
      "\u001b[32m[I 2023-04-02 16:07:11,467]\u001b[0m Trial 29 finished with value: 0.7931072790158133 and parameters: {'n_estimators': 148, 'max_depth': 24, 'min_samples_leaf': 6, 'criterion': 'entropy'}. Best is trial 16 with value: 0.8150203030308438.\u001b[0m\n"
     ]
    },
    {
     "name": "stdout",
     "output_type": "stream",
     "text": [
      "Наилучшие значения гиперпараметров {'n_estimators': 141, 'max_depth': 30, 'min_samples_leaf': 2, 'criterion': 'gini'}\n"
     ]
    }
   ],
   "source": [
    "\n",
    "def optuna_rf(trial, cv=5, X=X_train, y=y_train, random_state=42):\n",
    "    \"\"\"Функция получения комбинации гиперпараметров.\"\"\"\n",
    "    \n",
    "    # Задаем пространства поиска гиперпараметров.\n",
    "    criterions = ['gini', 'entropy']\n",
    "    n_estimators = trial.suggest_int('n_estimators', 50, 200, 1)\n",
    "    max_depth = trial.suggest_int('max_depth', 5, 40, 1)\n",
    "    min_samples_leaf = trial.suggest_int('min_samples_leaf', 2, 10, 1)\n",
    "    criterion = trial.suggest_categorical('criterion', criterions)\n",
    "\n",
    "    # Создаем модель.\n",
    "    model = ensemble.RandomForestClassifier(n_estimators=n_estimators,\n",
    "                                        max_depth=max_depth,\n",
    "                                        min_samples_leaf=min_samples_leaf,\n",
    "                                        criterion=criterion,\n",
    "                                        random_state=42)\n",
    "    # Обучаем модель.\n",
    "    model.fit(X_train, y_train)\n",
    "    score = cross_val_score(model, X, y, cv=cv, scoring=\"f1\", n_jobs=-1).mean()\n",
    "\n",
    "    return score\n",
    "\n",
    "\n",
    "# Создаем объект исследования.\n",
    "study = optuna.create_study(study_name=\"RandomForestClassifier\", direction=\"maximize\")\n",
    "\n",
    "# Ищем лучшую комбинацию гиперпараметров n_trials раз.\n",
    "study.optimize(optuna_rf, n_trials=30)\n",
    "\n",
    "print(\"Наилучшие значения гиперпараметров {}\".format(study.best_params))\n"
   ]
  },
  {
   "cell_type": "code",
   "execution_count": 25,
   "metadata": {},
   "outputs": [
    {
     "name": "stdout",
     "output_type": "stream",
     "text": [
      "f1_score на тренировочном наборе: 0.99\n",
      "accuracy на тестовом наборе: 0.80\n",
      "f1_score на тестовом наборе: 0.82\n"
     ]
    }
   ],
   "source": [
    "# Создаем модель.\n",
    "model = ensemble.RandomForestClassifier(**study.best_params,random_state=42)\n",
    "\n",
    "# Обучаем модель.\n",
    "model.fit(X_train, y_train)\n",
    "\n",
    "# Предсказываем результат для тренировочной и тестовой выборки.\n",
    "y_train_pred = model.predict(X_train)\n",
    "y_test_pred = model.predict(X_test)\n",
    "\n",
    "# Рассчитываем метрики.\n",
    "print('f1_score на тренировочном наборе: {:.2f}'.format(metrics.f1_score(y_train, y_train_pred)))\n",
    "print(\"accuracy на тестовом наборе: {:.2f}\".format(model.score(X_test, y_test)))\n",
    "print('f1_score на тестовом наборе: {:.2f}'.format(metrics.f1_score(y_test, y_test_pred)))"
   ]
  },
  {
   "attachments": {},
   "cell_type": "markdown",
   "metadata": {},
   "source": [
    "_________________\n",
    "### *Вывод:*\n",
    "*С помощью Optuna не удалось еще больше учучшить f1-score.*\n",
    "\n",
    "*Наилучший f1-score мы получили при использовании модели случайного леса и она составила 0.82. При логистической регресии она составила 0.80. Все подобранные разными методами гиперпараметры не смогли улучшить метрику.*\n",
    "_________________"
   ]
  },
  {
   "cell_type": "code",
   "execution_count": null,
   "metadata": {},
   "outputs": [],
   "source": []
  }
 ],
 "metadata": {
  "kernelspec": {
   "display_name": "Python 3",
   "language": "python",
   "name": "python3"
  },
  "language_info": {
   "codemirror_mode": {
    "name": "ipython",
    "version": 3
   },
   "file_extension": ".py",
   "mimetype": "text/x-python",
   "name": "python",
   "nbconvert_exporter": "python",
   "pygments_lexer": "ipython3",
   "version": "3.11.1"
  },
  "orig_nbformat": 4
 },
 "nbformat": 4,
 "nbformat_minor": 2
}
