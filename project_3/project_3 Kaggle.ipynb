{
 "cells": [
  {
   "cell_type": "markdown",
   "id": "44c1c60c",
   "metadata": {
    "execution": {
     "iopub.execute_input": "2022-12-07T22:55:01.016982Z",
     "iopub.status.busy": "2022-12-07T22:55:01.016615Z",
     "iopub.status.idle": "2022-12-07T22:55:01.021633Z",
     "shell.execute_reply": "2022-12-07T22:55:01.020745Z",
     "shell.execute_reply.started": "2022-12-07T22:55:01.016951Z"
    },
    "papermill": {
     "duration": 0.019541,
     "end_time": "2023-01-09T17:59:42.517757",
     "exception": false,
     "start_time": "2023-01-09T17:59:42.498216",
     "status": "completed"
    },
    "tags": []
   },
   "source": [
    "## 1. Подготовка данных."
   ]
  },
  {
   "cell_type": "markdown",
   "id": "824377be",
   "metadata": {
    "papermill": {
     "duration": 0.017638,
     "end_time": "2023-01-09T17:59:42.553778",
     "exception": false,
     "start_time": "2023-01-09T17:59:42.536140",
     "status": "completed"
    },
    "tags": []
   },
   "source": [
    "### Импортируем необходимые библиотеки."
   ]
  },
  {
   "cell_type": "code",
   "execution_count": 1,
   "id": "16b20c6a",
   "metadata": {
    "_cell_guid": "b1076dfc-b9ad-4769-8c92-a6c4dae69d19",
    "_uuid": "8f2839f25d086af736a60e9eeb907d3b93b6e0e5",
    "execution": {
     "iopub.execute_input": "2023-01-09T17:59:42.592939Z",
     "iopub.status.busy": "2023-01-09T17:59:42.591967Z",
     "iopub.status.idle": "2023-01-09T17:59:44.854870Z",
     "shell.execute_reply": "2023-01-09T17:59:44.853660Z"
    },
    "papermill": {
     "duration": 2.286283,
     "end_time": "2023-01-09T17:59:44.858313",
     "exception": false,
     "start_time": "2023-01-09T17:59:42.572030",
     "status": "completed"
    },
    "tags": []
   },
   "outputs": [
    {
     "name": "stdout",
     "output_type": "stream",
     "text": [
      "/kaggle/input/country/country_code.csv\n",
      "/kaggle/input/countries/countries.csv\n",
      "/kaggle/input/sf-booking/hotels_test.csv\n",
      "/kaggle/input/sf-booking/hotels_train.csv\n",
      "/kaggle/input/sf-booking/submission.csv\n"
     ]
    }
   ],
   "source": [
    "# This Python 3 environment comes with many helpful analytics libraries installed\n",
    "# It is defined by the kaggle/python Docker image: https://github.com/kaggle/docker-python\n",
    "# For example, here's several helpful packages to load\n",
    "\n",
    "import numpy as np # linear algebra\n",
    "import pandas as pd # data processing, CSV file I/O (e.g. pd.read_csv)\n",
    "\n",
    "import matplotlib.pyplot as plt\n",
    "import seaborn as sns \n",
    "%matplotlib inline\n",
    "\n",
    "import nltk\n",
    "from nltk.sentiment.vader import SentimentIntensityAnalyzer\n",
    "\n",
    "import category_encoders as ce\n",
    "from sklearn.feature_selection import f_classif\n",
    "\n",
    "from sklearn.model_selection import train_test_split \n",
    "from sklearn.ensemble import RandomForestRegressor  \n",
    "from sklearn import metrics\n",
    "\n",
    "# Input data files are available in the read-only \"../input/\" directory\n",
    "# For example, running this (by clicking run or pressing Shift+Enter) will list all files under the input directory\n",
    "\n",
    "import os\n",
    "for dirname, _, filenames in os.walk('/kaggle/input'):\n",
    "    for filename in filenames:\n",
    "        print(os.path.join(dirname, filename))\n",
    "\n",
    "# You can write up to 20GB to the current directory (/kaggle/working/) that gets preserved as output when you create a version using \"Save & Run All\" \n",
    "# You can also write temporary files to /kaggle/temp/, but they won't be saved outside of the current session"
   ]
  },
  {
   "cell_type": "code",
   "execution_count": 2,
   "id": "bb5a731f",
   "metadata": {
    "execution": {
     "iopub.execute_input": "2023-01-09T17:59:44.896783Z",
     "iopub.status.busy": "2023-01-09T17:59:44.896344Z",
     "iopub.status.idle": "2023-01-09T17:59:44.901655Z",
     "shell.execute_reply": "2023-01-09T17:59:44.900548Z"
    },
    "papermill": {
     "duration": 0.027445,
     "end_time": "2023-01-09T17:59:44.904175",
     "exception": false,
     "start_time": "2023-01-09T17:59:44.876730",
     "status": "completed"
    },
    "tags": []
   },
   "outputs": [],
   "source": [
    "# Путь к файлу.\n",
    "INPUT_DIR = '../input/sf-booking/'"
   ]
  },
  {
   "cell_type": "code",
   "execution_count": 3,
   "id": "2e7e5446",
   "metadata": {
    "execution": {
     "iopub.execute_input": "2023-01-09T17:59:44.942724Z",
     "iopub.status.busy": "2023-01-09T17:59:44.941926Z",
     "iopub.status.idle": "2023-01-09T17:59:50.838540Z",
     "shell.execute_reply": "2023-01-09T17:59:50.837272Z"
    },
    "papermill": {
     "duration": 5.918969,
     "end_time": "2023-01-09T17:59:50.841183",
     "exception": false,
     "start_time": "2023-01-09T17:59:44.922214",
     "status": "completed"
    },
    "tags": []
   },
   "outputs": [
    {
     "data": {
      "text/html": [
       "<div>\n",
       "<style scoped>\n",
       "    .dataframe tbody tr th:only-of-type {\n",
       "        vertical-align: middle;\n",
       "    }\n",
       "\n",
       "    .dataframe tbody tr th {\n",
       "        vertical-align: top;\n",
       "    }\n",
       "\n",
       "    .dataframe thead th {\n",
       "        text-align: right;\n",
       "    }\n",
       "</style>\n",
       "<table border=\"1\" class=\"dataframe\">\n",
       "  <thead>\n",
       "    <tr style=\"text-align: right;\">\n",
       "      <th></th>\n",
       "      <th>hotel_address</th>\n",
       "      <th>additional_number_of_scoring</th>\n",
       "      <th>review_date</th>\n",
       "      <th>average_score</th>\n",
       "      <th>hotel_name</th>\n",
       "      <th>reviewer_nationality</th>\n",
       "      <th>negative_review</th>\n",
       "      <th>review_total_negative_word_counts</th>\n",
       "      <th>total_number_of_reviews</th>\n",
       "      <th>positive_review</th>\n",
       "      <th>review_total_positive_word_counts</th>\n",
       "      <th>total_number_of_reviews_reviewer_has_given</th>\n",
       "      <th>reviewer_score</th>\n",
       "      <th>tags</th>\n",
       "      <th>days_since_review</th>\n",
       "      <th>lat</th>\n",
       "      <th>lng</th>\n",
       "    </tr>\n",
       "  </thead>\n",
       "  <tbody>\n",
       "    <tr>\n",
       "      <th>0</th>\n",
       "      <td>Stratton Street Mayfair Westminster Borough Lo...</td>\n",
       "      <td>581</td>\n",
       "      <td>2/19/2016</td>\n",
       "      <td>8.4</td>\n",
       "      <td>The May Fair Hotel</td>\n",
       "      <td>United Kingdom</td>\n",
       "      <td>Leaving</td>\n",
       "      <td>3</td>\n",
       "      <td>1994</td>\n",
       "      <td>Staff were amazing</td>\n",
       "      <td>4</td>\n",
       "      <td>7</td>\n",
       "      <td>10.0</td>\n",
       "      <td>[' Leisure trip ', ' Couple ', ' Studio Suite ...</td>\n",
       "      <td>531 day</td>\n",
       "      <td>51.507894</td>\n",
       "      <td>-0.143671</td>\n",
       "    </tr>\n",
       "    <tr>\n",
       "      <th>1</th>\n",
       "      <td>130 134 Southampton Row Camden London WC1B 5AF...</td>\n",
       "      <td>299</td>\n",
       "      <td>1/12/2017</td>\n",
       "      <td>8.3</td>\n",
       "      <td>Mercure London Bloomsbury Hotel</td>\n",
       "      <td>United Kingdom</td>\n",
       "      <td>poor breakfast</td>\n",
       "      <td>3</td>\n",
       "      <td>1361</td>\n",
       "      <td>location</td>\n",
       "      <td>2</td>\n",
       "      <td>14</td>\n",
       "      <td>6.3</td>\n",
       "      <td>[' Business trip ', ' Couple ', ' Standard Dou...</td>\n",
       "      <td>203 day</td>\n",
       "      <td>51.521009</td>\n",
       "      <td>-0.123097</td>\n",
       "    </tr>\n",
       "    <tr>\n",
       "      <th>2</th>\n",
       "      <td>151 bis Rue de Rennes 6th arr 75006 Paris France</td>\n",
       "      <td>32</td>\n",
       "      <td>10/18/2016</td>\n",
       "      <td>8.9</td>\n",
       "      <td>Legend Saint Germain by Elegancia</td>\n",
       "      <td>China</td>\n",
       "      <td>No kettle in room</td>\n",
       "      <td>6</td>\n",
       "      <td>406</td>\n",
       "      <td>No Positive</td>\n",
       "      <td>0</td>\n",
       "      <td>14</td>\n",
       "      <td>7.5</td>\n",
       "      <td>[' Leisure trip ', ' Solo traveler ', ' Modern...</td>\n",
       "      <td>289 day</td>\n",
       "      <td>48.845377</td>\n",
       "      <td>2.325643</td>\n",
       "    </tr>\n",
       "  </tbody>\n",
       "</table>\n",
       "</div>"
      ],
      "text/plain": [
       "                                       hotel_address  \\\n",
       "0  Stratton Street Mayfair Westminster Borough Lo...   \n",
       "1  130 134 Southampton Row Camden London WC1B 5AF...   \n",
       "2   151 bis Rue de Rennes 6th arr 75006 Paris France   \n",
       "\n",
       "   additional_number_of_scoring review_date  average_score  \\\n",
       "0                           581   2/19/2016            8.4   \n",
       "1                           299   1/12/2017            8.3   \n",
       "2                            32  10/18/2016            8.9   \n",
       "\n",
       "                          hotel_name reviewer_nationality  \\\n",
       "0                 The May Fair Hotel      United Kingdom    \n",
       "1    Mercure London Bloomsbury Hotel      United Kingdom    \n",
       "2  Legend Saint Germain by Elegancia               China    \n",
       "\n",
       "       negative_review  review_total_negative_word_counts  \\\n",
       "0             Leaving                                   3   \n",
       "1       poor breakfast                                  3   \n",
       "2   No kettle in room                                   6   \n",
       "\n",
       "   total_number_of_reviews      positive_review  \\\n",
       "0                     1994   Staff were amazing   \n",
       "1                     1361             location   \n",
       "2                      406          No Positive   \n",
       "\n",
       "   review_total_positive_word_counts  \\\n",
       "0                                  4   \n",
       "1                                  2   \n",
       "2                                  0   \n",
       "\n",
       "   total_number_of_reviews_reviewer_has_given  reviewer_score  \\\n",
       "0                                           7            10.0   \n",
       "1                                          14             6.3   \n",
       "2                                          14             7.5   \n",
       "\n",
       "                                                tags days_since_review  \\\n",
       "0  [' Leisure trip ', ' Couple ', ' Studio Suite ...           531 day   \n",
       "1  [' Business trip ', ' Couple ', ' Standard Dou...           203 day   \n",
       "2  [' Leisure trip ', ' Solo traveler ', ' Modern...           289 day   \n",
       "\n",
       "         lat       lng  \n",
       "0  51.507894 -0.143671  \n",
       "1  51.521009 -0.123097  \n",
       "2  48.845377  2.325643  "
      ]
     },
     "execution_count": 3,
     "metadata": {},
     "output_type": "execute_result"
    }
   ],
   "source": [
    "# Загружаем тренировочные данные.\n",
    "hotels_train = pd.read_csv(INPUT_DIR + 'hotels_train.csv')\n",
    "hotels_train.head(3)"
   ]
  },
  {
   "cell_type": "code",
   "execution_count": 4,
   "id": "13042a2b",
   "metadata": {
    "execution": {
     "iopub.execute_input": "2023-01-09T17:59:50.880335Z",
     "iopub.status.busy": "2023-01-09T17:59:50.879908Z",
     "iopub.status.idle": "2023-01-09T17:59:52.745172Z",
     "shell.execute_reply": "2023-01-09T17:59:52.743972Z"
    },
    "papermill": {
     "duration": 1.887908,
     "end_time": "2023-01-09T17:59:52.747756",
     "exception": false,
     "start_time": "2023-01-09T17:59:50.859848",
     "status": "completed"
    },
    "tags": []
   },
   "outputs": [
    {
     "data": {
      "text/html": [
       "<div>\n",
       "<style scoped>\n",
       "    .dataframe tbody tr th:only-of-type {\n",
       "        vertical-align: middle;\n",
       "    }\n",
       "\n",
       "    .dataframe tbody tr th {\n",
       "        vertical-align: top;\n",
       "    }\n",
       "\n",
       "    .dataframe thead th {\n",
       "        text-align: right;\n",
       "    }\n",
       "</style>\n",
       "<table border=\"1\" class=\"dataframe\">\n",
       "  <thead>\n",
       "    <tr style=\"text-align: right;\">\n",
       "      <th></th>\n",
       "      <th>hotel_address</th>\n",
       "      <th>additional_number_of_scoring</th>\n",
       "      <th>review_date</th>\n",
       "      <th>average_score</th>\n",
       "      <th>hotel_name</th>\n",
       "      <th>reviewer_nationality</th>\n",
       "      <th>negative_review</th>\n",
       "      <th>review_total_negative_word_counts</th>\n",
       "      <th>total_number_of_reviews</th>\n",
       "      <th>positive_review</th>\n",
       "      <th>review_total_positive_word_counts</th>\n",
       "      <th>total_number_of_reviews_reviewer_has_given</th>\n",
       "      <th>tags</th>\n",
       "      <th>days_since_review</th>\n",
       "      <th>lat</th>\n",
       "      <th>lng</th>\n",
       "    </tr>\n",
       "  </thead>\n",
       "  <tbody>\n",
       "    <tr>\n",
       "      <th>0</th>\n",
       "      <td>Via Senigallia 6 20161 Milan Italy</td>\n",
       "      <td>904</td>\n",
       "      <td>7/21/2017</td>\n",
       "      <td>8.1</td>\n",
       "      <td>Hotel Da Vinci</td>\n",
       "      <td>United Kingdom</td>\n",
       "      <td>Would have appreciated a shop in the hotel th...</td>\n",
       "      <td>52</td>\n",
       "      <td>16670</td>\n",
       "      <td>Hotel was great clean friendly staff free bre...</td>\n",
       "      <td>62</td>\n",
       "      <td>1</td>\n",
       "      <td>[' Leisure trip ', ' Couple ', ' Double Room '...</td>\n",
       "      <td>13 days</td>\n",
       "      <td>45.533137</td>\n",
       "      <td>9.171102</td>\n",
       "    </tr>\n",
       "    <tr>\n",
       "      <th>1</th>\n",
       "      <td>Arlandaweg 10 Westpoort 1043 EW Amsterdam Neth...</td>\n",
       "      <td>612</td>\n",
       "      <td>12/12/2016</td>\n",
       "      <td>8.6</td>\n",
       "      <td>Urban Lodge Hotel</td>\n",
       "      <td>Belgium</td>\n",
       "      <td>No tissue paper box was present at the room</td>\n",
       "      <td>10</td>\n",
       "      <td>5018</td>\n",
       "      <td>No Positive</td>\n",
       "      <td>0</td>\n",
       "      <td>7</td>\n",
       "      <td>[' Leisure trip ', ' Group ', ' Triple Room ',...</td>\n",
       "      <td>234 day</td>\n",
       "      <td>52.385649</td>\n",
       "      <td>4.834443</td>\n",
       "    </tr>\n",
       "    <tr>\n",
       "      <th>2</th>\n",
       "      <td>Mallorca 251 Eixample 08008 Barcelona Spain</td>\n",
       "      <td>46</td>\n",
       "      <td>11/26/2015</td>\n",
       "      <td>8.3</td>\n",
       "      <td>Alexandra Barcelona A DoubleTree by Hilton</td>\n",
       "      <td>Sweden</td>\n",
       "      <td>Pillows</td>\n",
       "      <td>3</td>\n",
       "      <td>351</td>\n",
       "      <td>Nice welcoming and service</td>\n",
       "      <td>5</td>\n",
       "      <td>15</td>\n",
       "      <td>[' Business trip ', ' Solo traveler ', ' Twin ...</td>\n",
       "      <td>616 day</td>\n",
       "      <td>41.393192</td>\n",
       "      <td>2.161520</td>\n",
       "    </tr>\n",
       "  </tbody>\n",
       "</table>\n",
       "</div>"
      ],
      "text/plain": [
       "                                       hotel_address  \\\n",
       "0                 Via Senigallia 6 20161 Milan Italy   \n",
       "1  Arlandaweg 10 Westpoort 1043 EW Amsterdam Neth...   \n",
       "2        Mallorca 251 Eixample 08008 Barcelona Spain   \n",
       "\n",
       "   additional_number_of_scoring review_date  average_score  \\\n",
       "0                           904   7/21/2017            8.1   \n",
       "1                           612  12/12/2016            8.6   \n",
       "2                            46  11/26/2015            8.3   \n",
       "\n",
       "                                   hotel_name reviewer_nationality  \\\n",
       "0                              Hotel Da Vinci      United Kingdom    \n",
       "1                           Urban Lodge Hotel             Belgium    \n",
       "2  Alexandra Barcelona A DoubleTree by Hilton              Sweden    \n",
       "\n",
       "                                     negative_review  \\\n",
       "0   Would have appreciated a shop in the hotel th...   \n",
       "1        No tissue paper box was present at the room   \n",
       "2                                           Pillows    \n",
       "\n",
       "   review_total_negative_word_counts  total_number_of_reviews  \\\n",
       "0                                 52                    16670   \n",
       "1                                 10                     5018   \n",
       "2                                  3                      351   \n",
       "\n",
       "                                     positive_review  \\\n",
       "0   Hotel was great clean friendly staff free bre...   \n",
       "1                                        No Positive   \n",
       "2                         Nice welcoming and service   \n",
       "\n",
       "   review_total_positive_word_counts  \\\n",
       "0                                 62   \n",
       "1                                  0   \n",
       "2                                  5   \n",
       "\n",
       "   total_number_of_reviews_reviewer_has_given  \\\n",
       "0                                           1   \n",
       "1                                           7   \n",
       "2                                          15   \n",
       "\n",
       "                                                tags days_since_review  \\\n",
       "0  [' Leisure trip ', ' Couple ', ' Double Room '...           13 days   \n",
       "1  [' Leisure trip ', ' Group ', ' Triple Room ',...           234 day   \n",
       "2  [' Business trip ', ' Solo traveler ', ' Twin ...           616 day   \n",
       "\n",
       "         lat       lng  \n",
       "0  45.533137  9.171102  \n",
       "1  52.385649  4.834443  \n",
       "2  41.393192  2.161520  "
      ]
     },
     "execution_count": 4,
     "metadata": {},
     "output_type": "execute_result"
    }
   ],
   "source": [
    "# Загружаем тестовые данные.\n",
    "hotels_test = pd.read_csv(INPUT_DIR + 'hotels_test.csv')\n",
    "hotels_test.head(3)"
   ]
  },
  {
   "cell_type": "code",
   "execution_count": 5,
   "id": "7555ebc6",
   "metadata": {
    "execution": {
     "iopub.execute_input": "2023-01-09T17:59:52.788487Z",
     "iopub.status.busy": "2023-01-09T17:59:52.787619Z",
     "iopub.status.idle": "2023-01-09T17:59:52.851009Z",
     "shell.execute_reply": "2023-01-09T17:59:52.849790Z"
    },
    "papermill": {
     "duration": 0.086655,
     "end_time": "2023-01-09T17:59:52.853649",
     "exception": false,
     "start_time": "2023-01-09T17:59:52.766994",
     "status": "completed"
    },
    "tags": []
   },
   "outputs": [
    {
     "data": {
      "text/html": [
       "<div>\n",
       "<style scoped>\n",
       "    .dataframe tbody tr th:only-of-type {\n",
       "        vertical-align: middle;\n",
       "    }\n",
       "\n",
       "    .dataframe tbody tr th {\n",
       "        vertical-align: top;\n",
       "    }\n",
       "\n",
       "    .dataframe thead th {\n",
       "        text-align: right;\n",
       "    }\n",
       "</style>\n",
       "<table border=\"1\" class=\"dataframe\">\n",
       "  <thead>\n",
       "    <tr style=\"text-align: right;\">\n",
       "      <th></th>\n",
       "      <th>reviewer_score</th>\n",
       "      <th>id</th>\n",
       "    </tr>\n",
       "  </thead>\n",
       "  <tbody>\n",
       "    <tr>\n",
       "      <th>0</th>\n",
       "      <td>1</td>\n",
       "      <td>488440</td>\n",
       "    </tr>\n",
       "    <tr>\n",
       "      <th>1</th>\n",
       "      <td>10</td>\n",
       "      <td>274649</td>\n",
       "    </tr>\n",
       "    <tr>\n",
       "      <th>2</th>\n",
       "      <td>3</td>\n",
       "      <td>374688</td>\n",
       "    </tr>\n",
       "    <tr>\n",
       "      <th>3</th>\n",
       "      <td>10</td>\n",
       "      <td>404352</td>\n",
       "    </tr>\n",
       "    <tr>\n",
       "      <th>4</th>\n",
       "      <td>9</td>\n",
       "      <td>451596</td>\n",
       "    </tr>\n",
       "  </tbody>\n",
       "</table>\n",
       "</div>"
      ],
      "text/plain": [
       "   reviewer_score      id\n",
       "0               1  488440\n",
       "1              10  274649\n",
       "2               3  374688\n",
       "3              10  404352\n",
       "4               9  451596"
      ]
     },
     "execution_count": 5,
     "metadata": {},
     "output_type": "execute_result"
    }
   ],
   "source": [
    "# Загружаем сабмишн файл.\n",
    "submission = pd.read_csv(INPUT_DIR + 'submission.csv')\n",
    "submission.head()"
   ]
  },
  {
   "cell_type": "markdown",
   "id": "f484003a",
   "metadata": {
    "papermill": {
     "duration": 0.018667,
     "end_time": "2023-01-09T17:59:52.891841",
     "exception": false,
     "start_time": "2023-01-09T17:59:52.873174",
     "status": "completed"
    },
    "tags": []
   },
   "source": [
    "### Удаление дубликатов"
   ]
  },
  {
   "cell_type": "code",
   "execution_count": 6,
   "id": "d1ac48b5",
   "metadata": {
    "execution": {
     "iopub.execute_input": "2023-01-09T17:59:52.932439Z",
     "iopub.status.busy": "2023-01-09T17:59:52.931605Z",
     "iopub.status.idle": "2023-01-09T17:59:54.868008Z",
     "shell.execute_reply": "2023-01-09T17:59:54.866516Z"
    },
    "papermill": {
     "duration": 1.95987,
     "end_time": "2023-01-09T17:59:54.870842",
     "exception": false,
     "start_time": "2023-01-09T17:59:52.910972",
     "status": "completed"
    },
    "tags": []
   },
   "outputs": [
    {
     "name": "stdout",
     "output_type": "stream",
     "text": [
      "Число найденных дубликатов: 307\n",
      "Результирующее число записей: 386496\n"
     ]
    }
   ],
   "source": [
    "# Находим дубликаты.\n",
    "dupl_columns = list(hotels_train.columns)\n",
    "data_duplicates = hotels_train[hotels_train.duplicated(subset=dupl_columns)]\n",
    "print(f'Число найденных дубликатов: {data_duplicates.shape[0]}')\n",
    "\n",
    "# Удаляем дубликаты.\n",
    "hotels_train = hotels_train.drop_duplicates(subset=dupl_columns)\n",
    "print(f'Результирующее число записей: {hotels_train.shape[0]}')"
   ]
  },
  {
   "cell_type": "markdown",
   "id": "e551c25e",
   "metadata": {
    "papermill": {
     "duration": 0.018918,
     "end_time": "2023-01-09T17:59:54.909152",
     "exception": false,
     "start_time": "2023-01-09T17:59:54.890234",
     "status": "completed"
    },
    "tags": []
   },
   "source": [
    "## 2. Проектирование признаков."
   ]
  },
  {
   "cell_type": "code",
   "execution_count": 7,
   "id": "f464823d",
   "metadata": {
    "execution": {
     "iopub.execute_input": "2023-01-09T17:59:54.950196Z",
     "iopub.status.busy": "2023-01-09T17:59:54.949697Z",
     "iopub.status.idle": "2023-01-09T17:59:55.550190Z",
     "shell.execute_reply": "2023-01-09T17:59:55.548958Z"
    },
    "papermill": {
     "duration": 0.623904,
     "end_time": "2023-01-09T17:59:55.552856",
     "exception": false,
     "start_time": "2023-01-09T17:59:54.928952",
     "status": "completed"
    },
    "tags": []
   },
   "outputs": [
    {
     "data": {
      "text/html": [
       "<div>\n",
       "<style scoped>\n",
       "    .dataframe tbody tr th:only-of-type {\n",
       "        vertical-align: middle;\n",
       "    }\n",
       "\n",
       "    .dataframe tbody tr th {\n",
       "        vertical-align: top;\n",
       "    }\n",
       "\n",
       "    .dataframe thead th {\n",
       "        text-align: right;\n",
       "    }\n",
       "</style>\n",
       "<table border=\"1\" class=\"dataframe\">\n",
       "  <thead>\n",
       "    <tr style=\"text-align: right;\">\n",
       "      <th></th>\n",
       "      <th>hotel_address</th>\n",
       "      <th>additional_number_of_scoring</th>\n",
       "      <th>review_date</th>\n",
       "      <th>average_score</th>\n",
       "      <th>hotel_name</th>\n",
       "      <th>reviewer_nationality</th>\n",
       "      <th>negative_review</th>\n",
       "      <th>review_total_negative_word_counts</th>\n",
       "      <th>total_number_of_reviews</th>\n",
       "      <th>positive_review</th>\n",
       "      <th>review_total_positive_word_counts</th>\n",
       "      <th>total_number_of_reviews_reviewer_has_given</th>\n",
       "      <th>tags</th>\n",
       "      <th>days_since_review</th>\n",
       "      <th>lat</th>\n",
       "      <th>lng</th>\n",
       "      <th>sample</th>\n",
       "      <th>reviewer_score</th>\n",
       "    </tr>\n",
       "  </thead>\n",
       "  <tbody>\n",
       "    <tr>\n",
       "      <th>0</th>\n",
       "      <td>Via Senigallia 6 20161 Milan Italy</td>\n",
       "      <td>904</td>\n",
       "      <td>7/21/2017</td>\n",
       "      <td>8.1</td>\n",
       "      <td>Hotel Da Vinci</td>\n",
       "      <td>United Kingdom</td>\n",
       "      <td>Would have appreciated a shop in the hotel th...</td>\n",
       "      <td>52</td>\n",
       "      <td>16670</td>\n",
       "      <td>Hotel was great clean friendly staff free bre...</td>\n",
       "      <td>62</td>\n",
       "      <td>1</td>\n",
       "      <td>[' Leisure trip ', ' Couple ', ' Double Room '...</td>\n",
       "      <td>13 days</td>\n",
       "      <td>45.533137</td>\n",
       "      <td>9.171102</td>\n",
       "      <td>0</td>\n",
       "      <td>0.0</td>\n",
       "    </tr>\n",
       "    <tr>\n",
       "      <th>1</th>\n",
       "      <td>Arlandaweg 10 Westpoort 1043 EW Amsterdam Neth...</td>\n",
       "      <td>612</td>\n",
       "      <td>12/12/2016</td>\n",
       "      <td>8.6</td>\n",
       "      <td>Urban Lodge Hotel</td>\n",
       "      <td>Belgium</td>\n",
       "      <td>No tissue paper box was present at the room</td>\n",
       "      <td>10</td>\n",
       "      <td>5018</td>\n",
       "      <td>No Positive</td>\n",
       "      <td>0</td>\n",
       "      <td>7</td>\n",
       "      <td>[' Leisure trip ', ' Group ', ' Triple Room ',...</td>\n",
       "      <td>234 day</td>\n",
       "      <td>52.385649</td>\n",
       "      <td>4.834443</td>\n",
       "      <td>0</td>\n",
       "      <td>0.0</td>\n",
       "    </tr>\n",
       "    <tr>\n",
       "      <th>2</th>\n",
       "      <td>Mallorca 251 Eixample 08008 Barcelona Spain</td>\n",
       "      <td>46</td>\n",
       "      <td>11/26/2015</td>\n",
       "      <td>8.3</td>\n",
       "      <td>Alexandra Barcelona A DoubleTree by Hilton</td>\n",
       "      <td>Sweden</td>\n",
       "      <td>Pillows</td>\n",
       "      <td>3</td>\n",
       "      <td>351</td>\n",
       "      <td>Nice welcoming and service</td>\n",
       "      <td>5</td>\n",
       "      <td>15</td>\n",
       "      <td>[' Business trip ', ' Solo traveler ', ' Twin ...</td>\n",
       "      <td>616 day</td>\n",
       "      <td>41.393192</td>\n",
       "      <td>2.161520</td>\n",
       "      <td>0</td>\n",
       "      <td>0.0</td>\n",
       "    </tr>\n",
       "  </tbody>\n",
       "</table>\n",
       "</div>"
      ],
      "text/plain": [
       "                                       hotel_address  \\\n",
       "0                 Via Senigallia 6 20161 Milan Italy   \n",
       "1  Arlandaweg 10 Westpoort 1043 EW Amsterdam Neth...   \n",
       "2        Mallorca 251 Eixample 08008 Barcelona Spain   \n",
       "\n",
       "   additional_number_of_scoring review_date  average_score  \\\n",
       "0                           904   7/21/2017            8.1   \n",
       "1                           612  12/12/2016            8.6   \n",
       "2                            46  11/26/2015            8.3   \n",
       "\n",
       "                                   hotel_name reviewer_nationality  \\\n",
       "0                              Hotel Da Vinci      United Kingdom    \n",
       "1                           Urban Lodge Hotel             Belgium    \n",
       "2  Alexandra Barcelona A DoubleTree by Hilton              Sweden    \n",
       "\n",
       "                                     negative_review  \\\n",
       "0   Would have appreciated a shop in the hotel th...   \n",
       "1        No tissue paper box was present at the room   \n",
       "2                                           Pillows    \n",
       "\n",
       "   review_total_negative_word_counts  total_number_of_reviews  \\\n",
       "0                                 52                    16670   \n",
       "1                                 10                     5018   \n",
       "2                                  3                      351   \n",
       "\n",
       "                                     positive_review  \\\n",
       "0   Hotel was great clean friendly staff free bre...   \n",
       "1                                        No Positive   \n",
       "2                         Nice welcoming and service   \n",
       "\n",
       "   review_total_positive_word_counts  \\\n",
       "0                                 62   \n",
       "1                                  0   \n",
       "2                                  5   \n",
       "\n",
       "   total_number_of_reviews_reviewer_has_given  \\\n",
       "0                                           1   \n",
       "1                                           7   \n",
       "2                                          15   \n",
       "\n",
       "                                                tags days_since_review  \\\n",
       "0  [' Leisure trip ', ' Couple ', ' Double Room '...           13 days   \n",
       "1  [' Leisure trip ', ' Group ', ' Triple Room ',...           234 day   \n",
       "2  [' Business trip ', ' Solo traveler ', ' Twin ...           616 day   \n",
       "\n",
       "         lat       lng  sample  reviewer_score  \n",
       "0  45.533137  9.171102       0             0.0  \n",
       "1  52.385649  4.834443       0             0.0  \n",
       "2  41.393192  2.161520       0             0.0  "
      ]
     },
     "execution_count": 7,
     "metadata": {},
     "output_type": "execute_result"
    }
   ],
   "source": [
    "# Объединяем тренировочный и тестовый датасет для дальней обработки и анализа.\n",
    "hotels_train['sample'] = 1\n",
    "hotels_test['sample'] = 0\n",
    "hotels_test['reviewer_score'] = 0 \n",
    "data = hotels_test.append(hotels_train, sort=False).reset_index(drop=True)\n",
    "data.head(3)"
   ]
  },
  {
   "cell_type": "code",
   "execution_count": 8,
   "id": "3fd41e50",
   "metadata": {
    "execution": {
     "iopub.execute_input": "2023-01-09T17:59:55.593949Z",
     "iopub.status.busy": "2023-01-09T17:59:55.593489Z",
     "iopub.status.idle": "2023-01-09T17:59:55.817347Z",
     "shell.execute_reply": "2023-01-09T17:59:55.815944Z"
    },
    "papermill": {
     "duration": 0.247868,
     "end_time": "2023-01-09T17:59:55.820341",
     "exception": false,
     "start_time": "2023-01-09T17:59:55.572473",
     "status": "completed"
    },
    "tags": []
   },
   "outputs": [
    {
     "name": "stdout",
     "output_type": "stream",
     "text": [
      "<class 'pandas.core.frame.DataFrame'>\n",
      "RangeIndex: 515431 entries, 0 to 515430\n",
      "Data columns (total 18 columns):\n",
      " #   Column                                      Non-Null Count   Dtype  \n",
      "---  ------                                      --------------   -----  \n",
      " 0   hotel_address                               515431 non-null  object \n",
      " 1   additional_number_of_scoring                515431 non-null  int64  \n",
      " 2   review_date                                 515431 non-null  object \n",
      " 3   average_score                               515431 non-null  float64\n",
      " 4   hotel_name                                  515431 non-null  object \n",
      " 5   reviewer_nationality                        515431 non-null  object \n",
      " 6   negative_review                             515431 non-null  object \n",
      " 7   review_total_negative_word_counts           515431 non-null  int64  \n",
      " 8   total_number_of_reviews                     515431 non-null  int64  \n",
      " 9   positive_review                             515431 non-null  object \n",
      " 10  review_total_positive_word_counts           515431 non-null  int64  \n",
      " 11  total_number_of_reviews_reviewer_has_given  515431 non-null  int64  \n",
      " 12  tags                                        515431 non-null  object \n",
      " 13  days_since_review                           515431 non-null  object \n",
      " 14  lat                                         512163 non-null  float64\n",
      " 15  lng                                         512163 non-null  float64\n",
      " 16  sample                                      515431 non-null  int64  \n",
      " 17  reviewer_score                              515431 non-null  float64\n",
      "dtypes: float64(4), int64(6), object(8)\n",
      "memory usage: 70.8+ MB\n"
     ]
    }
   ],
   "source": [
    "# Выводим информацию о данных.\n",
    "data.info()"
   ]
  },
  {
   "cell_type": "markdown",
   "id": "bb8de983",
   "metadata": {
    "papermill": {
     "duration": 0.019475,
     "end_time": "2023-01-09T17:59:55.859867",
     "exception": false,
     "start_time": "2023-01-09T17:59:55.840392",
     "status": "completed"
    },
    "tags": []
   },
   "source": [
    "### Работа с пропусками.\n",
    "#### Имеются пропуски в датасете в столбце lat и lng. Заполним их необходимыми данными."
   ]
  },
  {
   "cell_type": "code",
   "execution_count": 9,
   "id": "2b5e8c14",
   "metadata": {
    "execution": {
     "iopub.execute_input": "2023-01-09T17:59:55.901273Z",
     "iopub.status.busy": "2023-01-09T17:59:55.900254Z",
     "iopub.status.idle": "2023-01-09T17:59:55.916665Z",
     "shell.execute_reply": "2023-01-09T17:59:55.915426Z"
    },
    "papermill": {
     "duration": 0.039708,
     "end_time": "2023-01-09T17:59:55.919027",
     "exception": false,
     "start_time": "2023-01-09T17:59:55.879319",
     "status": "completed"
    },
    "tags": []
   },
   "outputs": [
    {
     "data": {
      "text/plain": [
       "['20 Rue De La Ga t 14th arr 75014 Paris France',\n",
       " '23 Rue Damr mont 18th arr 75018 Paris France',\n",
       " '4 rue de la P pini re 8th arr 75008 Paris France',\n",
       " 'Bail n 4 6 Eixample 08010 Barcelona Spain',\n",
       " 'Gr nentorgasse 30 09 Alsergrund 1090 Vienna Austria',\n",
       " 'Hasenauerstra e 12 19 D bling 1190 Vienna Austria',\n",
       " 'Josefst dter Stra e 10 12 08 Josefstadt 1080 Vienna Austria',\n",
       " 'Josefst dter Stra e 22 08 Josefstadt 1080 Vienna Austria',\n",
       " 'Landstra er G rtel 5 03 Landstra e 1030 Vienna Austria',\n",
       " 'Paragonstra e 1 11 Simmering 1110 Vienna Austria',\n",
       " 'Pau Clar s 122 Eixample 08009 Barcelona Spain',\n",
       " 'Savoyenstra e 2 16 Ottakring 1160 Vienna Austria',\n",
       " 'Sep lveda 180 Eixample 08011 Barcelona Spain',\n",
       " 'Sieveringer Stra e 4 19 D bling 1190 Vienna Austria',\n",
       " 'Taborstra e 8 A 02 Leopoldstadt 1020 Vienna Austria',\n",
       " 'W hringer Stra e 12 09 Alsergrund 1090 Vienna Austria',\n",
       " 'W hringer Stra e 33 35 09 Alsergrund 1090 Vienna Austria']"
      ]
     },
     "execution_count": 9,
     "metadata": {},
     "output_type": "execute_result"
    }
   ],
   "source": [
    "# Выводим список адресов отелей с отсутствующими координатами.\n",
    "data[data['lat'].isnull()].groupby(['hotel_address'])['hotel_address'].count().index.to_list()"
   ]
  },
  {
   "cell_type": "markdown",
   "id": "8cfc5156",
   "metadata": {
    "papermill": {
     "duration": 0.019681,
     "end_time": "2023-01-09T17:59:55.958326",
     "exception": false,
     "start_time": "2023-01-09T17:59:55.938645",
     "status": "completed"
    },
    "tags": []
   },
   "source": [
    "#### В списке всего 17 отелей. Поэтому создами словарь с координатами отелей."
   ]
  },
  {
   "cell_type": "code",
   "execution_count": 10,
   "id": "aab66ac0",
   "metadata": {
    "execution": {
     "iopub.execute_input": "2023-01-09T17:59:55.999887Z",
     "iopub.status.busy": "2023-01-09T17:59:55.999210Z",
     "iopub.status.idle": "2023-01-09T17:59:56.008179Z",
     "shell.execute_reply": "2023-01-09T17:59:56.007290Z"
    },
    "papermill": {
     "duration": 0.032654,
     "end_time": "2023-01-09T17:59:56.010592",
     "exception": false,
     "start_time": "2023-01-09T17:59:55.977938",
     "status": "completed"
    },
    "tags": []
   },
   "outputs": [],
   "source": [
    "# Словарь с шириной отелей.\n",
    "lat_dict = {'Josefst dter Stra e 10 12 08 Josefstadt 1080 Vienna Austria': 48.209648,\n",
    " 'Taborstra e 8 A 02 Leopoldstadt 1020 Vienna Austria': 48.213559,\n",
    " 'W hringer Stra e 33 35 09 Alsergrund 1090 Vienna Austria': 48.220269,\n",
    " '4 rue de la P pini re 8th arr 75008 Paris France': 48.875140,\n",
    " 'Landstra er G rtel 5 03 Landstra e 1030 Vienna Austria': 48.188888,\n",
    " 'W hringer Stra e 12 09 Alsergrund 1090 Vienna Austria': 48.216778,\n",
    " 'Savoyenstra e 2 16 Ottakring 1160 Vienna Austria': 48.215178,\n",
    " 'Sieveringer Stra e 4 19 D bling 1190 Vienna Austria': 48.245887,\n",
    " 'Bail n 4 6 Eixample 08010 Barcelona Spain': 41.391967,\n",
    " 'Gr nentorgasse 30 09 Alsergrund 1090 Vienna Austria': 48.207910,\n",
    " 'Hasenauerstra e 12 19 D bling 1190 Vienna Austria': 48.233562,\n",
    " 'Josefst dter Stra e 22 08 Josefstadt 1080 Vienna Austria': 48.209580,\n",
    " '23 Rue Damr mont 18th arr 75018 Paris France': 48.884582,\n",
    " 'Paragonstra e 1 11 Simmering 1110 Vienna Austria': 48.163757,\n",
    " '20 Rue De La Ga t 14th arr 75014 Paris France': 48.856818,\n",
    " 'Pau Clar s 122 Eixample 08009 Barcelona Spain': 41.392789,\n",
    " 'Sep lveda 180 Eixample 08011 Barcelona Spain': 41.384733}\n",
    "\n",
    "# Словарь с долготой отелей.\n",
    "lng_dict = {'Josefst dter Stra e 10 12 08 Josefstadt 1080 Vienna Austria': 16.353161,\n",
    " 'Taborstra e 8 A 02 Leopoldstadt 1020 Vienna Austria': 16.380100,\n",
    " 'W hringer Stra e 33 35 09 Alsergrund 1090 Vienna Austria': 16.355809,\n",
    " '4 rue de la P pini re 8th arr 75008 Paris France': 2.304705,\n",
    " 'Landstra er G rtel 5 03 Landstra e 1030 Vienna Austria': 16.383891,\n",
    " 'W hringer Stra e 12 09 Alsergrund 1090 Vienna Austria': 16.360074,\n",
    " 'Savoyenstra e 2 16 Ottakring 1160 Vienna Austria': 16.303380,\n",
    " 'Sieveringer Stra e 4 19 D bling 1190 Vienna Austria': 16.341940,\n",
    " 'Bail n 4 6 Eixample 08010 Barcelona Spain': 2.175728,\n",
    " 'Gr nentorgasse 30 09 Alsergrund 1090 Vienna Austria': 16.394933,\n",
    " 'Hasenauerstra e 12 19 D bling 1190 Vienna Austria': 16.345668,\n",
    " 'Josefst dter Stra e 22 08 Josefstadt 1080 Vienna Austria': 16.351433,\n",
    " '23 Rue Damr mont 18th arr 75018 Paris France': 2.324640,\n",
    " 'Paragonstra e 1 11 Simmering 1110 Vienna Austria': 16.445799,\n",
    " '20 Rue De La Ga t 14th arr 75014 Paris France': 2.304722,\n",
    " 'Pau Clar s 122 Eixample 08009 Barcelona Spain': 2.167397,\n",
    " 'Sep lveda 180 Eixample 08011 Barcelona Spain': 2.160988}"
   ]
  },
  {
   "cell_type": "code",
   "execution_count": 11,
   "id": "596024cf",
   "metadata": {
    "execution": {
     "iopub.execute_input": "2023-01-09T17:59:56.052410Z",
     "iopub.status.busy": "2023-01-09T17:59:56.051978Z",
     "iopub.status.idle": "2023-01-09T17:59:56.331799Z",
     "shell.execute_reply": "2023-01-09T17:59:56.330432Z"
    },
    "papermill": {
     "duration": 0.30424,
     "end_time": "2023-01-09T17:59:56.334667",
     "exception": false,
     "start_time": "2023-01-09T17:59:56.030427",
     "status": "completed"
    },
    "tags": []
   },
   "outputs": [],
   "source": [
    "def lat(arg):\n",
    "    \"\"\"Функция заполнения координаты ширины отеля\"\"\"\n",
    "    if arg in lat_dict:\n",
    "        return lat_dict[arg]\n",
    "    \n",
    "    \n",
    "def lng(arg):\n",
    "    \"\"\"Функция заполнения координаты долготы отеля\"\"\"\n",
    "    if arg in lng_dict:\n",
    "        return lng_dict[arg]\n",
    "\n",
    "# Заполняем пропуски с помощью функций. \n",
    "data['lat'] = data['lat'].fillna(data['hotel_address'].apply(lat))\n",
    "data['lng'] = data['lng'].fillna(data['hotel_address'].apply(lng))"
   ]
  },
  {
   "cell_type": "markdown",
   "id": "ac0bbe07",
   "metadata": {
    "papermill": {
     "duration": 0.019421,
     "end_time": "2023-01-09T17:59:56.374193",
     "exception": false,
     "start_time": "2023-01-09T17:59:56.354772",
     "status": "completed"
    },
    "tags": []
   },
   "source": [
    "## Признак даты отзыва ['review_date'].\n",
    "#### Переведем признак даты отзыва  в формат дыты и создадим новые признаки: месяц и день недели."
   ]
  },
  {
   "cell_type": "code",
   "execution_count": 12,
   "id": "7c01a697",
   "metadata": {
    "execution": {
     "iopub.execute_input": "2023-01-09T17:59:56.415735Z",
     "iopub.status.busy": "2023-01-09T17:59:56.415283Z",
     "iopub.status.idle": "2023-01-09T17:59:56.813848Z",
     "shell.execute_reply": "2023-01-09T17:59:56.812653Z"
    },
    "papermill": {
     "duration": 0.422721,
     "end_time": "2023-01-09T17:59:56.816611",
     "exception": false,
     "start_time": "2023-01-09T17:59:56.393890",
     "status": "completed"
    },
    "tags": []
   },
   "outputs": [],
   "source": [
    "# Создаем признак месяца отзыва и дня недели. \n",
    "data['review_month'] = pd.to_datetime(data['review_date']).dt.month\n",
    "data['review_week'] = pd.to_datetime(data['review_date']).dt.day_of_week"
   ]
  },
  {
   "cell_type": "markdown",
   "id": "5c79b7e6",
   "metadata": {
    "papermill": {
     "duration": 0.019489,
     "end_time": "2023-01-09T17:59:56.856667",
     "exception": false,
     "start_time": "2023-01-09T17:59:56.837178",
     "status": "completed"
    },
    "tags": []
   },
   "source": [
    "#### Посмотрим на среднюю оценку рецензента в зависимости от месяца и для недели отзыва."
   ]
  },
  {
   "cell_type": "code",
   "execution_count": 13,
   "id": "e455bd22",
   "metadata": {
    "execution": {
     "iopub.execute_input": "2023-01-09T17:59:56.898753Z",
     "iopub.status.busy": "2023-01-09T17:59:56.897919Z",
     "iopub.status.idle": "2023-01-09T17:59:57.655169Z",
     "shell.execute_reply": "2023-01-09T17:59:57.653952Z"
    },
    "papermill": {
     "duration": 0.781103,
     "end_time": "2023-01-09T17:59:57.657845",
     "exception": false,
     "start_time": "2023-01-09T17:59:56.876742",
     "status": "completed"
    },
    "tags": []
   },
   "outputs": [
    {
     "data": {
      "image/png": "[encoded data removed]",
      "text/plain": [
       "<Figure size 1368x360 with 2 Axes>"
      ]
     },
     "metadata": {
      "needs_background": "light"
     },
     "output_type": "display_data"
    }
   ],
   "source": [
    "# Создадим таблицы с необходимыми данными для визуализации.\n",
    "reviewer_score_month = data[data['sample']==1].pivot_table(\n",
    "    values='reviewer_score', \n",
    "    index='review_month', \n",
    "    aggfunc='mean')\n",
    "reviewer_score_week = data[data['sample']==1].pivot_table(\n",
    "    values='reviewer_score', \n",
    "    index='review_week', \n",
    "    aggfunc='mean')\n",
    "\n",
    "# Создаем фигуру для диаграмм.\n",
    "fig, axs = plt.subplots(1, 2, figsize=(19, 5))\n",
    "\n",
    "# Создаем стобчатую диаграмму зависимости оценки рецензента от месяца отзыва.\n",
    "sns.barplot(\n",
    "    data = reviewer_score_month,\n",
    "    x = reviewer_score_month.index, \n",
    "    y = 'reviewer_score',\n",
    "    ax = axs[0])\n",
    "\n",
    "# Создаем стобчатую диаграмму зависимости оценки рецензента от для недели отзыва.\n",
    "sns.barplot(\n",
    "    data = reviewer_score_week,\n",
    "    x = reviewer_score_week.index, \n",
    "    y = 'reviewer_score',\n",
    "    ax = axs[1])\n",
    "\n",
    "# Корректируем диаграмму для лучшей наглядности.\n",
    "axs[0].set_title('Средняя оценка от рецензента, в зависимости от месяца отзыва',  \n",
    "    fontsize=15)\n",
    "axs[0].set_ylim(8.25, 8.55)\n",
    "axs[1].set_title('Средняя оценка от рецензента, в зависимости от дня недели отзыва',  \n",
    "    fontsize=15)\n",
    "axs[1].set_ylim(8.25, 8.55);\n"
   ]
  },
  {
   "cell_type": "markdown",
   "id": "5f1bf49b",
   "metadata": {
    "execution": {
     "iopub.execute_input": "2023-01-08T20:55:56.409587Z",
     "iopub.status.busy": "2023-01-08T20:55:56.408393Z",
     "iopub.status.idle": "2023-01-08T20:55:56.414196Z",
     "shell.execute_reply": "2023-01-08T20:55:56.413197Z",
     "shell.execute_reply.started": "2023-01-08T20:55:56.409540Z"
    },
    "papermill": {
     "duration": 0.019718,
     "end_time": "2023-01-09T17:59:57.697987",
     "exception": false,
     "start_time": "2023-01-09T17:59:57.678269",
     "status": "completed"
    },
    "tags": []
   },
   "source": [
    "##### Люди отправляющиеся на отдых в зимнее время ставят в среднем выше оценки."
   ]
  },
  {
   "cell_type": "markdown",
   "id": "77a75b2e",
   "metadata": {
    "papermill": {
     "duration": 0.020221,
     "end_time": "2023-01-09T17:59:57.738363",
     "exception": false,
     "start_time": "2023-01-09T17:59:57.718142",
     "status": "completed"
    },
    "tags": []
   },
   "source": [
    "## Признак адреса отеля ['hotel_address']."
   ]
  },
  {
   "cell_type": "code",
   "execution_count": 14,
   "id": "c004b3f1",
   "metadata": {
    "execution": {
     "iopub.execute_input": "2023-01-09T17:59:57.780314Z",
     "iopub.status.busy": "2023-01-09T17:59:57.779865Z",
     "iopub.status.idle": "2023-01-09T17:59:58.300814Z",
     "shell.execute_reply": "2023-01-09T17:59:58.299451Z"
    },
    "papermill": {
     "duration": 0.545179,
     "end_time": "2023-01-09T17:59:58.303565",
     "exception": false,
     "start_time": "2023-01-09T17:59:57.758386",
     "status": "completed"
    },
    "tags": []
   },
   "outputs": [],
   "source": [
    "def address(address):\n",
    "    \"\"\"Функция выведения города и страны нахождения отеля\"\"\"\n",
    "    if 'Kingdom' in address:\n",
    "        return address.split()[-5]+', United Kingdom'\n",
    "    else:\n",
    "        city = address.split()[-2::]\n",
    "        return ', '.join(city)\n",
    "\n",
    "# Создаем признак страны и города нахождения отеля.\n",
    "data['country'] = data['hotel_address'].apply(address)"
   ]
  },
  {
   "cell_type": "markdown",
   "id": "cc0b50a9",
   "metadata": {
    "papermill": {
     "duration": 0.019831,
     "end_time": "2023-01-09T17:59:58.343523",
     "exception": false,
     "start_time": "2023-01-09T17:59:58.323692",
     "status": "completed"
    },
    "tags": []
   },
   "source": [
    "#### Посмотрим на среднюю оценку рецензента в зависимости от города отеля."
   ]
  },
  {
   "cell_type": "code",
   "execution_count": 15,
   "id": "51f6f3ab",
   "metadata": {
    "execution": {
     "iopub.execute_input": "2023-01-09T17:59:58.385765Z",
     "iopub.status.busy": "2023-01-09T17:59:58.384969Z",
     "iopub.status.idle": "2023-01-09T17:59:58.943343Z",
     "shell.execute_reply": "2023-01-09T17:59:58.942202Z"
    },
    "papermill": {
     "duration": 0.582426,
     "end_time": "2023-01-09T17:59:58.946010",
     "exception": false,
     "start_time": "2023-01-09T17:59:58.363584",
     "status": "completed"
    },
    "tags": []
   },
   "outputs": [
    {
     "data": {
      "image/png": "[encoded data removed]",
      "text/plain": [
       "<Figure size 792x360 with 1 Axes>"
      ]
     },
     "metadata": {
      "needs_background": "light"
     },
     "output_type": "display_data"
    }
   ],
   "source": [
    "# Создадим таблицу с необходимыми данными для визуализации.\n",
    "reviewer_score_country = data[data['sample']==1].pivot_table(\n",
    "    values='reviewer_score', \n",
    "    index='country', \n",
    "    aggfunc='mean')\n",
    "\n",
    "# Создаем столбчатую диаграмму.\n",
    "plt.figure(figsize=(11, 5))\n",
    "barplot_m = sns.barplot(\n",
    "    data = reviewer_score_country,\n",
    "    x = reviewer_score_country.index, \n",
    "    y = 'reviewer_score')\n",
    "\n",
    "# Корректируем диаграмму для лучшей наглядности.\n",
    "plt.suptitle('Средняя оценка от рецензента, в зависимости от страны',  \n",
    "    fontsize=15)\n",
    "plt.xticks(rotation= 45)\n",
    "plt.ylim(8, 8.6);"
   ]
  },
  {
   "cell_type": "markdown",
   "id": "e8f8263c",
   "metadata": {
    "papermill": {
     "duration": 0.020694,
     "end_time": "2023-01-09T17:59:58.988032",
     "exception": false,
     "start_time": "2023-01-09T17:59:58.967338",
     "status": "completed"
    },
    "tags": []
   },
   "source": [
    "##### Люди останавливающиеся с отелях Варселоны и Вены ставят немного выше оценки. "
   ]
  },
  {
   "cell_type": "markdown",
   "id": "6aa3be28",
   "metadata": {
    "papermill": {
     "duration": 0.020923,
     "end_time": "2023-01-09T17:59:59.030385",
     "exception": false,
     "start_time": "2023-01-09T17:59:59.009462",
     "status": "completed"
    },
    "tags": []
   },
   "source": [
    "### Признак национальности рецензента ['hotel_address']."
   ]
  },
  {
   "cell_type": "code",
   "execution_count": 16,
   "id": "122701ed",
   "metadata": {
    "execution": {
     "iopub.execute_input": "2023-01-09T17:59:59.074426Z",
     "iopub.status.busy": "2023-01-09T17:59:59.073993Z",
     "iopub.status.idle": "2023-01-09T17:59:59.341013Z",
     "shell.execute_reply": "2023-01-09T17:59:59.340000Z"
    },
    "papermill": {
     "duration": 0.292314,
     "end_time": "2023-01-09T17:59:59.343723",
     "exception": false,
     "start_time": "2023-01-09T17:59:59.051409",
     "status": "completed"
    },
    "tags": []
   },
   "outputs": [],
   "source": [
    "def nationality(arg):\n",
    "    \"\"\"Функция корректировки названий городов для дальнейшей обработки данных.\"\"\"\n",
    "    arg = arg[1:-1]\n",
    "    if arg == 'United States of America':\n",
    "        return arg.replace('United States of America', 'United States')\n",
    "    elif arg == 'Bosnia and Herzegovina':\n",
    "        return arg.replace('Bosnia and Herzegovina', 'Bosnia And Herzegovina')\n",
    "    elif arg == 'Abkhazia Georgia':\n",
    "        return arg.replace('Abkhazia Georgia', 'Georgia')\n",
    "    elif arg == 'Brunei':\n",
    "        return arg.replace('Brunei', 'Brunei Darussalam')\n",
    "    return arg\n",
    "\n",
    "# Запускаем функцию корректировки названий городов.\n",
    "data['reviewer_nationality'] = data['reviewer_nationality'].apply(nationality)"
   ]
  },
  {
   "cell_type": "markdown",
   "id": "2f93baba",
   "metadata": {
    "papermill": {
     "duration": 0.020171,
     "end_time": "2023-01-09T17:59:59.384490",
     "exception": false,
     "start_time": "2023-01-09T17:59:59.364319",
     "status": "completed"
    },
    "tags": []
   },
   "source": [
    "#### Для дальнейшей обработки создадим новый признак с кодом страны рецензента."
   ]
  },
  {
   "cell_type": "code",
   "execution_count": 17,
   "id": "29e8860b",
   "metadata": {
    "execution": {
     "iopub.execute_input": "2023-01-09T17:59:59.428096Z",
     "iopub.status.busy": "2023-01-09T17:59:59.427703Z",
     "iopub.status.idle": "2023-01-09T17:59:59.451342Z",
     "shell.execute_reply": "2023-01-09T17:59:59.450276Z"
    },
    "papermill": {
     "duration": 0.047708,
     "end_time": "2023-01-09T17:59:59.453437",
     "exception": false,
     "start_time": "2023-01-09T17:59:59.405729",
     "status": "completed"
    },
    "tags": []
   },
   "outputs": [
    {
     "data": {
      "text/html": [
       "<div>\n",
       "<style scoped>\n",
       "    .dataframe tbody tr th:only-of-type {\n",
       "        vertical-align: middle;\n",
       "    }\n",
       "\n",
       "    .dataframe tbody tr th {\n",
       "        vertical-align: top;\n",
       "    }\n",
       "\n",
       "    .dataframe thead th {\n",
       "        text-align: right;\n",
       "    }\n",
       "</style>\n",
       "<table border=\"1\" class=\"dataframe\">\n",
       "  <thead>\n",
       "    <tr style=\"text-align: right;\">\n",
       "      <th></th>\n",
       "      <th>reviewer_nationality</th>\n",
       "      <th>country-code</th>\n",
       "    </tr>\n",
       "  </thead>\n",
       "  <tbody>\n",
       "    <tr>\n",
       "      <th>0</th>\n",
       "      <td>Afghanistan</td>\n",
       "      <td>4</td>\n",
       "    </tr>\n",
       "    <tr>\n",
       "      <th>1</th>\n",
       "      <td>Åland Islands</td>\n",
       "      <td>248</td>\n",
       "    </tr>\n",
       "    <tr>\n",
       "      <th>2</th>\n",
       "      <td>Albania</td>\n",
       "      <td>8</td>\n",
       "    </tr>\n",
       "    <tr>\n",
       "      <th>3</th>\n",
       "      <td>Algeria</td>\n",
       "      <td>12</td>\n",
       "    </tr>\n",
       "    <tr>\n",
       "      <th>4</th>\n",
       "      <td>American Samoa</td>\n",
       "      <td>16</td>\n",
       "    </tr>\n",
       "  </tbody>\n",
       "</table>\n",
       "</div>"
      ],
      "text/plain": [
       "  reviewer_nationality  country-code\n",
       "0          Afghanistan             4\n",
       "1        Åland Islands           248\n",
       "2              Albania             8\n",
       "3              Algeria            12\n",
       "4       American Samoa            16"
      ]
     },
     "execution_count": 17,
     "metadata": {},
     "output_type": "execute_result"
    }
   ],
   "source": [
    "# Загрузим датафрейм с кодами стран.\n",
    "country = pd.read_csv('../input/country/' + 'country_code.csv')\n",
    "country = country.rename(columns = {'name' : 'reviewer_nationality'})\n",
    "country.head()"
   ]
  },
  {
   "cell_type": "code",
   "execution_count": 18,
   "id": "ffb67614",
   "metadata": {
    "execution": {
     "iopub.execute_input": "2023-01-09T17:59:59.496610Z",
     "iopub.status.busy": "2023-01-09T17:59:59.495873Z",
     "iopub.status.idle": "2023-01-09T18:00:00.533545Z",
     "shell.execute_reply": "2023-01-09T18:00:00.532252Z"
    },
    "papermill": {
     "duration": 1.061785,
     "end_time": "2023-01-09T18:00:00.535868",
     "exception": false,
     "start_time": "2023-01-09T17:59:59.474083",
     "status": "completed"
    },
    "tags": []
   },
   "outputs": [
    {
     "data": {
      "text/html": [
       "<div>\n",
       "<style scoped>\n",
       "    .dataframe tbody tr th:only-of-type {\n",
       "        vertical-align: middle;\n",
       "    }\n",
       "\n",
       "    .dataframe tbody tr th {\n",
       "        vertical-align: top;\n",
       "    }\n",
       "\n",
       "    .dataframe thead th {\n",
       "        text-align: right;\n",
       "    }\n",
       "</style>\n",
       "<table border=\"1\" class=\"dataframe\">\n",
       "  <thead>\n",
       "    <tr style=\"text-align: right;\">\n",
       "      <th></th>\n",
       "      <th>hotel_address</th>\n",
       "      <th>additional_number_of_scoring</th>\n",
       "      <th>review_date</th>\n",
       "      <th>average_score</th>\n",
       "      <th>hotel_name</th>\n",
       "      <th>reviewer_nationality</th>\n",
       "      <th>negative_review</th>\n",
       "      <th>review_total_negative_word_counts</th>\n",
       "      <th>total_number_of_reviews</th>\n",
       "      <th>positive_review</th>\n",
       "      <th>...</th>\n",
       "      <th>tags</th>\n",
       "      <th>days_since_review</th>\n",
       "      <th>lat</th>\n",
       "      <th>lng</th>\n",
       "      <th>sample</th>\n",
       "      <th>reviewer_score</th>\n",
       "      <th>review_month</th>\n",
       "      <th>review_week</th>\n",
       "      <th>country</th>\n",
       "      <th>country-code</th>\n",
       "    </tr>\n",
       "  </thead>\n",
       "  <tbody>\n",
       "    <tr>\n",
       "      <th>0</th>\n",
       "      <td>Via Senigallia 6 20161 Milan Italy</td>\n",
       "      <td>904</td>\n",
       "      <td>7/21/2017</td>\n",
       "      <td>8.1</td>\n",
       "      <td>Hotel Da Vinci</td>\n",
       "      <td>United Kingdom</td>\n",
       "      <td>Would have appreciated a shop in the hotel th...</td>\n",
       "      <td>52</td>\n",
       "      <td>16670</td>\n",
       "      <td>Hotel was great clean friendly staff free bre...</td>\n",
       "      <td>...</td>\n",
       "      <td>[' Leisure trip ', ' Couple ', ' Double Room '...</td>\n",
       "      <td>13 days</td>\n",
       "      <td>45.533137</td>\n",
       "      <td>9.171102</td>\n",
       "      <td>0</td>\n",
       "      <td>0.0</td>\n",
       "      <td>7</td>\n",
       "      <td>4</td>\n",
       "      <td>Milan, Italy</td>\n",
       "      <td>826.0</td>\n",
       "    </tr>\n",
       "    <tr>\n",
       "      <th>1</th>\n",
       "      <td>Arlandaweg 10 Westpoort 1043 EW Amsterdam Neth...</td>\n",
       "      <td>612</td>\n",
       "      <td>12/12/2016</td>\n",
       "      <td>8.6</td>\n",
       "      <td>Urban Lodge Hotel</td>\n",
       "      <td>Belgium</td>\n",
       "      <td>No tissue paper box was present at the room</td>\n",
       "      <td>10</td>\n",
       "      <td>5018</td>\n",
       "      <td>No Positive</td>\n",
       "      <td>...</td>\n",
       "      <td>[' Leisure trip ', ' Group ', ' Triple Room ',...</td>\n",
       "      <td>234 day</td>\n",
       "      <td>52.385649</td>\n",
       "      <td>4.834443</td>\n",
       "      <td>0</td>\n",
       "      <td>0.0</td>\n",
       "      <td>12</td>\n",
       "      <td>0</td>\n",
       "      <td>Amsterdam, Netherlands</td>\n",
       "      <td>56.0</td>\n",
       "    </tr>\n",
       "    <tr>\n",
       "      <th>2</th>\n",
       "      <td>Mallorca 251 Eixample 08008 Barcelona Spain</td>\n",
       "      <td>46</td>\n",
       "      <td>11/26/2015</td>\n",
       "      <td>8.3</td>\n",
       "      <td>Alexandra Barcelona A DoubleTree by Hilton</td>\n",
       "      <td>Sweden</td>\n",
       "      <td>Pillows</td>\n",
       "      <td>3</td>\n",
       "      <td>351</td>\n",
       "      <td>Nice welcoming and service</td>\n",
       "      <td>...</td>\n",
       "      <td>[' Business trip ', ' Solo traveler ', ' Twin ...</td>\n",
       "      <td>616 day</td>\n",
       "      <td>41.393192</td>\n",
       "      <td>2.161520</td>\n",
       "      <td>0</td>\n",
       "      <td>0.0</td>\n",
       "      <td>11</td>\n",
       "      <td>3</td>\n",
       "      <td>Barcelona, Spain</td>\n",
       "      <td>752.0</td>\n",
       "    </tr>\n",
       "  </tbody>\n",
       "</table>\n",
       "<p>3 rows × 22 columns</p>\n",
       "</div>"
      ],
      "text/plain": [
       "                                       hotel_address  \\\n",
       "0                 Via Senigallia 6 20161 Milan Italy   \n",
       "1  Arlandaweg 10 Westpoort 1043 EW Amsterdam Neth...   \n",
       "2        Mallorca 251 Eixample 08008 Barcelona Spain   \n",
       "\n",
       "   additional_number_of_scoring review_date  average_score  \\\n",
       "0                           904   7/21/2017            8.1   \n",
       "1                           612  12/12/2016            8.6   \n",
       "2                            46  11/26/2015            8.3   \n",
       "\n",
       "                                   hotel_name reviewer_nationality  \\\n",
       "0                              Hotel Da Vinci       United Kingdom   \n",
       "1                           Urban Lodge Hotel              Belgium   \n",
       "2  Alexandra Barcelona A DoubleTree by Hilton               Sweden   \n",
       "\n",
       "                                     negative_review  \\\n",
       "0   Would have appreciated a shop in the hotel th...   \n",
       "1        No tissue paper box was present at the room   \n",
       "2                                           Pillows    \n",
       "\n",
       "   review_total_negative_word_counts  total_number_of_reviews  \\\n",
       "0                                 52                    16670   \n",
       "1                                 10                     5018   \n",
       "2                                  3                      351   \n",
       "\n",
       "                                     positive_review  ...  \\\n",
       "0   Hotel was great clean friendly staff free bre...  ...   \n",
       "1                                        No Positive  ...   \n",
       "2                         Nice welcoming and service  ...   \n",
       "\n",
       "                                                tags  days_since_review  \\\n",
       "0  [' Leisure trip ', ' Couple ', ' Double Room '...            13 days   \n",
       "1  [' Leisure trip ', ' Group ', ' Triple Room ',...            234 day   \n",
       "2  [' Business trip ', ' Solo traveler ', ' Twin ...            616 day   \n",
       "\n",
       "         lat       lng  sample  reviewer_score  review_month  review_week  \\\n",
       "0  45.533137  9.171102       0             0.0             7            4   \n",
       "1  52.385649  4.834443       0             0.0            12            0   \n",
       "2  41.393192  2.161520       0             0.0            11            3   \n",
       "\n",
       "                  country  country-code  \n",
       "0            Milan, Italy         826.0  \n",
       "1  Amsterdam, Netherlands          56.0  \n",
       "2        Barcelona, Spain         752.0  \n",
       "\n",
       "[3 rows x 22 columns]"
      ]
     },
     "execution_count": 18,
     "metadata": {},
     "output_type": "execute_result"
    }
   ],
   "source": [
    "# Подсоединяем к основному датафрейму коды стран.\n",
    "data = pd.merge(data, country, how = 'left', on='reviewer_nationality')\n",
    "data.head(3)"
   ]
  },
  {
   "cell_type": "code",
   "execution_count": 19,
   "id": "b8566487",
   "metadata": {
    "execution": {
     "iopub.execute_input": "2023-01-09T18:00:00.579242Z",
     "iopub.status.busy": "2023-01-09T18:00:00.578801Z",
     "iopub.status.idle": "2023-01-09T18:00:00.588110Z",
     "shell.execute_reply": "2023-01-09T18:00:00.586968Z"
    },
    "papermill": {
     "duration": 0.033674,
     "end_time": "2023-01-09T18:00:00.590556",
     "exception": false,
     "start_time": "2023-01-09T18:00:00.556882",
     "status": "completed"
    },
    "tags": []
   },
   "outputs": [],
   "source": [
    "# Заполняем пропуски с неизвестными странами.\n",
    "data['country-code'] = data['country-code'].fillna(1)"
   ]
  },
  {
   "cell_type": "markdown",
   "id": "691277df",
   "metadata": {
    "execution": {
     "iopub.execute_input": "2023-01-08T01:19:18.289998Z",
     "iopub.status.busy": "2023-01-08T01:19:18.289536Z",
     "iopub.status.idle": "2023-01-08T01:19:18.295642Z",
     "shell.execute_reply": "2023-01-08T01:19:18.294502Z",
     "shell.execute_reply.started": "2023-01-08T01:19:18.289963Z"
    },
    "papermill": {
     "duration": 0.020425,
     "end_time": "2023-01-09T18:00:00.631966",
     "exception": false,
     "start_time": "2023-01-09T18:00:00.611541",
     "status": "completed"
    },
    "tags": []
   },
   "source": [
    "### Признак отрицательный отзыв ['negative_review']."
   ]
  },
  {
   "cell_type": "code",
   "execution_count": 20,
   "id": "f64f419e",
   "metadata": {
    "execution": {
     "iopub.execute_input": "2023-01-09T18:00:00.675532Z",
     "iopub.status.busy": "2023-01-09T18:00:00.675086Z",
     "iopub.status.idle": "2023-01-09T18:00:00.996135Z",
     "shell.execute_reply": "2023-01-09T18:00:00.994867Z"
    },
    "papermill": {
     "duration": 0.346118,
     "end_time": "2023-01-09T18:00:00.998782",
     "exception": false,
     "start_time": "2023-01-09T18:00:00.652664",
     "status": "completed"
    },
    "tags": []
   },
   "outputs": [],
   "source": [
    "# Приведем отзывы к нижнему регистру и уберем пробелы в начале и конце.\n",
    "data['negative_review'] = [x.lower().strip() for x in data['negative_review']]"
   ]
  },
  {
   "cell_type": "code",
   "execution_count": 21,
   "id": "ba4b43a8",
   "metadata": {
    "execution": {
     "iopub.execute_input": "2023-01-09T18:00:01.045259Z",
     "iopub.status.busy": "2023-01-09T18:00:01.044828Z",
     "iopub.status.idle": "2023-01-09T18:00:01.065916Z",
     "shell.execute_reply": "2023-01-09T18:00:01.064703Z"
    },
    "papermill": {
     "duration": 0.04755,
     "end_time": "2023-01-09T18:00:01.068623",
     "exception": false,
     "start_time": "2023-01-09T18:00:01.021073",
     "status": "completed"
    },
    "tags": []
   },
   "outputs": [],
   "source": [
    "# Создадим список ложно-отрицательных отзывов.\n",
    "fake_neg_list1 = ['no negative', 'nothing', 'n a', 'none', '', 'nothing really', 'all good', 'no complaints', 'nothing at all', 'everything',\n",
    " 'nothing to dislike', 'everything was perfect', 'nil',  'na', 'can t think of anything','leaving',  'absolutely nothing',\n",
    " 'everything was great', 'nothing to complain about', 'no', 'nothing not to like',  'nothing all good','having to leave','not much',\n",
    " 'i liked everything','everything was good', 'liked everything',  'nothing it was perfect','non','nothing everything was perfect',\n",
    " 'nothing in particular', 'nothing everything was great','everything was fine', 'not applicable', 'all was good',               \n",
    " 'nothing comes to mind', 'there was nothing i didn t like', 'not a thing', 'nothing i didn t like', 'no negatives','no complaints at all',\n",
    " 'we liked everything', 'all ok', 'nothing to report', 'no thing', 'there was nothing to dislike', 'it was all good',\n",
    " 'there was nothing we didn t like','loved everything', 'nothing i can think of', 'no dislikes', 'nothing to say',\n",
    " 'nothing to mention', 'no bad experience', 'no issues', 'there was nothing not to like', 'nothing to complain', 'no comment', \n",
    " 'everything was ok', 'everything was excellent','no problems', 'nothing we didn t like', 'nada',\n",
    " 'nothing special', 'nothing bad to say', 'nothing bad', 'all great', 'i loved everything', 'nothing could have been better',\n",
    " 'liked it all', 'nothing to not like',              \n",
    " 'couldn t fault it', 'no comments', 'going home', 'nothing it was all good', 'nothing much', 'that we had to leave',\n",
    " 'it was perfect', 'nothing it was great', 'there wasn t anything we didn t like', 'nothing to fault',\n",
    " 'what s not to like', 'loved it all', 'nothing all was good', 'nothing negative to say', 'cannot think of anything',\n",
    " 'no bad experiences', 'i have no complaints', 'i liked it all', 'nothing all was great',\n",
    " 'that we couldn t stay longer','all was great','nothing it was all great', 'that i couldn t stay longer',\n",
    " 'nothing that i can think of', 'i can t think of anything', 'all was perfect', 'nothing of note',\n",
    " 'it was all great', 'nothing springs to mind', 'nothing all great', 'couldn t fault anything',\n",
    " 'no problems at all', 'nothing to add','that i had to leave', 'no faults', 'nope', 'all fine',\n",
    " 'can t think of a thing', 'all perfect', 'there was nothing i did not like', 'everything perfect',\n",
    " 'i had to leave', 'there wasn t anything i didn t like', 'all was fine', 'nothing everything was excellent',\n",
    " 'no negative comments', 'nothing negative', 'all was ok', 'everything was very good', 'having to go home',\n",
    " 'coming home', 'noting', 'we loved everything', 'nothing particular',\n",
    " 'no complains', 'no complaints whatsoever', 'nithing', 'was all good',             \n",
    " 'nothing specific', 'there was nothing we did not like', 'nothing all perfect', 'everything good',\n",
    " 'nothing it was excellent', 'nothing i did not like', 'there was nothing that we didn t like',\n",
    " 'can t think of any', 'zero', 'everything was fantastic', 'nothing worth mentioning',\n",
    " 'could not fault anything', 'can t fault anything', 'nothing all was perfect', 'cant think of anything',\n",
    " 'can t fault it', 'there was nothing that i didn t like', 'nothing perfect', 'happy with everything',\n",
    " 'nothing loved it', 'nothings', 'nothin','really nothing', 'nothing everything was good', 'perfect',\n",
    " 'nothing loved it all', 'we had to leave','nothing everything was fine', 'everything was wonderful',\n",
    " 'nothing it was all perfect', 'nothing to note', 'nothing to complain about at all', 'not one thing',\n",
    " 'all very good', 'good', 'there is nothing to dislike', 'nothing bad at all',\n",
    " 'there wasn t anything not to like', 'all was excellent', 'we liked it all', 'anything',\n",
    " 'nothing that i didn t like', 'no issues at all', 'nothing was bad', 'nothing bad to report',\n",
    " 'having to come home', 'honestly nothing', 'everything ok',\n",
    " 'wish i could have stayed longer', 'nothing all excellent',\n",
    " 'nothing it was amazing', 'nothinh', 'can t think of anything we didn t like',\n",
    " 'faultless', 'ok', 'no faults at all', 'everything was just perfect', 'everything is perfect',\n",
    " 'couldn t fault the hotel', 'there was nothing to complain about', 'there was nothing',\n",
    " 'i loved it all', 'nothing everything was fantastic', 'can t think of anything i didn t like',\n",
    " 'not a single thing', 'nothing all was excellent', 'nothing to say here', 'nothing could be better',\n",
    " 'nothing everything was brilliant', 'no negatives at all', 'nothing everything was just perfect',\n",
    " 'i don t know', 'there is nothing not to like', 'everything was nice', 'couldn t stay longer',\n",
    " 'all excellent', 'nothing to moan about', 'norhing', 'nothing so far', 'all is good',\n",
    " 'nothing negative to report', 'nathing', 'nothing to improve', 'everything great',\n",
    " 'i can t think of anything i didn t like', 'there wasn t anything',\n",
    " 'there was nothing that i did not like', 'i cannot think of anything', 'nothing to comment',\n",
    " 'no things',            \n",
    " 'notting', 'no bad points', 'there was nothing that we did not like', 'nothing that we didn t like',\n",
    " 'wish we could have stayed longer', 'everything was spot on','nothing actually',\n",
    " 'a longer stay', 'nothing whatsoever', 'i like everything', 'nothink', 'everything was amazing',\n",
    " 'nothing it was fantastic', 'nothing was perfect', 'can not think of anything',\n",
    " 'nothing we loved everything', 'nothing everything was spot on', 'niets', 'nothing loved everything',\n",
    " 'my stay was too short', 'loved it', 'nowt', 'every thing was good', 'wanted to stay longer',\n",
    " 'nothing everything was amazing', 'it was great',  'everything was great no complaints',\n",
    " 'none at all', 'excellent', 'our stay was too short', 'we had no complaints', 'nothing everything perfect',\n",
    " 'can t think of any negatives', 'had to leave', 'could not fault it', 'didn t stay long enough',\n",
    " 'nothing perfect stay', 'all was very good',          \n",
    "  'there was nothing to not like', 'there is nothing we didn t like', 'not at all',\n",
    " 'can t complain about anything', 'everything is good', 'nothing honestly', 'i was happy with everything',\n",
    " 'can t think of a single thing', 'can t think of anything really', 'we couldn t stay longer',\n",
    " 'nothing negative at all', 'nothing we liked everything', 'none really', 'couldn t fault a thing',\n",
    " 'not being able to stay longer','nothing particularly', 'nothing all ok', 'nothing i could think of',\n",
    " 'nothing it was a great stay', 'nothing really to complain about', 'had to go home',\n",
    " 'no real complaints', 'nothing s', 'nothing to report here', 'everything is great',\n",
    " 'nothing great hotel', 'it was all perfect','nothing all very good', 'we were happy with everything',\n",
    " 'all good no complaints','nothing would stay again', 'that we didn t stay longer',\n",
    " 'i couldn t stay longer', 'everything was really good', 'nothing could have been improved',\n",
    " 'could not fault this hotel', 'nothing it was lovely', 'everything was satisfactory',\n",
    " 'every thing was perfect', 'nothing to mention here', 'there is nothing i didn t like',\n",
    " 'no bad comments', 'nothing really all good', 'nothing we loved it',\n",
    " 'it was all fine', 'i liked everything about the hotel',\n",
    " 'no tea and coffee in the room', 'there wasn t anything to dislike', 'it was fine', 'nothing i didnt like',\n",
    " 'there was nothing i didnt like', 'nothing that comes to mind', 'we have no complaints',\n",
    " 'i liked everything about this hotel', 'no negative points', 'nothing to be honest',\n",
    " 'nothing all fantastic', 'i have no negative comments', 'we didn t stay long enough',\n",
    " 'can t really think of anything', 'nothing we had a great stay', 'everything fine',\n",
    " 'nothing to declare','everything was brilliant', 'that i had to go home', 'every thing was great',\n",
    " 'i couldn t fault anything','nothing to dislike about this hotel', 'nothing i liked everything',             \n",
    " 'nothing it was perfect for us',  'mothing',\n",
    " 'nothing could of been better', 'there was nothing we disliked']"
   ]
  },
  {
   "cell_type": "code",
   "execution_count": 22,
   "id": "d1115372",
   "metadata": {
    "execution": {
     "iopub.execute_input": "2023-01-09T18:00:01.112189Z",
     "iopub.status.busy": "2023-01-09T18:00:01.111736Z",
     "iopub.status.idle": "2023-01-09T18:00:03.101552Z",
     "shell.execute_reply": "2023-01-09T18:00:03.100556Z"
    },
    "papermill": {
     "duration": 2.014598,
     "end_time": "2023-01-09T18:00:03.104203",
     "exception": false,
     "start_time": "2023-01-09T18:00:01.089605",
     "status": "completed"
    },
    "tags": []
   },
   "outputs": [],
   "source": [
    "# Заменим ложно-отрицательные отзывы на 'positive' в новом признаке.\n",
    "data['negative_review_new'] = data['negative_review'].apply(lambda x: 'positive' if x in  fake_neg_list1 else x)"
   ]
  },
  {
   "cell_type": "code",
   "execution_count": 23,
   "id": "a348dbb7",
   "metadata": {
    "execution": {
     "iopub.execute_input": "2023-01-09T18:00:03.148319Z",
     "iopub.status.busy": "2023-01-09T18:00:03.147890Z",
     "iopub.status.idle": "2023-01-09T18:02:16.979550Z",
     "shell.execute_reply": "2023-01-09T18:02:16.978315Z"
    },
    "papermill": {
     "duration": 133.857364,
     "end_time": "2023-01-09T18:02:16.982720",
     "exception": false,
     "start_time": "2023-01-09T18:00:03.125356",
     "status": "completed"
    },
    "tags": []
   },
   "outputs": [
    {
     "name": "stderr",
     "output_type": "stream",
     "text": [
      "[nltk_data] Downloading package vader_lexicon to\n",
      "[nltk_data]     /usr/share/nltk_data...\n",
      "[nltk_data]   Package vader_lexicon is already up-to-date!\n"
     ]
    }
   ],
   "source": [
    "# Проведем анализ тональности отрицательных отзывов.\n",
    "nltk.download('vader_lexicon')\n",
    "sid = SentimentIntensityAnalyzer()\n",
    "data['neg_polarity'] = data['negative_review_new'].apply(lambda Description: sid.polarity_scores(Description))\n",
    "\n",
    "# Определим тип отзыва (положительный, нейтральный или отрицательный)\n",
    "data['compound_neg'] = data['neg_polarity'].apply(lambda x: x['compound'])\n",
    "data['sentiment_type_neg']=''\n",
    "data.loc[data.compound_neg>0,'sentiment_type_neg']='POSITIVE'\n",
    "data.loc[data.compound_neg==0,'sentiment_type_neg']='NEUTRAL'\n",
    "data.loc[data.compound_neg<0,'sentiment_type_neg']='NEGATIVE'\n",
    "\n",
    "# Выведем оценку отзыва в отдельные признаки.\n",
    "data['neg_neg'] = data['neg_polarity'].apply(lambda x: x['neg'])\n",
    "data['pos_neg'] = data['neg_polarity'].apply(lambda x: x['pos'])\n",
    "data['neu_neg'] = data['neg_polarity'].apply(lambda x: x['neu'])"
   ]
  },
  {
   "cell_type": "code",
   "execution_count": 24,
   "id": "6a1842de",
   "metadata": {
    "execution": {
     "iopub.execute_input": "2023-01-09T18:02:17.027685Z",
     "iopub.status.busy": "2023-01-09T18:02:17.026865Z",
     "iopub.status.idle": "2023-01-09T18:02:18.661511Z",
     "shell.execute_reply": "2023-01-09T18:02:18.660441Z"
    },
    "papermill": {
     "duration": 1.659713,
     "end_time": "2023-01-09T18:02:18.664104",
     "exception": false,
     "start_time": "2023-01-09T18:02:17.004391",
     "status": "completed"
    },
    "tags": []
   },
   "outputs": [],
   "source": [
    "def review_neg(arg):\n",
    "    \"\"\"Функция нахождения наиболее часто встречающихся отзывов\"\"\"\n",
    "    if arg == 'positive':\n",
    "        return 'positive'\n",
    "    elif 'small' in arg or 'tiny' in arg or 'size' in arg or 'space' in arg or 'bigger' in arg or 'larger' in arg\\\n",
    "    or 'cramp' in arg:\n",
    "        return 'small'\n",
    "    elif 'breakfast' in arg or 'food' in arg:\n",
    "        return 'breakfast'\n",
    "    elif 'location' in arg:\n",
    "        return 'location'\n",
    "    elif 'everything' in arg or 'every thing' in arg or 'all' in arg or 'evrything' in arg:\n",
    "        return 'everything'\n",
    "    elif 'expens'in arg or 'pric' in arg or 'cost' in arg or 'money' in arg or 'cheap' in arg or 'value' in arg\\\n",
    "    or 'rate' in arg:\n",
    "        return 'price'\n",
    "    elif 'staff'in arg or 'stuff' in arg or 'service' in arg or 'lobby' in arg or 'check' in arg or 'keeping' in arg \\\n",
    "    or 'recept' in arg or 'entran' in arg or 'facilities' in arg:\n",
    "        return 'service'\n",
    "    elif 'park' in arg:\n",
    "        return 'parking'\n",
    "    elif 'bath' in arg or 'shower' in arg or 'toilet' in arg or 'towels' in arg:\n",
    "        return 'bathroom'\n",
    "    elif 'bed' in arg or 'pillow' in arg or 'mattres' in arg:\n",
    "        return 'bed'\n",
    "    elif 'air' in arg or 'a c' in arg or 'ac ' in arg or ' ac' in arg or 'hot' in arg or 'cold' in arg or 'warm' in arg:\n",
    "        return 'ac'\n",
    "    elif 'wifi' in arg or 'wi fi' in arg or 'internet' in arg:\n",
    "        return 'wifi'\n",
    "    elif 'lift' in arg or 'elevator' in arg or 'internet' in arg:\n",
    "        return 'elevator'\n",
    "    elif 'view' in arg or 'balcony' in arg or 'window' in arg:\n",
    "        return 'view'\n",
    "    elif 'nois' in arg or 'sound' in arg:\n",
    "        return 'noisy'\n",
    "    elif 'clean' in arg or 'dirt' in arg:\n",
    "        return 'dirty'\n",
    "    elif 'spa' in arg or 'pool' in arg or 'gym' in arg or 'fitnes' in arg or 'sauna' in arg:\n",
    "        return 'activity'\n",
    "    elif 'minibar' in arg or 'mini bar' in arg or 'frid' in arg or 'frig' in arg or 'alcohol' in arg:\n",
    "        return 'fridge'\n",
    "    elif 'restaur' in arg or 'bar' in arg or 'resturant' in arg or 'dinner' in arg:\n",
    "        return 'restaurant'\n",
    "    elif 'coffee' in arg or 'tea' in arg or 'water' in arg or 'kettle' in arg:\n",
    "        return 'drinks'\n",
    "    elif 'decor' in arg or 'furnit' in arg or 'dated' in arg or 'old' in arg or 'refurbish' in arg or 'tired' in arg\\\n",
    "    or 'renovation' in arg:\n",
    "        return 'old'\n",
    "    elif 'tv ' in arg:\n",
    "        return 'tv'\n",
    "    elif 'wifi' in arg or 'wi fi' in arg:\n",
    "        return 'wifi'\n",
    "    elif 'room' in arg:\n",
    "        return 'room'\n",
    "    elif 'far' in arg or 'distance' in arg or 'find' in arg or 'area' in arg or 'neighbourhood' in arg:\n",
    "        return 'location'\n",
    "    elif 'see above' in arg:\n",
    "        return 'see above'\n",
    "    return 'other'\n",
    "    \n",
    "# Создадим признак наиболее часто встречающихся отзывов.\n",
    "data['popular_negative_review'] = data['negative_review_new'].apply(review_neg)"
   ]
  },
  {
   "cell_type": "markdown",
   "id": "c03f4d33",
   "metadata": {
    "papermill": {
     "duration": 0.021006,
     "end_time": "2023-01-09T18:02:18.706787",
     "exception": false,
     "start_time": "2023-01-09T18:02:18.685781",
     "status": "completed"
    },
    "tags": []
   },
   "source": [
    "### Признак положительный отзыв ['positive_review']."
   ]
  },
  {
   "cell_type": "code",
   "execution_count": 25,
   "id": "0b0d89ea",
   "metadata": {
    "execution": {
     "iopub.execute_input": "2023-01-09T18:02:18.751394Z",
     "iopub.status.busy": "2023-01-09T18:02:18.750662Z",
     "iopub.status.idle": "2023-01-09T18:02:19.283215Z",
     "shell.execute_reply": "2023-01-09T18:02:19.282106Z"
    },
    "papermill": {
     "duration": 0.55796,
     "end_time": "2023-01-09T18:02:19.286101",
     "exception": false,
     "start_time": "2023-01-09T18:02:18.728141",
     "status": "completed"
    },
    "tags": []
   },
   "outputs": [],
   "source": [
    "# Приведем отзывы к нижнему регистру и уберем пробелы в начале и конце.\n",
    "data['positive_review'] = [x.lower().strip() for x in data['positive_review']]\n",
    "\n",
    "# Создадим список ложно-положительных отзывов.\n",
    "fake_pos = ['no positive', 'nothing', '', 'n a', 'na']\n",
    "\n",
    "# Заменим ложно-положительные отзывы на 'negative' в новом признаке.\n",
    "data['positive_review_new'] = data['positive_review'].apply(lambda x: 'negative' if x in fake_pos else x)"
   ]
  },
  {
   "cell_type": "code",
   "execution_count": 26,
   "id": "af4dbc9a",
   "metadata": {
    "execution": {
     "iopub.execute_input": "2023-01-09T18:02:19.332925Z",
     "iopub.status.busy": "2023-01-09T18:02:19.332496Z",
     "iopub.status.idle": "2023-01-09T18:04:41.470019Z",
     "shell.execute_reply": "2023-01-09T18:04:41.468491Z"
    },
    "papermill": {
     "duration": 142.16402,
     "end_time": "2023-01-09T18:04:41.473057",
     "exception": false,
     "start_time": "2023-01-09T18:02:19.309037",
     "status": "completed"
    },
    "tags": []
   },
   "outputs": [],
   "source": [
    "# Проведем анализ тональности положительных отзывов.\n",
    "data['pos_polarity'] = data['positive_review_new'].apply(lambda Description: sid.polarity_scores(Description))\n",
    "\n",
    "# Определим тип отзыва (положительный, нейтральный или отрицательный)\n",
    "data['compound_pos'] = data['pos_polarity'].apply(lambda x: x['compound'])\n",
    "data['sentiment_type_pos']=''\n",
    "data.loc[data.compound_pos>0,'sentiment_type_pos']='POSITIVE'\n",
    "data.loc[data.compound_pos==0,'sentiment_type_pos']='NEUTRAL'\n",
    "data.loc[data.compound_pos<0,'sentiment_type_pos']='NEGATIVE'\n",
    "\n",
    "# Выведем оценку отзыва в отдельные признаки.\n",
    "data['neg_pos'] = data['pos_polarity'].apply(lambda x: x['neg'])\n",
    "data['pos_pos'] = data['pos_polarity'].apply(lambda x: x['pos'])\n",
    "data['neu_pos'] = data['pos_polarity'].apply(lambda x: x['neu'])"
   ]
  },
  {
   "cell_type": "code",
   "execution_count": 27,
   "id": "981f5649",
   "metadata": {
    "execution": {
     "iopub.execute_input": "2023-01-09T18:04:41.522423Z",
     "iopub.status.busy": "2023-01-09T18:04:41.521941Z",
     "iopub.status.idle": "2023-01-09T18:04:42.956350Z",
     "shell.execute_reply": "2023-01-09T18:04:42.955239Z"
    },
    "papermill": {
     "duration": 1.462569,
     "end_time": "2023-01-09T18:04:42.959071",
     "exception": false,
     "start_time": "2023-01-09T18:04:41.496502",
     "status": "completed"
    },
    "tags": []
   },
   "outputs": [],
   "source": [
    "def review_pos(arg):\n",
    "    \"\"\"Функция нахождения наиболее часто встречающихся отзывов\"\"\"\n",
    "    if arg == 'negative':\n",
    "        return 'negative'\n",
    "    elif 'small' in arg or 'tiny' in arg or 'size' in arg or 'space' in arg or 'bigger' in arg or 'larger' in arg\\\n",
    "    or 'cramp' in arg:\n",
    "        return 'size'\n",
    "    elif 'breakfast' in arg or 'food' in arg:\n",
    "        return 'breakfast'\n",
    "    elif 'location' in arg:\n",
    "        return 'location'\n",
    "    elif 'everything' in arg or 'every thing' in arg or 'all' in arg or 'evrything' in arg:\n",
    "        return 'everything'\n",
    "    elif 'expens'in arg or 'pric' in arg or 'cost' in arg or 'money' in arg or 'cheap' in arg or 'value' in arg\\\n",
    "    or 'rate' in arg:\n",
    "        return 'price'\n",
    "    elif 'staff'in arg or 'stuff' in arg or 'service' in arg or 'lobby' in arg or 'check' in arg or 'keeping' in arg \\\n",
    "    or 'recept' in arg or 'entran' in arg or 'facilities' in arg:\n",
    "        return 'service'\n",
    "    elif 'park' in arg:\n",
    "        return 'parking'\n",
    "    elif 'bath' in arg or 'shower' in arg or 'toilet' in arg or 'towels' in arg:\n",
    "        return 'bathroom'\n",
    "    elif 'bed' in arg or 'pillow' in arg or 'mattres' in arg:\n",
    "        return 'bed'\n",
    "    elif 'air' in arg or 'a c' in arg or 'ac ' in arg or ' ac' in arg or 'hot' in arg or 'cold' in arg or 'warm' in arg:\n",
    "        return 'ac'\n",
    "    elif 'wifi' in arg or 'wi fi' in arg or 'internet' in arg:\n",
    "        return 'wifi'\n",
    "    elif 'lift' in arg or 'elevator' in arg or 'internet' in arg:\n",
    "        return 'elevator'\n",
    "    elif 'view' in arg or 'balcony' in arg or 'window' in arg:\n",
    "        return 'view'\n",
    "    elif 'nois' in arg or 'sound' in arg:\n",
    "        return 'sound'\n",
    "    elif 'clean' in arg or 'dirt' in arg:\n",
    "        return 'cleanness'\n",
    "    elif 'spa' in arg or 'pool' in arg or 'gym' in arg or 'fitnes' in arg or 'sauna' in arg:\n",
    "        return 'activity'\n",
    "    elif 'minibar' in arg or 'mini bar' in arg or 'frid' in arg or 'frig' in arg or 'alcohol' in arg:\n",
    "        return 'fridge'\n",
    "    elif 'restaur' in arg or 'bar' in arg or 'resturant' in arg or 'dinner' in arg:\n",
    "        return 'restaurant'\n",
    "    elif 'coffee' in arg or 'tea' in arg or 'water' in arg or 'kettle' in arg:\n",
    "        return 'drinks'\n",
    "    elif 'decor' in arg or 'furnit' in arg or 'dated' in arg or 'old' in arg or 'refurbish' in arg or 'tired' in arg\\\n",
    "    or 'renovation' in arg:\n",
    "        return 'decoration'\n",
    "    elif 'tv ' in arg:\n",
    "        return 'tv'\n",
    "    elif 'wifi' in arg or 'wi fi' in arg:\n",
    "        return 'wifi'\n",
    "    elif 'room' in arg:\n",
    "        return 'room'\n",
    "    elif 'far' in arg or 'distance' in arg or 'find' in arg or 'area' in arg or 'neighbourhood' in arg:\n",
    "        return 'location'\n",
    "    elif 'see above' in arg:\n",
    "        return 'see above'\n",
    "    return 'other'\n",
    "\n",
    "# Создадим признак наиболее часто встречающихся положительных отзывов.\n",
    "data['popular_positive_review'] = data['positive_review_new'].apply(review_pos)"
   ]
  },
  {
   "cell_type": "markdown",
   "id": "4ed9965c",
   "metadata": {
    "papermill": {
     "duration": 0.021113,
     "end_time": "2023-01-09T18:04:43.002707",
     "exception": false,
     "start_time": "2023-01-09T18:04:42.981594",
     "status": "completed"
    },
    "tags": []
   },
   "source": [
    "### Признаки количество слов в положительном и отрицательном отзыве\n",
    "### ['review_total_negative_word_counts'], ['review_total_positive_word_counts']."
   ]
  },
  {
   "cell_type": "code",
   "execution_count": 28,
   "id": "be4107c8",
   "metadata": {
    "execution": {
     "iopub.execute_input": "2023-01-09T18:04:43.047290Z",
     "iopub.status.busy": "2023-01-09T18:04:43.046878Z",
     "iopub.status.idle": "2023-01-09T18:04:44.492703Z",
     "shell.execute_reply": "2023-01-09T18:04:44.491436Z"
    },
    "papermill": {
     "duration": 1.471558,
     "end_time": "2023-01-09T18:04:44.495893",
     "exception": false,
     "start_time": "2023-01-09T18:04:43.024335",
     "status": "completed"
    },
    "tags": []
   },
   "outputs": [],
   "source": [
    "# Печесчитаем количество слов в отзывах.\n",
    "data['review_total_negative_word_counts'] = data['negative_review_new'].apply(lambda x: len(x.split()))\n",
    "data['review_total_positive_word_counts'] = data['positive_review_new'].apply(lambda x: len(x.split()))"
   ]
  },
  {
   "cell_type": "markdown",
   "id": "0f6fc521",
   "metadata": {
    "execution": {
     "iopub.execute_input": "2023-01-08T03:47:40.376758Z",
     "iopub.status.busy": "2023-01-08T03:47:40.376344Z",
     "iopub.status.idle": "2023-01-08T03:47:40.381188Z",
     "shell.execute_reply": "2023-01-08T03:47:40.380123Z",
     "shell.execute_reply.started": "2023-01-08T03:47:40.376721Z"
    },
    "papermill": {
     "duration": 0.021,
     "end_time": "2023-01-09T18:04:44.538600",
     "exception": false,
     "start_time": "2023-01-09T18:04:44.517600",
     "status": "completed"
    },
    "tags": []
   },
   "source": [
    "### Признак теги ['tags']."
   ]
  },
  {
   "cell_type": "code",
   "execution_count": 29,
   "id": "2dfe85bf",
   "metadata": {
    "execution": {
     "iopub.execute_input": "2023-01-09T18:04:44.583470Z",
     "iopub.status.busy": "2023-01-09T18:04:44.583050Z",
     "iopub.status.idle": "2023-01-09T18:04:47.225857Z",
     "shell.execute_reply": "2023-01-09T18:04:47.224678Z"
    },
    "papermill": {
     "duration": 2.668143,
     "end_time": "2023-01-09T18:04:47.228452",
     "exception": false,
     "start_time": "2023-01-09T18:04:44.560309",
     "status": "completed"
    },
    "tags": []
   },
   "outputs": [],
   "source": [
    "def re_func(num_tags):\n",
    "    \"\"\"Функция создания списка из тэгов оставленных рецензентом.\"\"\"\n",
    "    sumb = [\" ' \", \" '\", \"[\", \"]\",  \"' \"]\n",
    "    for i in sumb:\n",
    "        if i in num_tags:\n",
    "            num_tags = num_tags.replace(i, \"\")\n",
    "    return num_tags.split(',')\n",
    "\n",
    "# Создадим новый признак и применим функцию.\n",
    "data['tags_new'] = data['tags'].apply(re_func)"
   ]
  },
  {
   "cell_type": "markdown",
   "id": "d47fb6fa",
   "metadata": {
    "execution": {
     "iopub.execute_input": "2023-01-08T04:05:41.712155Z",
     "iopub.status.busy": "2023-01-08T04:05:41.711769Z",
     "iopub.status.idle": "2023-01-08T04:05:41.717471Z",
     "shell.execute_reply": "2023-01-08T04:05:41.716318Z",
     "shell.execute_reply.started": "2023-01-08T04:05:41.712122Z"
    },
    "papermill": {
     "duration": 0.020835,
     "end_time": "2023-01-09T18:04:47.271206",
     "exception": false,
     "start_time": "2023-01-09T18:04:47.250371",
     "status": "completed"
    },
    "tags": []
   },
   "source": [
    " #### Создадим признак тип поездки."
   ]
  },
  {
   "cell_type": "code",
   "execution_count": 30,
   "id": "493f604c",
   "metadata": {
    "execution": {
     "iopub.execute_input": "2023-01-09T18:04:47.315583Z",
     "iopub.status.busy": "2023-01-09T18:04:47.315187Z",
     "iopub.status.idle": "2023-01-09T18:04:47.867749Z",
     "shell.execute_reply": "2023-01-09T18:04:47.866679Z"
    },
    "papermill": {
     "duration": 0.578153,
     "end_time": "2023-01-09T18:04:47.870591",
     "exception": false,
     "start_time": "2023-01-09T18:04:47.292438",
     "status": "completed"
    },
    "tags": []
   },
   "outputs": [],
   "source": [
    "# Создаем список с типами поездки.\n",
    "trip_list = ['Leisure trip', 'Business trip']\n",
    "\n",
    "def trip(arg):\n",
    "    \"\"\"Функция определения типа поездки.\"\"\"\n",
    "    for i in arg:\n",
    "        if i in trip_list:\n",
    "            return i\n",
    "    return 'Leisure trip'\n",
    "                    \n",
    "# Создаем признак тип поездки.           \n",
    "data['trip'] = data['tags_new'].apply(trip)\n",
    "\n",
    "\n",
    "def tags(arg):\n",
    "    \"\"\"Функция удаления использованих для анализа тегов.\"\"\"\n",
    "    for i in arg:\n",
    "        if i in trip_list:\n",
    "            arg.remove(i)\n",
    "            return arg\n",
    "    return arg\n",
    "\n",
    "# Обновляем признак теги.\n",
    "data['tags_new'] = data['tags_new'].apply(tags)"
   ]
  },
  {
   "cell_type": "markdown",
   "id": "dd4cf0f5",
   "metadata": {
    "papermill": {
     "duration": 0.020931,
     "end_time": "2023-01-09T18:04:47.912827",
     "exception": false,
     "start_time": "2023-01-09T18:04:47.891896",
     "status": "completed"
    },
    "tags": []
   },
   "source": [
    "##### Посмотрим как тип поездки влияет на средную оценку от рецензента."
   ]
  },
  {
   "cell_type": "code",
   "execution_count": 31,
   "id": "9c4948ab",
   "metadata": {
    "execution": {
     "iopub.execute_input": "2023-01-09T18:04:47.957059Z",
     "iopub.status.busy": "2023-01-09T18:04:47.956676Z",
     "iopub.status.idle": "2023-01-09T18:04:49.467691Z",
     "shell.execute_reply": "2023-01-09T18:04:49.466460Z"
    },
    "papermill": {
     "duration": 1.5363,
     "end_time": "2023-01-09T18:04:49.470276",
     "exception": false,
     "start_time": "2023-01-09T18:04:47.933976",
     "status": "completed"
    },
    "tags": []
   },
   "outputs": [
    {
     "data": {
      "image/png": "[encoded data removed]",
      "text/plain": [
       "<Figure size 792x360 with 1 Axes>"
      ]
     },
     "metadata": {
      "needs_background": "light"
     },
     "output_type": "display_data"
    }
   ],
   "source": [
    "# Создадим таблицу с необходимыми данными для визуализации.\n",
    "reviewer_score_trip = data[data['sample']==1].pivot_table(\n",
    "    values='reviewer_score', \n",
    "    index='trip', \n",
    "    aggfunc='mean')\n",
    "\n",
    "# Создаем столбчатую диаграмму.\n",
    "plt.figure(figsize=(11, 5))\n",
    "barplot_m = sns.barplot(\n",
    "    data = reviewer_score_trip,\n",
    "    x = reviewer_score_trip.index, \n",
    "    y = 'reviewer_score')\n",
    "\n",
    "# Корректируем диаграмму для лучшей наглядности.\n",
    "plt.suptitle('Средняя оценка от рецензента, в зависимости от типа поездки.',  \n",
    "    fontsize=15)\n",
    "plt.xticks(rotation= 45)\n",
    "plt.ylim(7.8, 8.6);"
   ]
  },
  {
   "cell_type": "markdown",
   "id": "30f2c350",
   "metadata": {
    "papermill": {
     "duration": 0.021217,
     "end_time": "2023-01-09T18:04:49.513293",
     "exception": false,
     "start_time": "2023-01-09T18:04:49.492076",
     "status": "completed"
    },
    "tags": []
   },
   "source": [
    "##### Люди отправляющиеся на отдых в среднем ставят више оценки, чем те, кто едет в командировку."
   ]
  },
  {
   "cell_type": "markdown",
   "id": "644bffc5",
   "metadata": {
    "papermill": {
     "duration": 0.021171,
     "end_time": "2023-01-09T18:04:49.556202",
     "exception": false,
     "start_time": "2023-01-09T18:04:49.535031",
     "status": "completed"
    },
    "tags": []
   },
   "source": [
    "#### Создадим признак поездка с животными."
   ]
  },
  {
   "cell_type": "code",
   "execution_count": 32,
   "id": "ebe1b580",
   "metadata": {
    "execution": {
     "iopub.execute_input": "2023-01-09T18:04:49.601919Z",
     "iopub.status.busy": "2023-01-09T18:04:49.601531Z",
     "iopub.status.idle": "2023-01-09T18:04:50.299776Z",
     "shell.execute_reply": "2023-01-09T18:04:50.298511Z"
    },
    "papermill": {
     "duration": 0.724267,
     "end_time": "2023-01-09T18:04:50.302735",
     "exception": false,
     "start_time": "2023-01-09T18:04:49.578468",
     "status": "completed"
    },
    "tags": []
   },
   "outputs": [],
   "source": [
    "# Создаем список.\n",
    "pet_list = ['With a pet']\n",
    "\n",
    "def pets(arg):\n",
    "    \"\"\"Функция нахождения тега поездки с животными. \"\"\"\n",
    "    for i in arg:\n",
    "        if i in pet_list:\n",
    "            return 1\n",
    "    return 0\n",
    "\n",
    "# Создаем признак поездки с животными.\n",
    "data['with_pets'] = data['tags_new'].apply(pets)\n",
    "\n",
    "\n",
    "def tags(arg):\n",
    "    \"\"\"Функция удаления использованих для анализа тегов.\"\"\"\n",
    "    for i in arg:\n",
    "        if i in pet_list:\n",
    "            arg.remove(i)\n",
    "            return arg\n",
    "    return arg\n",
    "\n",
    "# Обновляем признак теги.\n",
    "data['tags_new'] = data['tags_new'].apply(tags)"
   ]
  },
  {
   "cell_type": "markdown",
   "id": "3ea8d0ec",
   "metadata": {
    "papermill": {
     "duration": 0.021726,
     "end_time": "2023-01-09T18:04:50.347332",
     "exception": false,
     "start_time": "2023-01-09T18:04:50.325606",
     "status": "completed"
    },
    "tags": []
   },
   "source": [
    "#### Создадим признак использования мобильного устройства."
   ]
  },
  {
   "cell_type": "code",
   "execution_count": 33,
   "id": "bfb9e8cf",
   "metadata": {
    "execution": {
     "iopub.execute_input": "2023-01-09T18:04:50.394185Z",
     "iopub.status.busy": "2023-01-09T18:04:50.393727Z",
     "iopub.status.idle": "2023-01-09T18:04:51.148726Z",
     "shell.execute_reply": "2023-01-09T18:04:51.147531Z"
    },
    "papermill": {
     "duration": 0.781982,
     "end_time": "2023-01-09T18:04:51.151480",
     "exception": false,
     "start_time": "2023-01-09T18:04:50.369498",
     "status": "completed"
    },
    "tags": []
   },
   "outputs": [],
   "source": [
    "# Создаем список.\n",
    "other_list = ['Submitted from a mobile device']\n",
    "\n",
    "def other(arg):\n",
    "    \"\"\"Функция нахождения тега использования мобильного устройства.\"\"\"\n",
    "    for i in arg:\n",
    "        if i in other_list:\n",
    "            return 1\n",
    "    return 0\n",
    "\n",
    "# Создаем признак.\n",
    "data['Submitted from a mobile device'] = data['tags_new'].apply(other)\n",
    "\n",
    "\n",
    "def tags(arg):\n",
    "    \"\"\"Функция удаления использованих для анализа тегов.\"\"\"\n",
    "    for i in arg:\n",
    "        if i in other_list:\n",
    "            arg.remove(i)\n",
    "            return arg\n",
    "    return arg\n",
    "\n",
    "# Обновляем признак теги.\n",
    "data['tags_new'] = data['tags_new'].apply(tags)"
   ]
  },
  {
   "cell_type": "markdown",
   "id": "39bed881",
   "metadata": {
    "papermill": {
     "duration": 0.021432,
     "end_time": "2023-01-09T18:04:51.194485",
     "exception": false,
     "start_time": "2023-01-09T18:04:51.173053",
     "status": "completed"
    },
    "tags": []
   },
   "source": [
    "#### Создадим признак типа группы путешествующих."
   ]
  },
  {
   "cell_type": "code",
   "execution_count": 34,
   "id": "36674e0e",
   "metadata": {
    "execution": {
     "iopub.execute_input": "2023-01-09T18:04:51.239645Z",
     "iopub.status.busy": "2023-01-09T18:04:51.238825Z",
     "iopub.status.idle": "2023-01-09T18:04:51.801746Z",
     "shell.execute_reply": "2023-01-09T18:04:51.800424Z"
    },
    "papermill": {
     "duration": 0.588632,
     "end_time": "2023-01-09T18:04:51.804609",
     "exception": false,
     "start_time": "2023-01-09T18:04:51.215977",
     "status": "completed"
    },
    "tags": []
   },
   "outputs": [],
   "source": [
    "# Создадим списки.\n",
    "traveler_list_1 = ['Couple', 'Solo traveler']\n",
    "traveler_list_2 = ['Group', 'Travelers with friends']\n",
    "traveler_list_3 = ['Family with young children', 'Family with older children']\n",
    "\n",
    "def traveler(arg):\n",
    "    \"\"\"Функция определения типа группы путешествующих.\"\"\"\n",
    "    for i in arg:\n",
    "        if i in traveler_list_1:\n",
    "            return i\n",
    "        elif i in traveler_list_2:\n",
    "            return 'Group'\n",
    "        elif i in traveler_list_3:\n",
    "            return 'Family'\n",
    "\n",
    "# Создаем признак типа группы путешествующих.\n",
    "data['traveler'] = data['tags_new'].apply(traveler)\n",
    "\n",
    "\n",
    "traveler_list = traveler_list_1 + traveler_list_2 + traveler_list_3\n",
    "def tags(arg):\n",
    "    \"\"\"Функция удаления использованих для анализа тегов.\"\"\"\n",
    "    for i in arg:\n",
    "        if i in traveler_list:\n",
    "            arg.remove(i)\n",
    "            return arg\n",
    "    return arg\n",
    "\n",
    "# Обновляем признак теги.\n",
    "data['tags_new'] = data['tags_new'].apply(tags)"
   ]
  },
  {
   "cell_type": "markdown",
   "id": "63384a8d",
   "metadata": {
    "papermill": {
     "duration": 0.021089,
     "end_time": "2023-01-09T18:04:51.847227",
     "exception": false,
     "start_time": "2023-01-09T18:04:51.826138",
     "status": "completed"
    },
    "tags": []
   },
   "source": [
    "#### Создадим признак количества проведенных ночей."
   ]
  },
  {
   "cell_type": "code",
   "execution_count": 35,
   "id": "6045fe10",
   "metadata": {
    "execution": {
     "iopub.execute_input": "2023-01-09T18:04:51.893447Z",
     "iopub.status.busy": "2023-01-09T18:04:51.892578Z",
     "iopub.status.idle": "2023-01-09T18:04:52.360890Z",
     "shell.execute_reply": "2023-01-09T18:04:52.359514Z"
    },
    "papermill": {
     "duration": 0.495344,
     "end_time": "2023-01-09T18:04:52.364169",
     "exception": false,
     "start_time": "2023-01-09T18:04:51.868825",
     "status": "completed"
    },
    "tags": []
   },
   "outputs": [],
   "source": [
    "def night(arg):\n",
    "    \"\"\"Функция определения количества проведенных ночей\"\"\"\n",
    "    if len(arg) != 0:\n",
    "        arg = arg[-1]\n",
    "        return arg\n",
    "    \n",
    "# Создаем признак.\n",
    "data['night'] = data['tags_new'].apply(night)\n",
    "\n",
    "# Обновляем признак теги.\n",
    "data['tags_new'] = data['tags_new'].apply(lambda x: x[0] if len(x)!=0 else 0)"
   ]
  },
  {
   "cell_type": "markdown",
   "id": "0810ffa5",
   "metadata": {
    "papermill": {
     "duration": 0.025997,
     "end_time": "2023-01-09T18:04:52.415439",
     "exception": false,
     "start_time": "2023-01-09T18:04:52.389442",
     "status": "completed"
    },
    "tags": []
   },
   "source": [
    "#### Создадим признаки о типе комнат."
   ]
  },
  {
   "cell_type": "markdown",
   "id": "40d35ec4",
   "metadata": {
    "execution": {
     "iopub.execute_input": "2023-01-08T20:05:48.993359Z",
     "iopub.status.busy": "2023-01-08T20:05:48.992983Z",
     "iopub.status.idle": "2023-01-08T20:05:48.998124Z",
     "shell.execute_reply": "2023-01-08T20:05:48.997155Z",
     "shell.execute_reply.started": "2023-01-08T20:05:48.993329Z"
    },
    "papermill": {
     "duration": 0.021644,
     "end_time": "2023-01-09T18:04:52.460071",
     "exception": false,
     "start_time": "2023-01-09T18:04:52.438427",
     "status": "completed"
    },
    "tags": []
   },
   "source": [
    "##### Проведем некоторые преобразования над данными."
   ]
  },
  {
   "cell_type": "code",
   "execution_count": 36,
   "id": "0ec1b6ab",
   "metadata": {
    "execution": {
     "iopub.execute_input": "2023-01-09T18:04:52.511882Z",
     "iopub.status.busy": "2023-01-09T18:04:52.511475Z",
     "iopub.status.idle": "2023-01-09T18:04:53.215387Z",
     "shell.execute_reply": "2023-01-09T18:04:53.214315Z"
    },
    "papermill": {
     "duration": 0.732541,
     "end_time": "2023-01-09T18:04:53.218470",
     "exception": false,
     "start_time": "2023-01-09T18:04:52.485929",
     "status": "completed"
    },
    "tags": []
   },
   "outputs": [],
   "source": [
    "def rooms(arg):\n",
    "    \"\"\"Функция корректировки данных.\"\"\"\n",
    "    if arg == 0:\n",
    "        return 0\n",
    "    list_rooms = ['Classic', 'Basic']\n",
    "    for i in list_rooms:\n",
    "        if i in arg:\n",
    "            arg = arg.replace(i, 'Standart')\n",
    "            return arg\n",
    "    return arg\n",
    "\n",
    "\n",
    "def rooms2(arg):\n",
    "    \"\"\"Функция корректировки данных.\"\"\"\n",
    "    if arg == 0:\n",
    "        return 0\n",
    "    elif ' or ' in arg:\n",
    "        arg = arg.replace(' or ', '/')\n",
    "    elif 'Standart' in arg:\n",
    "        arg = arg.replace('Standart', 'Standard')\n",
    "    elif 'Economy' in arg:\n",
    "        arg = arg.replace('Economy', 'Standard')\n",
    "    elif '2' in arg:\n",
    "        arg = arg.replace('2', 'Double')\n",
    "    elif 'Queen' in arg:\n",
    "        arg = arg.replace('Queen', 'Double')\n",
    "    return arg\n",
    "\n",
    "\n",
    "# Запускаем функции о преобразовании данных.\n",
    "data['tags_new'] = data['tags_new'].apply(rooms)\n",
    "data['tags_new'] = data['tags_new'].apply(rooms2)"
   ]
  },
  {
   "cell_type": "markdown",
   "id": "3e63f431",
   "metadata": {
    "execution": {
     "iopub.execute_input": "2022-12-07T19:14:13.78315Z",
     "iopub.status.busy": "2022-12-07T19:14:13.782819Z",
     "iopub.status.idle": "2022-12-07T19:14:13.985063Z",
     "shell.execute_reply": "2022-12-07T19:14:13.983804Z",
     "shell.execute_reply.started": "2022-12-07T19:14:13.783123Z"
    },
    "papermill": {
     "duration": 0.021485,
     "end_time": "2023-01-09T18:04:53.262433",
     "exception": false,
     "start_time": "2023-01-09T18:04:53.240948",
     "status": "completed"
    },
    "tags": []
   },
   "source": [
    "#### Создадим признак типа комнаты в зависимости от вида кровати."
   ]
  },
  {
   "cell_type": "code",
   "execution_count": 37,
   "id": "e3db1472",
   "metadata": {
    "execution": {
     "iopub.execute_input": "2023-01-09T18:04:53.309061Z",
     "iopub.status.busy": "2023-01-09T18:04:53.308138Z",
     "iopub.status.idle": "2023-01-09T18:04:53.873033Z",
     "shell.execute_reply": "2023-01-09T18:04:53.871652Z"
    },
    "papermill": {
     "duration": 0.591572,
     "end_time": "2023-01-09T18:04:53.875755",
     "exception": false,
     "start_time": "2023-01-09T18:04:53.284183",
     "status": "completed"
    },
    "tags": []
   },
   "outputs": [],
   "source": [
    "# Создаем список с видами кровати.\n",
    "rooms_by_bed_list = ['Single', 'Triple', 'Double', 'Quadruple', 'King', 'Double/Twin', 'King/Twin']\n",
    "\n",
    "def rooms_by_bed(arg):\n",
    "    \"\"\"Функция определения типа комнаты в зависимости от вида кровати.\"\"\"\n",
    "    if arg == 0:\n",
    "        return None\n",
    "    arg = arg.split()\n",
    "    for i in rooms_by_bed_list:\n",
    "        if i in arg:\n",
    "            return i\n",
    "\n",
    "# Создаем признак.\n",
    "data['rooms_by_bed'] = data['tags_new'].apply(rooms_by_bed)"
   ]
  },
  {
   "cell_type": "markdown",
   "id": "4ec3f04c",
   "metadata": {
    "papermill": {
     "duration": 0.021374,
     "end_time": "2023-01-09T18:04:53.918700",
     "exception": false,
     "start_time": "2023-01-09T18:04:53.897326",
     "status": "completed"
    },
    "tags": []
   },
   "source": [
    "#### Создадим признак типа комнаты в зависимости от комфортности."
   ]
  },
  {
   "cell_type": "code",
   "execution_count": 38,
   "id": "cded1975",
   "metadata": {
    "execution": {
     "iopub.execute_input": "2023-01-09T18:04:53.963956Z",
     "iopub.status.busy": "2023-01-09T18:04:53.963541Z",
     "iopub.status.idle": "2023-01-09T18:04:54.599772Z",
     "shell.execute_reply": "2023-01-09T18:04:54.598454Z"
    },
    "papermill": {
     "duration": 0.662114,
     "end_time": "2023-01-09T18:04:54.602585",
     "exception": false,
     "start_time": "2023-01-09T18:04:53.940471",
     "status": "completed"
    },
    "tags": []
   },
   "outputs": [],
   "source": [
    "# Создаем список.\n",
    "rooms_by_occupancy_list = ['Standard', 'Deluxe', 'Executive', 'Suite', 'Family', 'Superior', 'Cosy', 'Club', 'Comfort', 'Luxury']\n",
    "\n",
    "def rooms_by_occupancy(arg):\n",
    "    \"\"\"Функция определения типа комнаты в зависимости от комфортности.\"\"\"\n",
    "    if arg == 0:\n",
    "        return None\n",
    "    arg = arg.split()\n",
    "    for i in rooms_by_occupancy_list:\n",
    "        if i in arg:\n",
    "            return i\n",
    "        \n",
    "# Создаем признак.       \n",
    "data['rooms_by_occupancy'] = data['tags_new'].apply(rooms_by_occupancy)"
   ]
  },
  {
   "cell_type": "markdown",
   "id": "5eb173b0",
   "metadata": {
    "papermill": {
     "duration": 0.022223,
     "end_time": "2023-01-09T18:04:54.647022",
     "exception": false,
     "start_time": "2023-01-09T18:04:54.624799",
     "status": "completed"
    },
    "tags": []
   },
   "source": [
    "#### Создадим признак с дополнительными возможностяти."
   ]
  },
  {
   "cell_type": "code",
   "execution_count": 39,
   "id": "97dad15a",
   "metadata": {
    "execution": {
     "iopub.execute_input": "2023-01-09T18:04:54.694684Z",
     "iopub.status.busy": "2023-01-09T18:04:54.694261Z",
     "iopub.status.idle": "2023-01-09T18:04:55.136651Z",
     "shell.execute_reply": "2023-01-09T18:04:55.135433Z"
    },
    "papermill": {
     "duration": 0.46962,
     "end_time": "2023-01-09T18:04:55.139418",
     "exception": false,
     "start_time": "2023-01-09T18:04:54.669798",
     "status": "completed"
    },
    "tags": []
   },
   "outputs": [],
   "source": [
    "# Создаем список.\n",
    "privilege_list = ['View', 'Balcony', 'Terrace', 'Lounge', 'Spa']\n",
    "\n",
    "def privilege(arg):\n",
    "    \"\"\"Функция определения дополнительных возможностей.\"\"\"\n",
    "    if arg == 0:\n",
    "        return 0\n",
    "    for i in privilege_list:\n",
    "        if i in arg:\n",
    "            return 1\n",
    "    return 0\n",
    "\n",
    "# Создаем признак.\n",
    "data['privilege'] = data['tags_new'].apply(privilege)"
   ]
  },
  {
   "cell_type": "markdown",
   "id": "547415b2",
   "metadata": {
    "papermill": {
     "duration": 0.021512,
     "end_time": "2023-01-09T18:04:55.182720",
     "exception": false,
     "start_time": "2023-01-09T18:04:55.161208",
     "status": "completed"
    },
    "tags": []
   },
   "source": [
    "### Произведем кодирование некоторых категориальных признаков."
   ]
  },
  {
   "cell_type": "markdown",
   "id": "b5640136",
   "metadata": {
    "papermill": {
     "duration": 0.021256,
     "end_time": "2023-01-09T18:04:55.225623",
     "exception": false,
     "start_time": "2023-01-09T18:04:55.204367",
     "status": "completed"
    },
    "tags": []
   },
   "source": [
    "#### Посмотрим информацию о нашем датасете."
   ]
  },
  {
   "cell_type": "code",
   "execution_count": 40,
   "id": "a0471365",
   "metadata": {
    "execution": {
     "iopub.execute_input": "2023-01-09T18:04:55.271162Z",
     "iopub.status.busy": "2023-01-09T18:04:55.270392Z",
     "iopub.status.idle": "2023-01-09T18:04:56.018838Z",
     "shell.execute_reply": "2023-01-09T18:04:56.017554Z"
    },
    "papermill": {
     "duration": 0.774202,
     "end_time": "2023-01-09T18:04:56.021645",
     "exception": false,
     "start_time": "2023-01-09T18:04:55.247443",
     "status": "completed"
    },
    "tags": []
   },
   "outputs": [
    {
     "name": "stdout",
     "output_type": "stream",
     "text": [
      "<class 'pandas.core.frame.DataFrame'>\n",
      "Int64Index: 515431 entries, 0 to 515430\n",
      "Data columns (total 47 columns):\n",
      " #   Column                                      Non-Null Count   Dtype  \n",
      "---  ------                                      --------------   -----  \n",
      " 0   hotel_address                               515431 non-null  object \n",
      " 1   additional_number_of_scoring                515431 non-null  int64  \n",
      " 2   review_date                                 515431 non-null  object \n",
      " 3   average_score                               515431 non-null  float64\n",
      " 4   hotel_name                                  515431 non-null  object \n",
      " 5   reviewer_nationality                        515431 non-null  object \n",
      " 6   negative_review                             515431 non-null  object \n",
      " 7   review_total_negative_word_counts           515431 non-null  int64  \n",
      " 8   total_number_of_reviews                     515431 non-null  int64  \n",
      " 9   positive_review                             515431 non-null  object \n",
      " 10  review_total_positive_word_counts           515431 non-null  int64  \n",
      " 11  total_number_of_reviews_reviewer_has_given  515431 non-null  int64  \n",
      " 12  tags                                        515431 non-null  object \n",
      " 13  days_since_review                           515431 non-null  object \n",
      " 14  lat                                         515431 non-null  float64\n",
      " 15  lng                                         515431 non-null  float64\n",
      " 16  sample                                      515431 non-null  int64  \n",
      " 17  reviewer_score                              515431 non-null  float64\n",
      " 18  review_month                                515431 non-null  int64  \n",
      " 19  review_week                                 515431 non-null  int64  \n",
      " 20  country                                     515431 non-null  object \n",
      " 21  country-code                                515431 non-null  float64\n",
      " 22  negative_review_new                         515431 non-null  object \n",
      " 23  neg_polarity                                515431 non-null  object \n",
      " 24  compound_neg                                515431 non-null  float64\n",
      " 25  sentiment_type_neg                          515431 non-null  object \n",
      " 26  neg_neg                                     515431 non-null  float64\n",
      " 27  pos_neg                                     515431 non-null  float64\n",
      " 28  neu_neg                                     515431 non-null  float64\n",
      " 29  popular_negative_review                     515431 non-null  object \n",
      " 30  positive_review_new                         515431 non-null  object \n",
      " 31  pos_polarity                                515431 non-null  object \n",
      " 32  compound_pos                                515431 non-null  float64\n",
      " 33  sentiment_type_pos                          515431 non-null  object \n",
      " 34  neg_pos                                     515431 non-null  float64\n",
      " 35  pos_pos                                     515431 non-null  float64\n",
      " 36  neu_pos                                     515431 non-null  float64\n",
      " 37  popular_positive_review                     515431 non-null  object \n",
      " 38  tags_new                                    515431 non-null  object \n",
      " 39  trip                                        515431 non-null  object \n",
      " 40  with_pets                                   515431 non-null  int64  \n",
      " 41  Submitted from a mobile device              515431 non-null  int64  \n",
      " 42  traveler                                    515431 non-null  object \n",
      " 43  night                                       515239 non-null  object \n",
      " 44  rooms_by_bed                                418331 non-null  object \n",
      " 45  rooms_by_occupancy                          333720 non-null  object \n",
      " 46  privilege                                   515431 non-null  int64  \n",
      "dtypes: float64(13), int64(11), object(23)\n",
      "memory usage: 188.8+ MB\n"
     ]
    }
   ],
   "source": [
    "data.info()"
   ]
  },
  {
   "cell_type": "markdown",
   "id": "769c253b",
   "metadata": {
    "papermill": {
     "duration": 0.022019,
     "end_time": "2023-01-09T18:04:56.066317",
     "exception": false,
     "start_time": "2023-01-09T18:04:56.044298",
     "status": "completed"
    },
    "tags": []
   },
   "source": [
    "#### Произведем кодирование."
   ]
  },
  {
   "cell_type": "code",
   "execution_count": 41,
   "id": "a09977f8",
   "metadata": {
    "execution": {
     "iopub.execute_input": "2023-01-09T18:04:56.112035Z",
     "iopub.status.busy": "2023-01-09T18:04:56.111586Z",
     "iopub.status.idle": "2023-01-09T18:05:07.585894Z",
     "shell.execute_reply": "2023-01-09T18:05:07.584981Z"
    },
    "papermill": {
     "duration": 11.500301,
     "end_time": "2023-01-09T18:05:07.588472",
     "exception": false,
     "start_time": "2023-01-09T18:04:56.088171",
     "status": "completed"
    },
    "tags": []
   },
   "outputs": [],
   "source": [
    "# Проведем OneHotEncoder для признака страна и город нахождения отеля.\n",
    "encoder1 = ce.OneHotEncoder(cols=['country'])\n",
    "country_bin = encoder1.fit_transform(data['country'])\n",
    "data = pd.concat([data, country_bin], axis=1)\n",
    "\n",
    "# Проведем OneHotEncoder для признака тональности негативного отзыва.\n",
    "encoder1 = ce.OneHotEncoder(cols=['sentiment_type_neg'])\n",
    "sentiment_type_neg_bin = encoder1.fit_transform(data['sentiment_type_neg'])\n",
    "data = pd.concat([data, sentiment_type_neg_bin], axis=1)\n",
    "\n",
    "# Проведем BinaryEncoder для признака наиболее часто встречающихся негативных отзывов.\n",
    "bin_encoder = ce.BinaryEncoder(cols=['popular_negative_review'])\n",
    "popular_negative_review_bin = bin_encoder.fit_transform(data['popular_negative_review'])\n",
    "data = pd.concat([data, popular_negative_review_bin], axis=1)\n",
    "\n",
    "# Проведем OneHotEncoder для признака тональности положительного отзыва.\n",
    "encoder1 = ce.OneHotEncoder(cols=['sentiment_type_pos'])\n",
    "sentiment_type_pos_bin = encoder1.fit_transform(data['sentiment_type_pos'])\n",
    "data = pd.concat([data, sentiment_type_pos_bin], axis=1)\n",
    "\n",
    "# Проведем BinaryEncoder для признака наиболее часто встречающихся положительных отзывов.\n",
    "bin_encoder = ce.BinaryEncoder(cols=['popular_positive_review'])\n",
    "popular_positive_review_bin = bin_encoder.fit_transform(data['popular_positive_review'])\n",
    "data = pd.concat([data, popular_positive_review_bin], axis=1)\n",
    "\n",
    "# Проведем OneHotEncoder для признака тип отдыха.\n",
    "encoder1 = ce.OneHotEncoder(cols=['trip'])\n",
    "trip_bin = encoder1.fit_transform(data['trip'])\n",
    "data = pd.concat([data, trip_bin], axis=1)\n",
    "\n",
    "# Проведем OneHotEncoder для признака тип группы путешествующих.\n",
    "encoder1 = ce.OneHotEncoder(cols=['traveler'])\n",
    "traveler_bin = encoder1.fit_transform(data['traveler'])\n",
    "data = pd.concat([data, traveler_bin], axis=1)\n",
    "\n",
    "# Проведем BinaryEncoder для признака количество проведенных ночей.\n",
    "bin_encoder = ce.BinaryEncoder(cols=['night'])\n",
    "night_bin = bin_encoder.fit_transform(data['night'])\n",
    "data = pd.concat([data, night_bin], axis=1)\n",
    "\n",
    "# Проведем OneHotEncoder для признака тип комнаты в зависимости от вида кровати.\n",
    "encoder1 = ce.OneHotEncoder(cols=['rooms_by_bed'])\n",
    "rooms_by_bed_bin = encoder1.fit_transform(data['rooms_by_bed'])\n",
    "data = pd.concat([data, rooms_by_bed_bin], axis=1)\n",
    "\n",
    "# Проведем OneHotEncoder для признака тип комнаты в зависимости от комфортности комнаты.\n",
    "encoder1 = ce.OneHotEncoder(cols=['rooms_by_occupancy']) # указываем столбец для кодирования\n",
    "rooms_by_occupancy_bin = encoder1.fit_transform(data['rooms_by_occupancy'])\n",
    "data = pd.concat([data, rooms_by_occupancy_bin], axis=1)"
   ]
  },
  {
   "cell_type": "markdown",
   "id": "5768f094",
   "metadata": {
    "execution": {
     "iopub.execute_input": "2023-01-08T21:25:51.989254Z",
     "iopub.status.busy": "2023-01-08T21:25:51.988069Z",
     "iopub.status.idle": "2023-01-08T21:25:52.724165Z",
     "shell.execute_reply": "2023-01-08T21:25:52.723088Z",
     "shell.execute_reply.started": "2023-01-08T21:25:51.989214Z"
    },
    "papermill": {
     "duration": 0.021648,
     "end_time": "2023-01-09T18:05:07.632945",
     "exception": false,
     "start_time": "2023-01-09T18:05:07.611297",
     "status": "completed"
    },
    "tags": []
   },
   "source": [
    "### Отбор признаков."
   ]
  },
  {
   "cell_type": "code",
   "execution_count": 42,
   "id": "080114b6",
   "metadata": {
    "execution": {
     "iopub.execute_input": "2023-01-09T18:05:07.679146Z",
     "iopub.status.busy": "2023-01-09T18:05:07.678709Z",
     "iopub.status.idle": "2023-01-09T18:05:09.051580Z",
     "shell.execute_reply": "2023-01-09T18:05:09.050667Z"
    },
    "papermill": {
     "duration": 1.399185,
     "end_time": "2023-01-09T18:05:09.054131",
     "exception": false,
     "start_time": "2023-01-09T18:05:07.654946",
     "status": "completed"
    },
    "tags": []
   },
   "outputs": [],
   "source": [
    "# Скопируем основной датафрейм для дальнейших манипуляций по отбору признаков.\n",
    "df = data.copy()"
   ]
  },
  {
   "cell_type": "code",
   "execution_count": 43,
   "id": "a73ddb38",
   "metadata": {
    "execution": {
     "iopub.execute_input": "2023-01-09T18:05:09.101457Z",
     "iopub.status.busy": "2023-01-09T18:05:09.100469Z",
     "iopub.status.idle": "2023-01-09T18:05:09.358623Z",
     "shell.execute_reply": "2023-01-09T18:05:09.357664Z"
    },
    "papermill": {
     "duration": 0.284548,
     "end_time": "2023-01-09T18:05:09.361320",
     "exception": false,
     "start_time": "2023-01-09T18:05:09.076772",
     "status": "completed"
    },
    "tags": []
   },
   "outputs": [],
   "source": [
    "# Уберем из датафрейма все категориальные признаки.\n",
    "object_columns = [s for s in df.columns if df[s].dtypes == 'object']\n",
    "df.drop(object_columns, axis = 1, inplace=True)"
   ]
  },
  {
   "cell_type": "code",
   "execution_count": 44,
   "id": "049571ed",
   "metadata": {
    "execution": {
     "iopub.execute_input": "2023-01-09T18:05:09.407675Z",
     "iopub.status.busy": "2023-01-09T18:05:09.407011Z",
     "iopub.status.idle": "2023-01-09T18:05:09.494930Z",
     "shell.execute_reply": "2023-01-09T18:05:09.493750Z"
    },
    "papermill": {
     "duration": 0.114526,
     "end_time": "2023-01-09T18:05:09.497830",
     "exception": false,
     "start_time": "2023-01-09T18:05:09.383304",
     "status": "completed"
    },
    "tags": []
   },
   "outputs": [
    {
     "name": "stdout",
     "output_type": "stream",
     "text": [
      "<class 'pandas.core.frame.DataFrame'>\n",
      "Int64Index: 515431 entries, 0 to 515430\n",
      "Data columns (total 77 columns):\n",
      " #   Column                                      Non-Null Count   Dtype  \n",
      "---  ------                                      --------------   -----  \n",
      " 0   additional_number_of_scoring                515431 non-null  int64  \n",
      " 1   average_score                               515431 non-null  float64\n",
      " 2   review_total_negative_word_counts           515431 non-null  int64  \n",
      " 3   total_number_of_reviews                     515431 non-null  int64  \n",
      " 4   review_total_positive_word_counts           515431 non-null  int64  \n",
      " 5   total_number_of_reviews_reviewer_has_given  515431 non-null  int64  \n",
      " 6   lat                                         515431 non-null  float64\n",
      " 7   lng                                         515431 non-null  float64\n",
      " 8   sample                                      515431 non-null  int64  \n",
      " 9   reviewer_score                              515431 non-null  float64\n",
      " 10  review_month                                515431 non-null  int64  \n",
      " 11  review_week                                 515431 non-null  int64  \n",
      " 12  country-code                                515431 non-null  float64\n",
      " 13  compound_neg                                515431 non-null  float64\n",
      " 14  neg_neg                                     515431 non-null  float64\n",
      " 15  pos_neg                                     515431 non-null  float64\n",
      " 16  neu_neg                                     515431 non-null  float64\n",
      " 17  compound_pos                                515431 non-null  float64\n",
      " 18  neg_pos                                     515431 non-null  float64\n",
      " 19  pos_pos                                     515431 non-null  float64\n",
      " 20  neu_pos                                     515431 non-null  float64\n",
      " 21  with_pets                                   515431 non-null  int64  \n",
      " 22  Submitted from a mobile device              515431 non-null  int64  \n",
      " 23  privilege                                   515431 non-null  int64  \n",
      " 24  country_1                                   515431 non-null  int64  \n",
      " 25  country_2                                   515431 non-null  int64  \n",
      " 26  country_3                                   515431 non-null  int64  \n",
      " 27  country_4                                   515431 non-null  int64  \n",
      " 28  country_5                                   515431 non-null  int64  \n",
      " 29  country_6                                   515431 non-null  int64  \n",
      " 30  sentiment_type_neg_1                        515431 non-null  int64  \n",
      " 31  sentiment_type_neg_2                        515431 non-null  int64  \n",
      " 32  sentiment_type_neg_3                        515431 non-null  int64  \n",
      " 33  popular_negative_review_0                   515431 non-null  int64  \n",
      " 34  popular_negative_review_1                   515431 non-null  int64  \n",
      " 35  popular_negative_review_2                   515431 non-null  int64  \n",
      " 36  popular_negative_review_3                   515431 non-null  int64  \n",
      " 37  popular_negative_review_4                   515431 non-null  int64  \n",
      " 38  sentiment_type_pos_1                        515431 non-null  int64  \n",
      " 39  sentiment_type_pos_2                        515431 non-null  int64  \n",
      " 40  sentiment_type_pos_3                        515431 non-null  int64  \n",
      " 41  popular_positive_review_0                   515431 non-null  int64  \n",
      " 42  popular_positive_review_1                   515431 non-null  int64  \n",
      " 43  popular_positive_review_2                   515431 non-null  int64  \n",
      " 44  popular_positive_review_3                   515431 non-null  int64  \n",
      " 45  popular_positive_review_4                   515431 non-null  int64  \n",
      " 46  trip_1                                      515431 non-null  int64  \n",
      " 47  trip_2                                      515431 non-null  int64  \n",
      " 48  traveler_1                                  515431 non-null  int64  \n",
      " 49  traveler_2                                  515431 non-null  int64  \n",
      " 50  traveler_3                                  515431 non-null  int64  \n",
      " 51  traveler_4                                  515431 non-null  int64  \n",
      " 52  night_0                                     515431 non-null  int64  \n",
      " 53  night_1                                     515431 non-null  int64  \n",
      " 54  night_2                                     515431 non-null  int64  \n",
      " 55  night_3                                     515431 non-null  int64  \n",
      " 56  night_4                                     515431 non-null  int64  \n",
      " 57  night_5                                     515431 non-null  int64  \n",
      " 58  rooms_by_bed_1                              515431 non-null  int64  \n",
      " 59  rooms_by_bed_2                              515431 non-null  int64  \n",
      " 60  rooms_by_bed_3                              515431 non-null  int64  \n",
      " 61  rooms_by_bed_4                              515431 non-null  int64  \n",
      " 62  rooms_by_bed_5                              515431 non-null  int64  \n",
      " 63  rooms_by_bed_6                              515431 non-null  int64  \n",
      " 64  rooms_by_bed_7                              515431 non-null  int64  \n",
      " 65  rooms_by_bed_8                              515431 non-null  int64  \n",
      " 66  rooms_by_occupancy_1                        515431 non-null  int64  \n",
      " 67  rooms_by_occupancy_2                        515431 non-null  int64  \n",
      " 68  rooms_by_occupancy_3                        515431 non-null  int64  \n",
      " 69  rooms_by_occupancy_4                        515431 non-null  int64  \n",
      " 70  rooms_by_occupancy_5                        515431 non-null  int64  \n",
      " 71  rooms_by_occupancy_6                        515431 non-null  int64  \n",
      " 72  rooms_by_occupancy_7                        515431 non-null  int64  \n",
      " 73  rooms_by_occupancy_8                        515431 non-null  int64  \n",
      " 74  rooms_by_occupancy_9                        515431 non-null  int64  \n",
      " 75  rooms_by_occupancy_10                       515431 non-null  int64  \n",
      " 76  rooms_by_occupancy_11                       515431 non-null  int64  \n",
      "dtypes: float64(13), int64(64)\n",
      "memory usage: 306.7 MB\n"
     ]
    }
   ],
   "source": [
    "# Выведем информацию по нашему датасету.\n",
    "df.info()"
   ]
  },
  {
   "cell_type": "markdown",
   "id": "28e508e2",
   "metadata": {
    "papermill": {
     "duration": 0.021604,
     "end_time": "2023-01-09T18:05:09.541475",
     "exception": false,
     "start_time": "2023-01-09T18:05:09.519871",
     "status": "completed"
    },
    "tags": []
   },
   "source": [
    "### Мы получили 77 числовых признаков и без пропусков. \n",
    "#### Проведем корреляцию наших числовых признаков."
   ]
  },
  {
   "cell_type": "code",
   "execution_count": 45,
   "id": "e07ddf10",
   "metadata": {
    "execution": {
     "iopub.execute_input": "2023-01-09T18:05:09.587391Z",
     "iopub.status.busy": "2023-01-09T18:05:09.586469Z",
     "iopub.status.idle": "2023-01-09T18:06:03.667432Z",
     "shell.execute_reply": "2023-01-09T18:06:03.666501Z"
    },
    "papermill": {
     "duration": 54.107242,
     "end_time": "2023-01-09T18:06:03.670556",
     "exception": false,
     "start_time": "2023-01-09T18:05:09.563314",
     "status": "completed"
    },
    "tags": []
   },
   "outputs": [
    {
     "data": {
      "text/plain": [
       "<AxesSubplot:>"
      ]
     },
     "execution_count": 45,
     "metadata": {},
     "output_type": "execute_result"
    },
    {
     "data": {
      "image/png": "[encoded data removed]",
      "text/plain": [
       "<Figure size 1440x1080 with 2 Axes>"
      ]
     },
     "metadata": {},
     "output_type": "display_data"
    }
   ],
   "source": [
    "# Покажем корреляцию в виде тепловой карты.\n",
    "sns.set()\n",
    "fig, ax = plt.subplots(figsize=(20,15))\n",
    "corr_df = df.corr(method='spearman')\n",
    "# Отобразим корреляцию выше 80%.\n",
    "sns.heatmap(corr_df[abs(corr_df) >= 0.8], annot=True, linewidths=.5, ax=ax)"
   ]
  },
  {
   "cell_type": "code",
   "execution_count": 46,
   "id": "f645a13d",
   "metadata": {
    "execution": {
     "iopub.execute_input": "2023-01-09T18:06:03.723407Z",
     "iopub.status.busy": "2023-01-09T18:06:03.722623Z",
     "iopub.status.idle": "2023-01-09T18:06:06.969269Z",
     "shell.execute_reply": "2023-01-09T18:06:06.968068Z"
    },
    "papermill": {
     "duration": 3.276938,
     "end_time": "2023-01-09T18:06:06.973328",
     "exception": false,
     "start_time": "2023-01-09T18:06:03.696390",
     "status": "completed"
    },
    "tags": []
   },
   "outputs": [
    {
     "data": {
      "image/png": "[encoded data removed]",
      "text/plain": [
       "<Figure size 1080x1440 with 1 Axes>"
      ]
     },
     "metadata": {},
     "output_type": "display_data"
    }
   ],
   "source": [
    "# Проведем оценку значимости признаков.\n",
    "y = df.query('sample == 1').drop(['sample'], axis=1).reviewer_score.values\n",
    "X = df.query('sample == 1').drop(['sample', 'reviewer_score'], axis=1)\n",
    "\n",
    "# Визуализируем результат анализа значимости.\n",
    "imp_num = pd.Series(f_classif(X[X.columns], y)[0], index = X.columns)\n",
    "imp_num.sort_values(inplace = True)\n",
    "\n",
    "fig5, ax5 = plt.subplots(figsize=(15, 20))\n",
    "imp_num.plot(kind = 'barh', color='green');"
   ]
  },
  {
   "cell_type": "code",
   "execution_count": 47,
   "id": "9e61cbe7",
   "metadata": {
    "execution": {
     "iopub.execute_input": "2023-01-09T18:06:07.031441Z",
     "iopub.status.busy": "2023-01-09T18:06:07.031009Z",
     "iopub.status.idle": "2023-01-09T18:06:07.173779Z",
     "shell.execute_reply": "2023-01-09T18:06:07.172526Z"
    },
    "papermill": {
     "duration": 0.174899,
     "end_time": "2023-01-09T18:06:07.176212",
     "exception": false,
     "start_time": "2023-01-09T18:06:07.001313",
     "status": "completed"
    },
    "tags": []
   },
   "outputs": [],
   "source": [
    "# Удалим некоторые признаки с высокой корреляцией.\n",
    "df.drop(['lat', 'lng', 'additional_number_of_scoring', 'trip_2', 'sentiment_type_neg_1', 'sentiment_type_pos_2'], axis = 1, inplace=True)"
   ]
  },
  {
   "cell_type": "markdown",
   "id": "cb2f6cbe",
   "metadata": {
    "papermill": {
     "duration": 0.027224,
     "end_time": "2023-01-09T18:06:07.231056",
     "exception": false,
     "start_time": "2023-01-09T18:06:07.203832",
     "status": "completed"
    },
    "tags": []
   },
   "source": [
    "### Запускаем модель."
   ]
  },
  {
   "cell_type": "code",
   "execution_count": 48,
   "id": "fcb86da7",
   "metadata": {
    "execution": {
     "iopub.execute_input": "2023-01-09T18:06:07.289689Z",
     "iopub.status.busy": "2023-01-09T18:06:07.288421Z",
     "iopub.status.idle": "2023-01-09T18:10:07.271807Z",
     "shell.execute_reply": "2023-01-09T18:10:07.269949Z"
    },
    "papermill": {
     "duration": 240.016794,
     "end_time": "2023-01-09T18:10:07.275569",
     "exception": false,
     "start_time": "2023-01-09T18:06:07.258775",
     "status": "completed"
    },
    "tags": []
   },
   "outputs": [
    {
     "name": "stderr",
     "output_type": "stream",
     "text": [
      "[Parallel(n_jobs=-1)]: Using backend ThreadingBackend with 4 concurrent workers.\n",
      "[Parallel(n_jobs=-1)]: Done  42 tasks      | elapsed:  1.7min\n",
      "[Parallel(n_jobs=-1)]: Done 100 out of 100 | elapsed:  3.9min finished\n",
      "[Parallel(n_jobs=4)]: Using backend ThreadingBackend with 4 concurrent workers.\n",
      "[Parallel(n_jobs=4)]: Done  42 tasks      | elapsed:    1.3s\n"
     ]
    },
    {
     "name": "stdout",
     "output_type": "stream",
     "text": [
      "MAPE: 0.12274025236842499\n"
     ]
    },
    {
     "name": "stderr",
     "output_type": "stream",
     "text": [
      "[Parallel(n_jobs=4)]: Done 100 out of 100 | elapsed:    2.6s finished\n"
     ]
    }
   ],
   "source": [
    "# Разбиваем датафрейм на части, необходимые для обучения и тестирования модели.\n",
    "train_data = df.query('sample == 1').drop(['sample'], axis=1)\n",
    "test_data = df.query('sample == 0').drop(['sample'], axis=1)\n",
    "\n",
    "# Х - данные с информацией об отелях, у - целевая переменная (рейтинги отелей).\n",
    "y = train_data.reviewer_score.values \n",
    "X = train_data.drop(['reviewer_score'], axis=1)\n",
    "\n",
    "# Наборы данных с меткой \"train\" будут использоваться для обучения модели, \"test\" - для тестирования.  \n",
    "X_train, X_test, y_train, y_test = train_test_split(X, y, test_size=0.25, random_state=42)\n",
    "\n",
    "# Создаём модель.  \n",
    "regr = RandomForestRegressor(n_estimators=100, verbose=1, n_jobs=-1, random_state=42)\n",
    "      \n",
    "# Обучаем модель на тестовом наборе данных.\n",
    "regr.fit(X_train, y_train)  \n",
    "      \n",
    "# Используем обученную модель для предсказания рейтинга отелей в тестовой выборке.  \n",
    "# Предсказанные значения записываем в переменную y_pred.\n",
    "y_pred = regr.predict(X_test)  \n",
    "\n",
    "# Сравниваем предсказанные значения (y_pred) с реальными (y_test).\n",
    "print('MAPE:', metrics.mean_absolute_percentage_error(y_test, y_pred))"
   ]
  },
  {
   "cell_type": "markdown",
   "id": "3f3ac1ce",
   "metadata": {
    "papermill": {
     "duration": 0.028779,
     "end_time": "2023-01-09T18:10:07.333622",
     "exception": false,
     "start_time": "2023-01-09T18:10:07.304843",
     "status": "completed"
    },
    "tags": []
   },
   "source": [
    "#### Значение МАРЕ получилось 0.12274"
   ]
  },
  {
   "cell_type": "code",
   "execution_count": 49,
   "id": "2f9f1430",
   "metadata": {
    "execution": {
     "iopub.execute_input": "2023-01-09T18:10:07.392311Z",
     "iopub.status.busy": "2023-01-09T18:10:07.391716Z",
     "iopub.status.idle": "2023-01-09T18:10:11.516693Z",
     "shell.execute_reply": "2023-01-09T18:10:11.515349Z"
    },
    "papermill": {
     "duration": 4.157593,
     "end_time": "2023-01-09T18:10:11.519496",
     "exception": false,
     "start_time": "2023-01-09T18:10:07.361903",
     "status": "completed"
    },
    "tags": []
   },
   "outputs": [
    {
     "name": "stderr",
     "output_type": "stream",
     "text": [
      "[Parallel(n_jobs=4)]: Using backend ThreadingBackend with 4 concurrent workers.\n",
      "[Parallel(n_jobs=4)]: Done  42 tasks      | elapsed:    1.8s\n",
      "[Parallel(n_jobs=4)]: Done 100 out of 100 | elapsed:    4.0s finished\n"
     ]
    }
   ],
   "source": [
    "# Выполняем предсказание на тестовых данных.\n",
    "test_data = test_data.drop(['reviewer_score'], axis=1)\n",
    "predict_submission = regr.predict(test_data)\n",
    "submission['reviewer_score'] = predict_submission"
   ]
  },
  {
   "cell_type": "code",
   "execution_count": 50,
   "id": "26779be9",
   "metadata": {
    "execution": {
     "iopub.execute_input": "2023-01-09T18:10:11.579196Z",
     "iopub.status.busy": "2023-01-09T18:10:11.578717Z",
     "iopub.status.idle": "2023-01-09T18:10:11.880460Z",
     "shell.execute_reply": "2023-01-09T18:10:11.879145Z"
    },
    "papermill": {
     "duration": 0.33471,
     "end_time": "2023-01-09T18:10:11.883411",
     "exception": false,
     "start_time": "2023-01-09T18:10:11.548701",
     "status": "completed"
    },
    "tags": []
   },
   "outputs": [],
   "source": [
    "# Сохраним полученные данные и сделаем сабмит.\n",
    "submission.to_csv('submission.csv', index=False)"
   ]
  },
  {
   "cell_type": "code",
   "execution_count": null,
   "id": "ddba4674",
   "metadata": {
    "papermill": {
     "duration": 0.028823,
     "end_time": "2023-01-09T18:10:11.941812",
     "exception": false,
     "start_time": "2023-01-09T18:10:11.912989",
     "status": "completed"
    },
    "tags": []
   },
   "outputs": [],
   "source": []
  }
 ],
 "metadata": {
  "kernelspec": {
   "display_name": "Python 3",
   "language": "python",
   "name": "python3"
  },
  "language_info": {
   "codemirror_mode": {
    "name": "ipython",
    "version": 3
   },
   "file_extension": ".py",
   "mimetype": "text/x-python",
   "name": "python",
   "nbconvert_exporter": "python",
   "pygments_lexer": "ipython3",
   "version": "3.7.12"
  },
  "papermill": {
   "default_parameters": {},
   "duration": 640.007316,
   "end_time": "2023-01-09T18:10:13.599358",
   "environment_variables": {},
   "exception": null,
   "input_path": "__notebook__.ipynb",
   "output_path": "__notebook__.ipynb",
   "parameters": {},
   "start_time": "2023-01-09T17:59:33.592042",
   "version": "2.3.4"
  }
 },
 "nbformat": 4,
 "nbformat_minor": 5
}
