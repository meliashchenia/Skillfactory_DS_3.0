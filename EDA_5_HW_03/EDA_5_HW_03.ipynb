{
 "cells": [
  {
   "cell_type": "markdown",
   "id": "c8a6af25-08d3-487a-bd90-001772ac9161",
   "metadata": {},
   "source": [
    "## <center> **Анализ результатов A/B-тестирования**"
   ]
  },
  {
   "cell_type": "markdown",
   "id": "d7d45571-6545-4904-a86b-9b3b6b8163d3",
   "metadata": {},
   "source": [
    "Компания планирует запустить новую акцию, чтобы продать как можно больше туров. Команда разработала два варианта посадочной страницы официального сайта компании и провела A/B-тестирование. Собранные в результате проведения эксперимента данные вы можете найти здесь.\n",
    "\n",
    "Вам предстоит решить настоящую бизнес-задачу: проанализировать эффективность обоих вариантов посадочной страницы сразу по двум критериям: конверсии покупки и среднему чеку. На основе проведенного анализа вам будет необходимо сделать выводы и принять решение: какой из вариантов дизайна более предпочтительный.\n",
    "\n",
    "Итак, наша фирма предлагает следующие варианты туров и их соответствующие стоимости:\n",
    "* Таиланд — 100000 рублей;\n",
    "* Турция — 60000 рублей;\n",
    "* Мальдивы — 200000 рублей;\n",
    "* Санкт-Петербург — 10000 рублей;\n",
    "* Камчатка — 150000 рублей."
   ]
  },
  {
   "cell_type": "code",
   "execution_count": 79,
   "id": "a974b482-e192-4014-8520-8a5c0c946da6",
   "metadata": {},
   "outputs": [],
   "source": [
    "import pandas as pd\n",
    "import matplotlib.pyplot as plt\n",
    "import seaborn as sns\n",
    "from scipy.stats import norm\n",
    "from scipy.stats import t\n",
    "from scipy.stats import ttest_ind, shapiro, f_oneway, mannwhitneyu\n",
    "from statsmodels.stats.proportion import proportions_ztest"
   ]
  },
  {
   "cell_type": "markdown",
   "id": "55c84550-4162-4325-acc2-7d3c0aafe6f0",
   "metadata": {},
   "source": [
    "Прочитаем наши данные и посмотрим на столбцы таблицы:"
   ]
  },
  {
   "cell_type": "code",
   "execution_count": 80,
   "id": "b0d18245-b9da-44bd-8aea-d272ea74b63a",
   "metadata": {},
   "outputs": [
    {
     "data": {
      "text/html": [
       "<div>\n",
       "<style scoped>\n",
       "    .dataframe tbody tr th:only-of-type {\n",
       "        vertical-align: middle;\n",
       "    }\n",
       "\n",
       "    .dataframe tbody tr th {\n",
       "        vertical-align: top;\n",
       "    }\n",
       "\n",
       "    .dataframe thead th {\n",
       "        text-align: right;\n",
       "    }\n",
       "</style>\n",
       "<table border=\"1\" class=\"dataframe\">\n",
       "  <thead>\n",
       "    <tr style=\"text-align: right;\">\n",
       "      <th></th>\n",
       "      <th>user_id</th>\n",
       "      <th>date</th>\n",
       "      <th>group</th>\n",
       "      <th>purchase</th>\n",
       "      <th>price</th>\n",
       "    </tr>\n",
       "  </thead>\n",
       "  <tbody>\n",
       "    <tr>\n",
       "      <th>0</th>\n",
       "      <td>851104</td>\n",
       "      <td>2021-01-21</td>\n",
       "      <td>A</td>\n",
       "      <td>0</td>\n",
       "      <td>0</td>\n",
       "    </tr>\n",
       "    <tr>\n",
       "      <th>1</th>\n",
       "      <td>804228</td>\n",
       "      <td>2021-01-12</td>\n",
       "      <td>A</td>\n",
       "      <td>0</td>\n",
       "      <td>0</td>\n",
       "    </tr>\n",
       "    <tr>\n",
       "      <th>2</th>\n",
       "      <td>661590</td>\n",
       "      <td>2021-01-11</td>\n",
       "      <td>B</td>\n",
       "      <td>0</td>\n",
       "      <td>0</td>\n",
       "    </tr>\n",
       "    <tr>\n",
       "      <th>3</th>\n",
       "      <td>853541</td>\n",
       "      <td>2021-01-08</td>\n",
       "      <td>B</td>\n",
       "      <td>0</td>\n",
       "      <td>0</td>\n",
       "    </tr>\n",
       "    <tr>\n",
       "      <th>4</th>\n",
       "      <td>864975</td>\n",
       "      <td>2021-01-21</td>\n",
       "      <td>A</td>\n",
       "      <td>1</td>\n",
       "      <td>150000</td>\n",
       "    </tr>\n",
       "  </tbody>\n",
       "</table>\n",
       "</div>"
      ],
      "text/plain": [
       "   user_id        date group  purchase   price\n",
       "0   851104  2021-01-21     A         0       0\n",
       "1   804228  2021-01-12     A         0       0\n",
       "2   661590  2021-01-11     B         0       0\n",
       "3   853541  2021-01-08     B         0       0\n",
       "4   864975  2021-01-21     A         1  150000"
      ]
     },
     "execution_count": 80,
     "metadata": {},
     "output_type": "execute_result"
    }
   ],
   "source": [
    "data = pd.read_csv('data/ab_data_tourist.csv')\n",
    "data.head()"
   ]
  },
  {
   "cell_type": "markdown",
   "id": "2fc48225-26ac-49c4-b99d-8b2a03dd74a1",
   "metadata": {
    "tags": []
   },
   "source": [
    "## **Задание 7.1.**\n",
    "\n",
    "Начнем с исследования структуры наших данных. С помощью метода info() выведите информацию о типах данных и количестве непустых значений. Какой тип данных имеет столбец date?"
   ]
  },
  {
   "cell_type": "code",
   "execution_count": 81,
   "id": "23496521-4878-46e2-ab02-1a98be14884a",
   "metadata": {},
   "outputs": [
    {
     "name": "stdout",
     "output_type": "stream",
     "text": [
      "<class 'pandas.core.frame.DataFrame'>\n",
      "RangeIndex: 294478 entries, 0 to 294477\n",
      "Data columns (total 5 columns):\n",
      " #   Column    Non-Null Count   Dtype \n",
      "---  ------    --------------   ----- \n",
      " 0   user_id   294478 non-null  int64 \n",
      " 1   date      294478 non-null  object\n",
      " 2   group     294478 non-null  object\n",
      " 3   purchase  294478 non-null  int64 \n",
      " 4   price     294478 non-null  int64 \n",
      "dtypes: int64(3), object(2)\n",
      "memory usage: 11.2+ MB\n",
      "None\n"
     ]
    }
   ],
   "source": [
    "# Выводим информацию о данных.\n",
    "print(data.info())"
   ]
  },
  {
   "cell_type": "markdown",
   "id": "8247d281",
   "metadata": {},
   "source": [
    "### Вывод:\n",
    "*Столбец date имеет тип данных - object.*"
   ]
  },
  {
   "cell_type": "markdown",
   "id": "946d017d-b4fe-4a17-b91d-0ce369d1ab2e",
   "metadata": {
    "tags": []
   },
   "source": [
    "## **Задание 7.2.**\n",
    "\n",
    "Приведите столбец date к типу данных datetime. Убедитесь в равной длительности проведения тестирования для каждой из группы. Для этого сгруппируйте данные по признаку группы и определите первую и последнюю дату наблюдения для каждой из групп. \n",
    "\n",
    "В какой промежуток времени проводился A/B-тест?\n"
   ]
  },
  {
   "cell_type": "code",
   "execution_count": 82,
   "id": "604c619d-6338-45c8-8248-ac098a2366bb",
   "metadata": {},
   "outputs": [
    {
     "name": "stdout",
     "output_type": "stream",
     "text": [
      "Тестирование началось 2021-01-02 и закончилось 2021-01-24.\n"
     ]
    }
   ],
   "source": [
    "# Приводим столбец date к типу данных datetime.\n",
    "data['date'] = pd.to_datetime(data['date'], format='%Y-%m-%d')\n",
    "\n",
    "# Группируем данные по признаку группы и определите первую и последнюю дату наблюдения для каждой из групп.\n",
    "duration = data.groupby(['group'])['date'].agg(['min','max']).reset_index()\n",
    "\n",
    "# Проверка длительности тестирования.\n",
    "if duration['min'].iloc[0] == duration['min'].iloc[1]\\\n",
    "and duration['max'].iloc[0] == duration['max'].iloc[1]:\n",
    "    print(f\"Тестирование началось {duration['min'].dt.date.iloc[0]}\\\n",
    " и закончилось {duration['max'].dt.date.iloc[0]}.\")\n",
    "else:\n",
    "    print('Длительность проведения тестирования между группами не совпадает.')"
   ]
  },
  {
   "cell_type": "markdown",
   "id": "e04eb341-52ae-48b3-9dc2-0578ca91641a",
   "metadata": {},
   "source": [
    "## **Задание 7.3.**\n",
    "\n",
    "* Чему равно количество посещений сайта в группах А и B?\n",
    "\n",
    "* Чему равно суммарное количество покупок в группах А и B?\n",
    "\n",
    "* Чему равна сумма всех покупок в группах А и B? Ответ приведите в миллионах рублей. Например, 185.52 млн. руб."
   ]
  },
  {
   "cell_type": "code",
   "execution_count": 83,
   "id": "02bf0148-488e-4f34-95bf-37794b2fa98b",
   "metadata": {},
   "outputs": [
    {
     "name": "stdout",
     "output_type": "stream",
     "text": [
      "Количество посешений сайта в группе А: 147202.\n",
      "Количество посешений сайта в группе B: 147276.\n",
      "Количество покупок в группе А: 17723.\n",
      "Количество покупок в группе B: 17514.\n",
      "Сумма покупок в группе А: 1436.26 млн.руб.\n",
      "Сумма покупок в группе B: 1554.1 млн.руб.\n"
     ]
    }
   ],
   "source": [
    "# Группируем данные по группам и выводим информацию о количестве посещений сайта.\n",
    "number_of_visits = data.groupby(['group'])['user_id'].count().reset_index()\n",
    "\n",
    "# Выводим информацию.\n",
    "print(f\"Количество посешений сайта в группе А: {number_of_visits['user_id'].iloc[0]}.\")\n",
    "print(f\"Количество посешений сайта в группе B: {number_of_visits['user_id'].iloc[1]}.\")\n",
    "\n",
    "\n",
    "# Группируем данные по группам и выводим информацию о количествах покупок.\n",
    "number_of_purchase = data.groupby(['group'])['purchase'].sum().reset_index()\n",
    "\n",
    "# Выводим информацию.\n",
    "print(f\"Количество покупок в группе А: {number_of_purchase['purchase'].iloc[0]}.\")\n",
    "print(f\"Количество покупок в группе B: {number_of_purchase['purchase'].iloc[1]}.\")\n",
    "\n",
    "\n",
    "# Группируем данные по группам и выводим информацию о сумме покупок.\n",
    "number_of_purchase = data.groupby(['group'])['price'].sum().reset_index()\n",
    "\n",
    "# Выводим информацию.\n",
    "print(f\"Сумма покупок в группе А: {number_of_purchase['price'].iloc[0]/1000000} млн.руб.\")\n",
    "print(f\"Сумма покупок в группе B: {number_of_purchase['price'].iloc[1]/1000000} млн.руб.\")"
   ]
  },
  {
   "cell_type": "markdown",
   "id": "2434db1b-17e6-4977-8e54-1df875c6f221",
   "metadata": {
    "tags": []
   },
   "source": [
    "## **Задание 7.4.**\n",
    "\n",
    "Проверьте, есть ли пользователи, которые в процессе A/B-теста попали в обе тестовые группы? Если да, то сколько таких уникальных пользователей, если нет - введите в поле для ответа 0?\n",
    "\n",
    "**Подсказка:**\n",
    "\n",
    "*Создайте множество пользователей группы А и множество пользователей группы B. Пересеките два этих множества (операция intersection) и вычислите количество элементов в полученном множестве.*\n"
   ]
  },
  {
   "cell_type": "code",
   "execution_count": 84,
   "id": "57a2d711-057d-4f8b-9f56-df0f772d41c8",
   "metadata": {},
   "outputs": [
    {
     "name": "stdout",
     "output_type": "stream",
     "text": [
      "Количество уникальных пользователей попавших в обе группы тестирования: 1895.\n"
     ]
    }
   ],
   "source": [
    "# Создаем множество пользователей группы А и группы B.\n",
    "user_a = set(data[data['group'] == 'A']['user_id'])\n",
    "user_b = set(data[data['group'] == 'B']['user_id'])\n",
    "\n",
    "# Проверяем, есть ли пользователи, которые в процессе A/B-теста попали в обе тестовые группы.\n",
    "user_intersection = user_a.intersection(user_b)\n",
    "\n",
    "# Выводим информацию.\n",
    "print(f\"Количество уникальных пользователей попавших в обе группы тестирования: {len(user_intersection)}.\")"
   ]
  },
  {
   "cell_type": "markdown",
   "id": "118b1904-7d7a-4935-825e-535da45c611b",
   "metadata": {
    "tags": []
   },
   "source": [
    "## **Исключите пользователей, оказавшихся в обеих группах**\n",
    "\n",
    "Так как мы не можем определить, какая из версий сайта повлияла на принятие решения, исключим этих пользователей. Далее мы будем работать только с очищенными от пересечений данными.\n",
    "\n",
    "Возможный вариант исключения пользователей:"
   ]
  },
  {
   "cell_type": "code",
   "execution_count": 85,
   "id": "f618b34b-35a3-4bf1-8d6d-38b3401930b7",
   "metadata": {},
   "outputs": [],
   "source": [
    "# Создаем новый dataframe с очищенными пользователями.\n",
    "updated_data = data[data['user_id'].apply(lambda x: x not in user_intersection)]"
   ]
  },
  {
   "attachments": {
    "95f235d2-6323-4799-bf69-697fc57f727b.png": {
     "image/png": "[encoded data removed]"
    }
   },
   "cell_type": "markdown",
   "id": "2ddf6b2c-7987-41f3-82b1-8992630ae97b",
   "metadata": {
    "tags": []
   },
   "source": [
    "## **Задание 7.5.**\n",
    "\n",
    "Для первичного анализа результатов A/B-тестирования нам понадобится таблица следующего вида:\n",
    "\n",
    "![image.png](attachment:95f235d2-6323-4799-bf69-697fc57f727b.png)\n",
    " \n",
    " \n",
    "Для того, чтобы получить такую таблицу, сгруппируйте данные по признаку группы. В каждой группе рассчитайте следующие показатели:\n",
    "* количество посещений (количество пользователей)\n",
    "* количество совершенных покупок\n",
    "* сумма всех покупок в группе\n",
    "\n",
    "В полученной сгруппированной таблице переименуйте столбцы на **count_visits, count_purchases и sum_price**.\n",
    "\n",
    "**Подсказка:**\n",
    "\n",
    "*Для переименования столбцов можно использовать метод rename() с параметром columns, в который передается словарь. Ключи этого словаря - старые имена столбцов, а значения - новые.*\n",
    "\n",
    "Чему на этот раз равно количество посещений сайта в группах А и B?\n"
   ]
  },
  {
   "cell_type": "code",
   "execution_count": 86,
   "id": "5c0c018e-a250-48e9-b72a-e3c7be586ebd",
   "metadata": {},
   "outputs": [
    {
     "name": "stdout",
     "output_type": "stream",
     "text": [
      "Количество посещений сайта в группе А: 145307.\n",
      "Количество посещений сайта в группе B: 145381.\n"
     ]
    }
   ],
   "source": [
    "# Создаем таблицу для первичного анализа результатов A/B-тестирования.\n",
    "analysis_df = updated_data.groupby(['group']).agg(\n",
    "    {'user_id': 'count', 'purchase': 'sum', 'price': 'sum'}\n",
    ").reset_index().rename(\n",
    "    columns={'user_id': 'count_visits', 'purchase': 'count_purchases', 'price': 'sum_price'})\n",
    "\n",
    "# Выводим информацию.\n",
    "print(f\"Количество посещений сайта в группе А: {analysis_df['count_visits'].iloc[0]}.\")\n",
    "print(f\"Количество посещений сайта в группе B: {analysis_df['count_visits'].iloc[1]}.\")"
   ]
  },
  {
   "cell_type": "markdown",
   "id": "b71e1390-9846-4a8e-b357-f82b847d1952",
   "metadata": {},
   "source": [
    "Приведите промежуточные выводы по построенной таблице. Сопоставимо ли количество посещений обоих вариантов посадочной странице, можно ли говорить о сбалансированности выборок?"
   ]
  },
  {
   "cell_type": "markdown",
   "id": "4ea1b65b-475e-4bff-9460-fac0acdb9620",
   "metadata": {},
   "source": [
    "### Вывод:\n",
    "*Исходя их полученных данных мы видим, что посещение в группе В немного выше, чем в группе В. Но данная разница составляет лишь 74 человека, а это лишь 0.018%. Получить идеально сбалансированную выборку крайне сложно. И учитывая, что наш процент различия между выборками составляет лишь 0.018%, то это не окажет огромного влияния на наш аналих данных.*"
   ]
  },
  {
   "cell_type": "markdown",
   "id": "afb2ee0a-31d1-45a5-be42-a2bf168b9448",
   "metadata": {
    "tags": []
   },
   "source": [
    "## **Задание 7.6.**\n",
    "\n",
    "Добавьте в сгруппированную таблицу столбцы conversion - конверсия покупки (отношение количества покупок к количеству посещений сайта в каждой группе, выраженное в процентах) и mean_check - средний чек (отношение суммы покупок к количеству покупок в каждой группе).\n",
    "\n",
    "* Чему равна конверсия в группах? Ответ приведите в процентах и округлите до сотых. Например, 75.12 %\n",
    "* Чему равен средний чек в группах? Ответ приведите в рублях и округлите до целых. Например, 120519 рублей."
   ]
  },
  {
   "cell_type": "code",
   "execution_count": 87,
   "id": "bd9c3b3e-5956-41a8-bae0-43693f6de1f2",
   "metadata": {},
   "outputs": [
    {
     "name": "stdout",
     "output_type": "stream",
     "text": [
      "Конверсия покупок в группе А: 12.03.\n",
      "Конверсия покупок в группе B: 11.89.\n",
      "Средний чек в группе А: 81076 руб.\n",
      "Средний чек в группе B: 88665 руб.\n"
     ]
    }
   ],
   "source": [
    "# Добавляем столбцы с конверсией покупки и средним чеком.\n",
    "analysis_df['conversion'] = (analysis_df['count_purchases'] / analysis_df['count_visits'])*100\n",
    "analysis_df['mean_check'] = (analysis_df['sum_price'] / analysis_df['count_purchases'])\n",
    "\n",
    "# Выводим информацию.\n",
    "print(f\"Конверсия покупок в группе А: {round(analysis_df['conversion'].iloc[0], 2)}.\")\n",
    "print(f\"Конверсия покупок в группе B: {round(analysis_df['conversion'].iloc[1], 2)}.\")\n",
    "print(f\"Средний чек в группе А: {round(analysis_df['mean_check'].iloc[0])} руб.\")\n",
    "print(f\"Средний чек в группе B: {round(analysis_df['mean_check'].iloc[1])} руб.\")"
   ]
  },
  {
   "cell_type": "markdown",
   "id": "1eb6e140-c702-43e0-b301-9914a7f49448",
   "metadata": {},
   "source": [
    "Приведите промежуточные выводы по таблице. По какому(им) показателю(ям) вариант А эффективнее варианта B и наоборот?"
   ]
  },
  {
   "cell_type": "markdown",
   "id": "9e88c883-84f9-44ec-accd-04d5d459b261",
   "metadata": {},
   "source": [
    "### Вывод:\n",
    "*Исходя их полученных данных мы видим, что конверсия покупок в группе А выше чем в группе В, а средний чек в группе В выше. Это нам говорит о том, что в группе А клиенты покупают больше туров, но за меньшую цену. И соответственно наоборот в группе В цена приобретенных туров была выше, чем в группе А.*"
   ]
  },
  {
   "cell_type": "markdown",
   "id": "7f9f1ae0-f12f-49b3-8b57-1c299c208c49",
   "metadata": {
    "tags": []
   },
   "source": [
    "## **Задание 7.7.**\n",
    "\n",
    "Теперь давайте сравним варианты по покупательской способности туров. Для этого постройте сводную таблицу, которая покажет зависимость количества продаж от группы и цены тура. "
   ]
  },
  {
   "cell_type": "code",
   "execution_count": 88,
   "id": "78d46a02-cc30-4783-9b18-9fc9c6a08012",
   "metadata": {},
   "outputs": [
    {
     "data": {
      "text/html": [
       "<div>\n",
       "<style scoped>\n",
       "    .dataframe tbody tr th:only-of-type {\n",
       "        vertical-align: middle;\n",
       "    }\n",
       "\n",
       "    .dataframe tbody tr th {\n",
       "        vertical-align: top;\n",
       "    }\n",
       "\n",
       "    .dataframe thead th {\n",
       "        text-align: right;\n",
       "    }\n",
       "</style>\n",
       "<table border=\"1\" class=\"dataframe\">\n",
       "  <thead>\n",
       "    <tr style=\"text-align: right;\">\n",
       "      <th>price</th>\n",
       "      <th>10000</th>\n",
       "      <th>60000</th>\n",
       "      <th>100000</th>\n",
       "      <th>150000</th>\n",
       "      <th>200000</th>\n",
       "    </tr>\n",
       "    <tr>\n",
       "      <th>group</th>\n",
       "      <th></th>\n",
       "      <th></th>\n",
       "      <th></th>\n",
       "      <th></th>\n",
       "      <th></th>\n",
       "    </tr>\n",
       "  </thead>\n",
       "  <tbody>\n",
       "    <tr>\n",
       "      <th>A</th>\n",
       "      <td>5182</td>\n",
       "      <td>5271</td>\n",
       "      <td>1832</td>\n",
       "      <td>3478</td>\n",
       "      <td>1724</td>\n",
       "    </tr>\n",
       "    <tr>\n",
       "      <th>B</th>\n",
       "      <td>5201</td>\n",
       "      <td>1730</td>\n",
       "      <td>5227</td>\n",
       "      <td>3438</td>\n",
       "      <td>1694</td>\n",
       "    </tr>\n",
       "  </tbody>\n",
       "</table>\n",
       "</div>"
      ],
      "text/plain": [
       "price  10000   60000   100000  150000  200000\n",
       "group                                        \n",
       "A        5182    5271    1832    3478    1724\n",
       "B        5201    1730    5227    3438    1694"
      ]
     },
     "metadata": {},
     "output_type": "display_data"
    }
   ],
   "source": [
    "# Строим сводную таблицу, которая показывает зависимость количества продаж от группы и цены тура.\n",
    "pivot_df = updated_data[updated_data['price'] > 0].pivot_table(\n",
    "    index='group', \n",
    "    columns='price', \n",
    "    values='purchase', \n",
    "    aggfunc='sum'\n",
    ")\n",
    "# Выводим таблицу.\n",
    "display(pivot_df)"
   ]
  },
  {
   "cell_type": "markdown",
   "id": "977423ed-8f8d-475c-b773-621edd95338d",
   "metadata": {},
   "source": [
    "Визуализируйте полученную сводную таблицу с помощью тепловой карты с аннотацией. \n",
    "Чему равно количество проданных туров за 60000 рублей в группах?"
   ]
  },
  {
   "cell_type": "code",
   "execution_count": 89,
   "id": "f634fa8d-585c-42e3-b7d5-78e8d9eaa8c5",
   "metadata": {},
   "outputs": [
    {
     "name": "stdout",
     "output_type": "stream",
     "text": [
      "Количество проданных туров за 60000 рублей в группе А: 5271.\n",
      "Количество проданных туров за 60000 рублей в группе B: 1730.\n"
     ]
    },
    {
     "data": {
      "image/png": "[encoded data removed]",
      "text/plain": [
       "<Figure size 792x360 with 2 Axes>"
      ]
     },
     "metadata": {
      "needs_background": "light"
     },
     "output_type": "display_data"
    }
   ],
   "source": [
    "# Создаем тепловую карту сводной таблицы.\n",
    "fig = plt.figure(figsize=(11, 5))\n",
    "ax = sns.heatmap(pivot_df, fmt='.0f', annot=True);\n",
    "\n",
    "# Задаем название тепловой карте.\n",
    "ax.set_title('Тепловая карта покупательской способности туров в группах');\n",
    "\n",
    "# Выводим информацию.\n",
    "print(f\"Количество проданных туров за 60000 рублей в группе А: {pivot_df[60000].loc['A']}.\")\n",
    "print(f\"Количество проданных туров за 60000 рублей в группе B: {pivot_df[60000].loc['B']}.\")"
   ]
  },
  {
   "cell_type": "markdown",
   "id": "9caa92ca-e261-4b8f-a16c-2abc322c9ffb",
   "metadata": {},
   "source": [
    "Сделайте выводы по построенной таблице. По каким турам покупательская способность участников группы А выше, чем участников группы B и наоборот?"
   ]
  },
  {
   "cell_type": "markdown",
   "id": "6d13fd45-e3df-468f-9d32-1fc45d38b10c",
   "metadata": {},
   "source": [
    "### Вывод:\n",
    "*В группе А наибольшая покупательсткая способность по турам за 60000 руб. А в группе В по турам за 100000 руб. В группе А предпочитают ехать в Турцию, а в группе В в Тайланд. А в целом, если посмотреть на тепловую карту, то видно, что за туры по 10000 руб., 150000 руб., 200000 руб. покупательская способность зависит лишь от цены, а не от группы.*"
   ]
  },
  {
   "cell_type": "markdown",
   "id": "8f021fb4-d0f6-4e43-b518-1a96c07a4531",
   "metadata": {
    "tags": []
   },
   "source": [
    "## **Задание 7.8.**\n",
    "\n",
    "Настало время поговорить о стабилизации кумулятивных метрик во времени. Но прежде, чем перейти к кумулятивным метрикам, нам необходимо построить таблицу с ежедневными данными результатов проведения A/B-тестирования.\n",
    "\n",
    "Сгруппируйте данные по дате и группе тестирования. В каждой группе вычислите количество посещений страницы, количество покупок и сумму покупок. \n",
    "\n",
    "Добавьте в таблицу информацию о ежедневной конверсии (ежедневное количество покупок / ежедневное количество посещений) в группе и ежедневном среднем чеке (ежедневная сумма покупок / ежедневное количество покупок)\n",
    "* Чему равна конверсия 3 января 2021 года? Ответ приведите в процентах и округлите до сотых.\n",
    "\n",
    "* Чему равен средний чек 3 января 2021 года? Ответ приведите в рублях и округлите до целого."
   ]
  },
  {
   "cell_type": "code",
   "execution_count": 90,
   "id": "4503b528-412e-433a-bc03-da7da52fa1a3",
   "metadata": {},
   "outputs": [
    {
     "name": "stdout",
     "output_type": "stream",
     "text": [
      "Конверсия за 3 января 2021 года в группе А: 11.34%.\n",
      "Конверсия за 3 января 2021 года в группе В: 11.39%.\n",
      "Средний чек за 3 января 2021 года в группе А: 82888 руб.\n",
      "Средний чек за 3 января 2021 года в группе В: 87480 руб.\n"
     ]
    }
   ],
   "source": [
    "# Построим таблицу с ежедневными данными результатов проведения A/B-тестирования.\n",
    "daily_data = updated_data.groupby(['date', 'group']).agg(\n",
    "    {'user_id': 'count', 'purchase': 'sum', 'price': 'sum'}).reset_index().rename(\n",
    "    columns={'user_id': 'count_visits', 'purchase': 'count_purchases', 'price': 'sum_price'})\n",
    "\n",
    "# Добавляем столбцы о ежедневной конверсии и ежедневном среднем чеке.\n",
    "daily_data['conversion'] = (daily_data['count_purchases'] / daily_data['count_visits'])*100\n",
    "daily_data['mean_check'] = daily_data['sum_price'] / daily_data['count_purchases']\n",
    "\n",
    "# Находим конверсию в группах за 3 января 2021 года.\n",
    "conversion_group_a = round(daily_data[(daily_data['group'] == 'A') & (\n",
    "    daily_data['date'] == '2021-01-03')]['conversion'].iloc[0], 2)\n",
    "conversion_group_b = round(daily_data[(daily_data['group'] == 'B') & (\n",
    "    daily_data['date'] == '2021-01-03')]['conversion'].iloc[0], 2)\n",
    "\n",
    "# Выводим результат.\n",
    "print(f\"Конверсия за 3 января 2021 года в группе А: {conversion_group_a}%.\")\n",
    "print(f\"Конверсия за 3 января 2021 года в группе В: {conversion_group_b}%.\")\n",
    "\n",
    "# Находим сумму среднего чека в группах за 3 января 2021 года.\n",
    "mean_check_group_a = round(daily_data[(daily_data['group'] == 'A') & (\n",
    "    daily_data['date'] == '2021-01-03')]['mean_check'].iloc[0])\n",
    "mean_check_group_b = round(daily_data[(daily_data['group'] == 'B') & (\n",
    "    daily_data['date'] == '2021-01-03')]['mean_check'].iloc[0])\n",
    "\n",
    "# Выводим результат.\n",
    "print(f\"Средний чек за 3 января 2021 года в группе А: {mean_check_group_a} руб.\")\n",
    "print(f\"Средний чек за 3 января 2021 года в группе В: {mean_check_group_b} руб.\")"
   ]
  },
  {
   "cell_type": "markdown",
   "id": "bc8e241b-1ef1-4f67-ab90-77251889b7f2",
   "metadata": {},
   "source": [
    "## **Задание 7.9.** \n",
    "\n",
    "Добавьте в таблицу с ежедневными показателями кумулятивные признаки:\n",
    "* кумулятивное количество посещений страницы\n",
    "* кумулятивное количество покупок\n",
    "* кумулятивную сумму покупок\n",
    "\n",
    "Не забудьте при расчете кумулятивной суммы сгруппировать данные по группам. \n",
    "\n",
    "Вычислите кумулятивную конверсию и кумулятивный средний чек на основе полученных кумулятивных показателей. \n",
    "\n",
    "* Какая **кумулятивная** конверсия была в группе B на 20 января? Ответ приведите в процентах, округлив до сотых.\n",
    "* Какой **кумулятивный** средний чек был в группе А на 12 января 2021 года? Ответ приведите в рублях, округлив до целых."
   ]
  },
  {
   "cell_type": "code",
   "execution_count": 91,
   "id": "afe59f9a-8d39-45c1-a14f-9f62091d81a1",
   "metadata": {},
   "outputs": [
    {
     "name": "stdout",
     "output_type": "stream",
     "text": [
      "Кумулятивная конверсия в группе В за 20 января 2021 год: 11.9%.\n",
      "Кумулятивный средний чек в группе А за 12 января 2021 год: 81492 руб.\n"
     ]
    }
   ],
   "source": [
    "# Находим кумулятивное количество посещений страницы, количество покупок и сумму покупок.\n",
    "daily_data['cum_count_visits'] = daily_data.groupby(['group'])['count_visits'].cumsum()\n",
    "daily_data['cum_count_purchases'] = daily_data.groupby(['group'])['count_purchases'].cumsum()\n",
    "daily_data['cum_sum_price'] = daily_data.groupby(['group'])['sum_price'].cumsum()\n",
    "\n",
    "# Находим кумулятивную конверсию и кумулятивный средний чек.\n",
    "daily_data['cum_conversion'] = (daily_data['cum_count_purchases'] / daily_data['cum_count_visits'])*100\n",
    "daily_data['cum_mean_check'] = daily_data['cum_sum_price'] / daily_data['cum_count_purchases']\n",
    "\n",
    "# Находим кумулятивную конверсию в группе В за 20 января 2021 года.\n",
    "cum_conversion_group_b = round(daily_data[(daily_data['group'] == 'B') & (\n",
    "    daily_data['date'] == '2021-01-20')]['cum_conversion'].iloc[0], 2)\n",
    "\n",
    "# Выводим результат.\n",
    "print(f\"Кумулятивная конверсия в группе В за 20 января 2021 год: {cum_conversion_group_b}%.\")\n",
    "\n",
    "# Находим кумулятивный средний чек в группе А за 12 января 2021 года.\n",
    "cum_mean_check_group_a = round(daily_data[(daily_data['group'] == 'A') & (\n",
    "    daily_data['date'] == '2021-01-12')]['cum_mean_check'].iloc[0])\n",
    "\n",
    "# Выводим результат.\n",
    "print(f\"Кумулятивный средний чек в группе А за 12 января 2021 год: {cum_mean_check_group_a} руб.\")"
   ]
  },
  {
   "cell_type": "markdown",
   "id": "c252b8ba-371b-4795-8fc3-a62317e9ba39",
   "metadata": {},
   "source": [
    "Постройте кумулятивные графики конверсии и среднего чека в каждой группе по дням. Сделайте выводы. Можно ли назвать A/B-тест завершенным - стабилизировались ли значения метрик во времени? Как соотносятся кумулятивные показатели в каждой группе?"
   ]
  },
  {
   "cell_type": "code",
   "execution_count": 92,
   "id": "27e23d20-7ed6-4a26-973d-6d0320b81adb",
   "metadata": {},
   "outputs": [
    {
     "data": {
      "image/png": "[encoded data removed]",
      "text/plain": [
       "<Figure size 1296x504 with 2 Axes>"
      ]
     },
     "metadata": {
      "needs_background": "light"
     },
     "output_type": "display_data"
    }
   ],
   "source": [
    "# Строим линейные графики кумулятивной конверсии и кумулятивного среднего чека.\n",
    "fig, axes = plt.subplots(1, 2, figsize=(18,7))\n",
    "sns.lineplot(data=daily_data, x='date', y='cum_conversion', hue='group', ax=axes[0])\n",
    "sns.lineplot(data=daily_data, x='date', y='cum_mean_check', hue='group', ax=axes[1])\n",
    "\n",
    "# Задаем названия графикам.\n",
    "axes[0].set_title('Кумулятивная конверсия в группе А и группе В');\n",
    "axes[1].set_title('Кумулятивный средний чек в группе А и группе В');\n",
    "\n",
    "# Устанавливаем сетку.\n",
    "axes[0].grid()\n",
    "axes[1].grid()"
   ]
  },
  {
   "cell_type": "markdown",
   "id": "f645f8e5-ad16-4b3b-8228-fbdeeb286833",
   "metadata": {},
   "source": [
    "### Вывод:\n",
    "*В начале периода наблюдаются резкие скачки конверсии. До 13 января 2021г. конверсия в группах была нестабильна и после 18 января кривая начинает плавно стабилизироваться. При этом конверсия в группе А немного выше чем в группе В.* \n",
    "    \n",
    "*Что касается среднего чека, то мы видим, что в группе В сумма чека значительно выше на всем промежутке времени и по сревнению с началом периода пошла на увеличение, а в группе А наоборот, сумма чека снижается. После 17 января не наблюдается резких скачков. В результате мы получили стабилизированные данные и можем переходить к проверке статистической значимости разницы между метриками в группах.*"
   ]
  },
  {
   "cell_type": "markdown",
   "id": "2ecaa382-56e2-47f4-b086-24b4742570a3",
   "metadata": {
    "tags": []
   },
   "source": [
    "## **Задание 7.10.**\n",
    "\n",
    "Настало время переходить к проверке статистической значимости разницы между метриками в группах. Начнем с конверсии.\n",
    "\n",
    "Какой тест вы примените для проверки гипотезы о равенстве конверсий в группах?\n",
    "\n",
    "Проведите тестирование при следующих нулевой и альтернативной гипотезе:\n",
    "* $H_0$: Конверсии в группах А и B равны; \n",
    "* $H_1$: Конверсия в группе А больше чем конверсия в группе B;\n",
    "\n",
    "Вычислите p-value вашего теста для конверсий в группах А и B. Сравните полученное значение p-value с уровнем значимости $\\alpha$=0.05. "
   ]
  },
  {
   "cell_type": "code",
   "execution_count": 93,
   "id": "9dd1f6fd-2fa0-4a2f-8181-dbed4c302bce",
   "metadata": {},
   "outputs": [
    {
     "name": "stdout",
     "output_type": "stream",
     "text": [
      "p-value - 0.12.\n",
      " Мы принимаем нулевую гипотезу: 'Конверсии в группах А и B равны', т.к. 0.12 > 0.05.\n"
     ]
    }
   ],
   "source": [
    "# Группируем данные по признаку группы и находим количество совершенных покупок\n",
    "# и количество наблюдений.\n",
    "converted_piv= updated_data.groupby('group')['purchase'].agg(\n",
    "    ['sum', 'count']\n",
    ")\n",
    "\n",
    "# Создаем гипотезу.\n",
    "H0 = 'Конверсии в группах А и B равны'\n",
    "H1 = 'Конверсия в группе А выше, чем конверсия в группе B'\n",
    "\n",
    "# Задаем уровень значимости.\n",
    "alpha = 0.05\n",
    "\n",
    "# Вычисляем p-value и выводим его.\n",
    "_, p = proportions_ztest(\n",
    "    count=converted_piv['sum'],\n",
    "    nobs=converted_piv['count'],\n",
    "    alternative='larger'\n",
    ")\n",
    "print(f\"p-value - {round(p, 3)}.\")\n",
    "\n",
    "# Сравнение p-value с уровнем значимости.\n",
    "if p > alpha:\n",
    "    print(f\" Мы принимаем нулевую гипотезу: '{H0}', т.к. {round(p, 3)} > {alpha}.\")\n",
    "else:\n",
    "    print(f\" Мы отвергаем нулевую гипотезу и принимает альтернативную: '{Ha}', т.к. {round(p, 3)} <= {alpha}.\")"
   ]
  },
  {
   "cell_type": "markdown",
   "id": "da794b48-80e3-47af-aceb-084a1862c86b",
   "metadata": {},
   "source": [
    "Приведите свои выводы по результатам проведенного статистического теста. Есть ли статистическая разница между конверсиями в группах А и B?"
   ]
  },
  {
   "cell_type": "markdown",
   "id": "75dddb06-389d-4d65-92c7-425efa28e51a",
   "metadata": {},
   "source": [
    "### Вывод:\n",
    "*Z-тест для пропорций показал, что при уровне значимости 5% нет статистической разницы между конверсиями в группах. p-value оказалось выше уровня значимости. Даже если мы ослабим требования и увеличим уровень значимости до 0.1, то и в этом случае наша альтернативная гипотеза не подтвердится. Поэтому можно сделать вывод, что по метрике конверсии два варианта посадочной страницы официального сайта компании одинаково эффективны. Чтобы точно убедиться в наших рассуждениях найдем доверительный интервал для конверсий и разницы между ними.*"
   ]
  },
  {
   "cell_type": "markdown",
   "id": "32c5a1af-8cb2-4f3c-a126-410b70fb3ff3",
   "metadata": {
    "tags": []
   },
   "source": [
    "## **Задание 7.11.**\n",
    "Убедитесь в своих рассуждениях, построив 95%-ый доверительный интервал для конверсий и разницы между ними. Используйте $z_{крит}$ в своих расчетах\n",
    "\n",
    "Укажите нижнюю и верхнюю границы доверительных интервалов. Границы приведите в процентах и округлите до 2 знака после запятой. Например: нижняя граница 89.24%, верхняя граница 91.25%."
   ]
  },
  {
   "cell_type": "code",
   "execution_count": 94,
   "id": "e9decb7d-ff5e-40a6-8b71-63627c4ef64a",
   "metadata": {},
   "outputs": [
    {
     "name": "stdout",
     "output_type": "stream",
     "text": [
      "Доверительный интервал для конверсии группы А: (11.87, 12.2)\n",
      "Доверительный интервал для конверсии группы B: (11.73, 12.06)\n",
      "Доверительный интервал для разности конверсий: (-0.38, 0.09)\n"
     ]
    }
   ],
   "source": [
    "def proportions_conf_interval(n, xp, gamma=0.95):\n",
    "    \"\"\"Функция нахождения доверительного интервала пропорции.\n",
    "    У функции три аргумента: n — размер выборки, xp — выборочная пропорция\n",
    "    и gamma — уровень надёжности. \n",
    "    Функция возвращает кортеж из вычисленных границ доверительного интервала, \n",
    "    умноженных на 100 % и округлённых до второго знака после запятой.\n",
    "    \"\"\"\n",
    "    alpha = 1 - gamma\n",
    "    z_crit = -norm.ppf(alpha/2)\n",
    "    eps = z_crit * (xp * (1 - xp) / n) ** 0.5\n",
    "    lower_bound = xp - eps\n",
    "    upper_bound = xp + eps\n",
    "    return round(lower_bound * 100, 2), round(upper_bound * 100, 2)\n",
    "\n",
    "\n",
    "def diff_proportions_conf_interval(n, xp, gamma=0.95):\n",
    "    \"\"\"Функция нахождения доверительного интервала разницы конверсий.\n",
    "    У функции три аргумента: n — размер выборки, xp — выборочная пропорция\n",
    "    и gamma — уровень надёжности. \n",
    "    Функция возвращает кортеж из вычисленных границ доверительного интервала разници конверсий, \n",
    "    умноженных на 100 % и округлённых до второго знака после запятой.\n",
    "    \"\"\"\n",
    "    alpha = 1 - gamma\n",
    "    diff = xp[1] - xp[0]\n",
    "    z_crit = -norm.ppf(alpha/2)\n",
    "    eps = z_crit * (xp[0] * (1 - xp[0])/n[0] + xp[1] * (1 - xp[1])/n[1]) ** 0.5\n",
    "    lower_bound = diff - eps\n",
    "    upper_bound = diff + eps\n",
    "    return round(lower_bound *100, 2), round(upper_bound * 100, 2)\n",
    "\n",
    "\n",
    "# Группируем данные по группам и находим размер выборки и выборочную пропорцию.\n",
    "ab_df = updated_data.groupby(['group']).agg({'user_id': 'count', 'purchase': 'mean'})\n",
    "\n",
    "# Запускаем функцию нахождения доверительного интервала пропорции по группе А.\n",
    "conf_interval_a = proportions_conf_interval(\n",
    "n=ab_df['user_id'].iloc[0],\n",
    "xp=ab_df['purchase'].iloc[0]\n",
    ")\n",
    "\n",
    "# Запускаем функцию нахождения доверительного интервала пропорции по группе В.                                    \n",
    "conf_interval_b = proportions_conf_interval(\n",
    "n=ab_df['user_id'].iloc[1],\n",
    "xp=ab_df['purchase'].iloc[1]\n",
    ")\n",
    "# Выводим результат.\n",
    "print('Доверительный интервал для конверсии группы А: {}'.format(conf_interval_a))\n",
    "print('Доверительный интервал для конверсии группы B: {}'.format(conf_interval_b))\n",
    "\n",
    "# Запускаем функцию нахождения доверительного интервала разницы конверсий.\n",
    "diff_interval = diff_proportions_conf_interval(\n",
    "n=[ab_df['user_id'].iloc[0], ab_df['user_id'].iloc[1]],\n",
    "xp=[ab_df['purchase'].iloc[0], ab_df['purchase'].iloc[1]]\n",
    ")\n",
    "# Выводим результат.\n",
    "print('Доверительный интервал для разности конверсий: {}'.format(diff_interval))"
   ]
  },
  {
   "cell_type": "markdown",
   "id": "9332372d-66b2-45e9-a74c-f5d8b1d44afb",
   "metadata": {},
   "source": [
    "Проинтерпретируйте построенные доверительные интервалы для конверсий в группах. Есть ли перекрытие между доверительными интервалами для групп? Есть ли статистическая разница между конверсиями в группах А и B?"
   ]
  },
  {
   "cell_type": "markdown",
   "id": "93f84f2b",
   "metadata": {},
   "source": [
    "### Вывод:\n",
    "*Получив доверительные интервалы в группе А и группе В и сопоставив результаты можно явно увидеть пересечение интервалов. Поэтому мы не можем явно сказать, есть ли разница в конверсиях, ведь истенное значение конверсий в группах может совпасть. Поэтому мы также рассчитали доверительный интервал для разности конверсий и получили (-0.38, 0.09). Наш интервал охватывает точку 0. И это позвояляет еще раз убедиться, что нет статистической разницы между конверсиями в группах А и В.*"
   ]
  },
  {
   "cell_type": "markdown",
   "id": "73c54883-b919-4889-bbf2-e1bdeb0b7055",
   "metadata": {},
   "source": [
    "## **Задание 7.12.**\n",
    "\n",
    "Ранее мы построили таблицу с ежедневными показателями. Теперь она нам снова понадобится, так как нас интересует ежедневный средний чек.\n",
    "\n",
    "Проверьте гипотезу о нормальности распределения ежедневного среднего чека в каждой из групп тестирования. \n",
    "\n",
    "* Какой тест вы примените  для проверки гипотезы о нормальности распределения ежедневного среднего чека?\n",
    "* Как будут звучать нулевая и альтернативная гипотезы?\n",
    "* Каковы результаты статистического теста с уровнем значимости $\\alpha$ =0.05?"
   ]
  },
  {
   "cell_type": "code",
   "execution_count": 95,
   "id": "898041ae-de7e-4b74-975e-111d494fbb82",
   "metadata": {},
   "outputs": [
    {
     "name": "stdout",
     "output_type": "stream",
     "text": [
      "p-value группы А 0.25\n",
      "p-value группы B 0.09\n",
      "Принимаем нулевую гипотезу. Распределения в обеих группах нормальные.\n"
     ]
    }
   ],
   "source": [
    "# Создаем гипотезу.\n",
    "H0 = 'Распределения в обеих группах нормальные.'\n",
    "H1 = 'Распределение в одной или обеих группах отлично от нормального.'\n",
    "\n",
    "# Задаем уровень значимости.\n",
    "alpha = 0.05\n",
    "\n",
    "# Вычисляем результат теста Шапиро-Уилка для выборок и выводим их.\n",
    "shapiro_result_a = shapiro(daily_data[daily_data['group'] == 'A']['mean_check'])\n",
    "shapiro_result_b = shapiro(daily_data[daily_data['group'] == 'B']['mean_check'])\n",
    "print('p-value группы А', round(shapiro_result_a.pvalue, 2))\n",
    "print('p-value группы B', round(shapiro_result_b.pvalue, 2))\n",
    "\n",
    "# Сравниваем полученное p-value с уровнем значимости.\n",
    "if shapiro_result_a.pvalue < alpha or shapiro_result_b.pvalue < alpha:\n",
    "    print(\"Отвергаем нулевую гипотезу. {}\".format(H0))\n",
    "    print(\"Альтернативная гипотеза. H1: {}\".format(H1))\n",
    "else:\n",
    "    print(\"Принимаем нулевую гипотезу. {}\".format(H0))"
   ]
  },
  {
   "cell_type": "markdown",
   "id": "cbddecf9-4d15-4ff1-84e9-46c4d98fc1e0",
   "metadata": {
    "tags": []
   },
   "source": [
    "## **Задание 7.13.**\n",
    "Настало время сравнить варианты дизайна страницы по метрике среднего чека. \n",
    "\n",
    "Какой тест вы примените для проверки гипотезы о равенстве средних чеков по дням в группах?\n",
    "\n",
    "Проведите тестирование при следующих нулевой и альтернативной гипотезе:\n",
    "* $H_0$: Ежедневные средние чеки в группах А и B равны; \n",
    "* $H_1$: Ежедневный средний чек в группе А меньше чем в группе B;\n",
    "\n",
    "Вычислите p-value вашего теста для ежедневного среднего чека в группах А и B. Сравните полученное значение p-value с уровнем значимости $\\alpha$ =0.05. "
   ]
  },
  {
   "cell_type": "code",
   "execution_count": 96,
   "id": "05d43f23-2c2d-4795-bb96-1ffbfe81c391",
   "metadata": {},
   "outputs": [
    {
     "name": "stdout",
     "output_type": "stream",
     "text": [
      "p-value: 0.0\n",
      "Отвергаем нулевую гипотезу. Ежедневные средние чеки в группах А и B равны.\n",
      "Альтернативная гипотеза. H1: Ежедневный средний чек в группе А меньше чем в группе B.\n"
     ]
    }
   ],
   "source": [
    "# Создаем гипотезу.\n",
    "H0 = 'Ежедневные средние чеки в группах А и B равны.'\n",
    "H1 = 'Ежедневный средний чек в группе А меньше чем в группе B.'\n",
    "\n",
    "# Задаем уровень значимости.\n",
    "alpha = 0.05\n",
    "\n",
    "# Вычисляем результат T-теста для выборок и выводим их.\n",
    "results = ttest_ind(\n",
    "    daily_data[daily_data['group'] == 'A']['mean_check'],\n",
    "    daily_data[daily_data['group'] == 'B']['mean_check'], \n",
    "    alternative='less'\n",
    ")\n",
    "print('p-value:', round(results.pvalue, 2))\n",
    "\n",
    "# Сравниваем полученное p-value с уровнем значимости.\n",
    "if results.pvalue < alpha:\n",
    "    print(\"Отвергаем нулевую гипотезу. {}\".format(H0))\n",
    "    print(\"Альтернативная гипотеза. H1: {}\".format(H1))\n",
    "else:\n",
    "    print(\"Принимаем нулевую гипотезу. {}\".format(H0))\n",
    " "
   ]
  },
  {
   "cell_type": "markdown",
   "id": "8534ab25-68b8-48f7-b2c1-ef1b72d8a767",
   "metadata": {},
   "source": [
    " Приведите свои выводы по проведенному статистическому тесту. Есть ли статистическая разница между ежедневными средними чеками в группах А и B?"
   ]
  },
  {
   "cell_type": "markdown",
   "id": "e0689984",
   "metadata": {},
   "source": [
    "### Вывод:\n",
    "*Для сравнения вариантов дизайна страницы по метрике среднего чека мы выбрали t-test, т.к. мы его можем применить для определения того, как средние значения двух наборов данных отличаются друг от друга, если дисперсия не задана. В результате мы получили p-value 0.0, что меньше заданного уровня значимости. В результате мы приняли гипотезу о том, что средний чек в группе А меньше, чем в группе В. Мы это также явно наблюдали при визуальзации кумулятивного среднего чека. Поэтому с уверенностью можно сказать, что есть статистическая разница между ежедневными чеками в группах.*"
   ]
  },
  {
   "cell_type": "markdown",
   "id": "5e46c9a6-a943-48b4-ad72-935337469613",
   "metadata": {
    "tags": []
   },
   "source": [
    "## **Задание 7.14.**\n",
    "\n",
    "Постройте 95%-ый доверительный интервал для среднего чека в каждой группе. Так как выборка средних чеков небольшая, используйте  $t_{крит}$ в своих расчетах.\n",
    "\n",
    "Укажите нижнюю границу доверительного интервала для истинного среднего чека каждой из групп. Ответ приведите в процентах и округлите до целого."
   ]
  },
  {
   "cell_type": "code",
   "execution_count": 97,
   "id": "480430db-ffae-4aad-8e22-f5c70d4800b8",
   "metadata": {},
   "outputs": [
    {
     "name": "stdout",
     "output_type": "stream",
     "text": [
      "Доверительный интервал среднего чека в группе А: (79630, 82308)\n",
      "Доверительный интервал среднего чека в группе В: (87626, 89526)\n"
     ]
    }
   ],
   "source": [
    "def unknown_std_conf_interval(n, x_mean, x_std, gamma=0.95):\n",
    "    \"\"\"Функция нахождения доверительного интервала для среднего\n",
    "    при неизвестном истинном стандартном отклонении.\n",
    "    У функции 4 аргумента: n — размер выборки, x_mean — выборочное среднее,\n",
    "    x_std - выборочное стандартное отклонение и gamma — уровень надёжности. \n",
    "    Функция возвращает кортеж из вычисленных границ доверительного интервала.\n",
    "    \"\"\"\n",
    "    k = n - 1\n",
    "    alpha = 1 - gamma\n",
    "    t_crit = -t.ppf(alpha/2, k)\n",
    "    eps = t_crit * x_std/(n ** 0.5)\n",
    "    lower_bound = x_mean - eps\n",
    "    upper_bound = x_mean + eps\n",
    "    return round(lower_bound), round(upper_bound)\n",
    "\n",
    "# Разделяет данные по группам.\n",
    "group_a_df = daily_data[daily_data['group'] == 'A']\n",
    "group_b_df = daily_data[daily_data['group'] == 'B']\n",
    "\n",
    "# Находим доверительный интервал среднего чека по группе А.\n",
    "confidence_interval_a = unknown_std_conf_interval(\n",
    "    n = group_a_df['count_visits'].count(),\n",
    "    x_mean = group_a_df['mean_check'].mean(),\n",
    "    x_std = group_a_df['mean_check'].std()\n",
    ")\n",
    "\n",
    "# Находим доверительный интервал среднего чека по группе В.\n",
    "confidence_interval_b = unknown_std_conf_interval(\n",
    "    n = group_b_df['count_visits'].count(),\n",
    "    x_mean = group_b_df['mean_check'].mean(),\n",
    "    x_std = group_b_df['mean_check'].std()\n",
    ")\n",
    "\n",
    "# Выводим результаты.\n",
    "print('Доверительный интервал среднего чека в группе А: {}'.format(confidence_interval_a))\n",
    "print('Доверительный интервал среднего чека в группе В: {}'.format(confidence_interval_b))"
   ]
  },
  {
   "cell_type": "markdown",
   "id": "74a78db8-48f7-41d2-94cb-faefb30b8f76",
   "metadata": {},
   "source": [
    "Проинтерпретируйте построенные доверительные интервалы для ежедневных средних чеков в группах. Есть ли между ними пересечения?"
   ]
  },
  {
   "cell_type": "markdown",
   "id": "ce870d0e",
   "metadata": {},
   "source": [
    "### Вывод:\n",
    "*Мы нашли доверительные интервалы в группах и между ними нет пересечений. Доверительный интервал среднего чека в группе Б выше чем в группе А. Можно сделать вывод, что метрика средний чек является стаcтически значимой.*"
   ]
  },
  {
   "cell_type": "markdown",
   "id": "c078852f-892f-42ed-8d78-73edf8eb1f5e",
   "metadata": {
    "tags": []
   },
   "source": [
    "## **Сделайте общий вывод по результатам A/B-теста**\n",
    "\n",
    "Какой варианта дизайна посадочной страницы является более эффективным в комплексе по метрикам конверсии и среднего чека и почему? \n",
    "\n",
    "*Проведя анализ А/В тестирования мы выяснили, что вариант дизайна в обоих группах на метрику конверсии оказывает одинаковый результат, p-value оказалось выше установленного уровня значимости и происходит пересечение доверительных интервалов конверсии, поэтому между конверсиями нет статиcческой разницы. А вот по метрике среднего чека видна разница. Средний чек в группе В куда выше чем в группе А. При новом дизайне истенный средний чек может увеличиться от 5000 до 10000 руб. Поэтому, если данное увеличение устраивает компанию, то дизайн посадочной страницы в группе В является более эффектным, если компания хочет увеличить прибыль.*"
   ]
  },
  {
   "cell_type": "code",
   "execution_count": null,
   "id": "e9d9049f",
   "metadata": {},
   "outputs": [],
   "source": []
  }
 ],
 "metadata": {
  "kernelspec": {
   "display_name": "Python 3.8.8 ('base')",
   "language": "python",
   "name": "python3"
  },
  "language_info": {
   "codemirror_mode": {
    "name": "ipython",
    "version": 3
   },
   "file_extension": ".py",
   "mimetype": "text/x-python",
   "name": "python",
   "nbconvert_exporter": "python",
   "pygments_lexer": "ipython3",
   "version": "3.8.8"
  },
  "vscode": {
   "interpreter": {
    "hash": "39e5539d48c517ebf7cb75ada7cad91b065fd461a1701f3e9ab29519ffcb3767"
   }
  }
 },
 "nbformat": 4,
 "nbformat_minor": 5
}
