{
 "cells": [
  {
   "cell_type": "markdown",
   "id": "e8cad3fa",
   "metadata": {},
   "source": [
    "# <mark> *EDA-4. СТАТИСТИЧЕСКИЕ ТЕСТЫ (HW-03)*</mark>"
   ]
  },
  {
   "cell_type": "markdown",
   "id": "0878979c",
   "metadata": {},
   "source": [
    "# Задание \n",
    "\n",
    "Используя информацию по мидиям Петербурга и Магадана, которые представлены в виде двух массивов petersburg и  magadan проверьте данные на нормальность и на наличие корреляции.\n",
    "\n",
    "### Для этого:\n",
    "\n",
    "1. Объедините два массива в DataFrame. \n",
    "2. Обоснуйте выбор теста на корреляцию. \n",
    "3. Сделайте вывод по гипотезе.\n",
    "4. Ответьте на вопрос: Какова разница в среднем размере мидии в зависимости от города-производителя?\n",
    "5. Обоснуйте выбор теста. \n",
    "6. Сделайте вывод по гипотезе.\n",
    "\n",
    "____"
   ]
  },
  {
   "cell_type": "code",
   "execution_count": 1,
   "id": "16f81a72",
   "metadata": {},
   "outputs": [],
   "source": [
    "# Импортируем необходимые библиотеки.\n",
    "import pandas as pd\n",
    "import numpy as np\n",
    "from scipy.stats import shapiro\n",
    "from scipy.stats import normaltest\n",
    "from scipy.stats import spearmanr\n",
    "from scipy.stats import mannwhitneyu"
   ]
  },
  {
   "cell_type": "markdown",
   "id": "865a6595",
   "metadata": {},
   "source": [
    "## Объединение массивов в DataFrame."
   ]
  },
  {
   "cell_type": "code",
   "execution_count": 2,
   "id": "7594cbcb",
   "metadata": {},
   "outputs": [
    {
     "data": {
      "text/html": [
       "<div>\n",
       "<style scoped>\n",
       "    .dataframe tbody tr th:only-of-type {\n",
       "        vertical-align: middle;\n",
       "    }\n",
       "\n",
       "    .dataframe tbody tr th {\n",
       "        vertical-align: top;\n",
       "    }\n",
       "\n",
       "    .dataframe thead th {\n",
       "        text-align: right;\n",
       "    }\n",
       "</style>\n",
       "<table border=\"1\" class=\"dataframe\">\n",
       "  <thead>\n",
       "    <tr style=\"text-align: right;\">\n",
       "      <th></th>\n",
       "      <th>petersburg</th>\n",
       "      <th>magadan</th>\n",
       "    </tr>\n",
       "  </thead>\n",
       "  <tbody>\n",
       "    <tr>\n",
       "      <th>0</th>\n",
       "      <td>0.0974</td>\n",
       "      <td>0.1033</td>\n",
       "    </tr>\n",
       "    <tr>\n",
       "      <th>1</th>\n",
       "      <td>0.1352</td>\n",
       "      <td>0.0915</td>\n",
       "    </tr>\n",
       "    <tr>\n",
       "      <th>2</th>\n",
       "      <td>0.0817</td>\n",
       "      <td>0.0781</td>\n",
       "    </tr>\n",
       "    <tr>\n",
       "      <th>3</th>\n",
       "      <td>0.1016</td>\n",
       "      <td>0.0685</td>\n",
       "    </tr>\n",
       "    <tr>\n",
       "      <th>4</th>\n",
       "      <td>0.0968</td>\n",
       "      <td>0.0677</td>\n",
       "    </tr>\n",
       "    <tr>\n",
       "      <th>5</th>\n",
       "      <td>0.1064</td>\n",
       "      <td>0.0697</td>\n",
       "    </tr>\n",
       "    <tr>\n",
       "      <th>6</th>\n",
       "      <td>0.1050</td>\n",
       "      <td>0.0764</td>\n",
       "    </tr>\n",
       "    <tr>\n",
       "      <th>7</th>\n",
       "      <td>0.0000</td>\n",
       "      <td>0.0689</td>\n",
       "    </tr>\n",
       "  </tbody>\n",
       "</table>\n",
       "</div>"
      ],
      "text/plain": [
       "   petersburg  magadan\n",
       "0      0.0974   0.1033\n",
       "1      0.1352   0.0915\n",
       "2      0.0817   0.0781\n",
       "3      0.1016   0.0685\n",
       "4      0.0968   0.0677\n",
       "5      0.1064   0.0697\n",
       "6      0.1050   0.0764\n",
       "7      0.0000   0.0689"
      ]
     },
     "metadata": {},
     "output_type": "display_data"
    }
   ],
   "source": [
    "# Исходные данные.\n",
    "petersburg = [0.0974, 0.1352, 0.0817, 0.1016, 0.0968, 0.1064, 0.105]\n",
    "magadan = [0.1033, 0.0915, 0.0781, 0.0685, 0.0677, 0.0697, 0.0764,\n",
    "           0.0689]\n",
    "\n",
    "# Создаем DataFrame.\n",
    "city_df = pd.DataFrame([petersburg, magadan], index = ['petersburg', 'magadan']).T\n",
    "\n",
    "# Заполняем пустые значения на 0.\n",
    "city_df['petersburg'] = city_df['petersburg'].fillna(0)\n",
    "\n",
    "# Выводим DataFrame.\n",
    "display(city_df)"
   ]
  },
  {
   "cell_type": "markdown",
   "id": "e2d3c170",
   "metadata": {},
   "source": [
    "## Проверка данных на нормальность"
   ]
  },
  {
   "cell_type": "markdown",
   "id": "1a3942ef",
   "metadata": {},
   "source": [
    "### Тест Шапиро-Уилка"
   ]
  },
  {
   "cell_type": "code",
   "execution_count": 3,
   "id": "8c350ff7",
   "metadata": {},
   "outputs": [
    {
     "name": "stdout",
     "output_type": "stream",
     "text": [
      "p-value = 0.023\n",
      "Данные не распределены нормально (мы отвергаем H0)\n"
     ]
    }
   ],
   "source": [
    "# Создаем гипотезу.\n",
    "H0 = 'Данные распределены нормально'\n",
    "Ha = 'Данные не распределены нормально (мы отвергаем H0)'\n",
    "\n",
    "# Задаем уровень значимости.\n",
    "alpha = 0.05\n",
    "\n",
    "# Вычисляем p-value и выводим его.\n",
    "_, p = shapiro(city_df)\n",
    "print('p-value = %.3f' % p)\n",
    "\n",
    "# Сравнение p-value с уровнем значимости.\n",
    "if p > alpha:\n",
    "    print(H0)\n",
    "else:\n",
    "    print(Ha)"
   ]
  },
  {
   "cell_type": "markdown",
   "id": "0601227a",
   "metadata": {},
   "source": [
    "### Тест Д’Агостино"
   ]
  },
  {
   "cell_type": "code",
   "execution_count": 4,
   "id": "f7901081",
   "metadata": {},
   "outputs": [
    {
     "name": "stdout",
     "output_type": "stream",
     "text": [
      "p = 0.002\n",
      "Данные не распределены нормально (мы отвергаем H0)\n"
     ]
    },
    {
     "name": "stderr",
     "output_type": "stream",
     "text": [
      "/Users/volhameliashchenia/opt/anaconda3/lib/python3.8/site-packages/scipy/stats/stats.py:1541: UserWarning: kurtosistest only valid for n>=20 ... continuing anyway, n=8\n",
      "  warnings.warn(\"kurtosistest only valid for n>=20 ... continuing \"\n"
     ]
    }
   ],
   "source": [
    "from scipy.stats import normaltest\n",
    "# Создаем гипотезу.\n",
    "H0 = 'Данные распределены нормально'\n",
    "Ha = 'Данные не распределены нормально (мы отвергаем H0)'\n",
    "\n",
    "# Задаем уровень значимости.\n",
    "alpha = 0.05\n",
    "\n",
    "# Вычисляем p-value и выводим его.\n",
    "_, p = normaltest(city_df)\n",
    "print('p = %.3f' % p[0])\n",
    "\n",
    "# Сравнение p-value с уровнем значимости.\n",
    "if p[0] > alpha/2:\n",
    "    print(H0)\n",
    "else:\n",
    "    print(Ha)"
   ]
  },
  {
   "cell_type": "markdown",
   "id": "33db75e6",
   "metadata": {},
   "source": [
    "### *Вывод:*\n",
    "*Проведя два теста на нормальность мы выяснили, что имеющиеся данные не распределены нормально. Т.к. установленный уровень значимости оказался выше статистической значимости. Поэтому для дальнейшего выполнения статистических тестов мы будем использовать непараметрические тесты.*"
   ]
  },
  {
   "cell_type": "markdown",
   "id": "7eb58241",
   "metadata": {},
   "source": [
    "## Корреляция Спирмана"
   ]
  },
  {
   "cell_type": "code",
   "execution_count": 5,
   "id": "4809afbe",
   "metadata": {},
   "outputs": [
    {
     "name": "stdout",
     "output_type": "stream",
     "text": [
      "Коэффициент корреляции - 0.286, p-value - 0.493.\n",
      " Мы принимаем нулевую гипотезу: 'Зависимость между переменными отсутствует.', т.к. 0.493 > 0.05.\n"
     ]
    }
   ],
   "source": [
    "# Создаем гипотезу.\n",
    "H0 = 'Зависимость между переменными отсутствует.'\n",
    "Ha = 'Существует зависимость между переменными.'\n",
    "\n",
    "# Задаем уровень значимости.\n",
    "alpha = 0.05\n",
    "\n",
    "# Вычисляем p-value и выводим его.\n",
    "corr, p = spearmanr(city_df['petersburg'], city_df['magadan'])\n",
    "print(f\"Коэффициент корреляции - {round(corr, 3)}, p-value - {round(p, 3)}.\")\n",
    "\n",
    "# Сравнение p-value с уровнем значимости.\n",
    "if p > alpha:\n",
    "    print(f\" Мы принимаем нулевую гипотезу: '{H0}', т.к. {round(p, 3)} > {alpha}.\")\n",
    "else:\n",
    "    print(f\" Мы отвергаем нулевую гипотезу и принимает альтернативную: '{Ha}', т.к. {round(p, 3)} <= {alpha}.\")"
   ]
  },
  {
   "cell_type": "markdown",
   "id": "5a301325",
   "metadata": {},
   "source": [
    "### *Вывод:*\n",
    "*Для проверки зависимости между переменными мы использовали корреляцию Спирмана, т.к. наши данные являются количественными и при этом нормально не распределены. В результате была принята нулевая гипотеза - \"отсутствует зависимость между переменными\". Это связано с тем, что полученное p-value оказалось выше уровня значимость. А также полученный коэффициент корреляции равен 0.286, что подпадает под диапазон: 0…+/- 0.3 - \"Отсутствие связи или очень слабая связь\".*"
   ]
  },
  {
   "cell_type": "markdown",
   "id": "85b10a92",
   "metadata": {},
   "source": [
    "## U-тест Манна-Уитни (Сумма рангов Уилкоксона)"
   ]
  },
  {
   "cell_type": "code",
   "execution_count": 6,
   "id": "ad6fc3f7",
   "metadata": {},
   "outputs": [
    {
     "name": "stdout",
     "output_type": "stream",
     "text": [
      "51.0 p-value - 0.04988344988344988.\n",
      " Мы отвергаем нулевую гипотезу и принимает альтернативную: 'Существует значимая разницы между средним размером мидии в зависимости от города-производителя.', т.к. 0.0499 <= 0.05.\n"
     ]
    }
   ],
   "source": [
    "# Создаем гипотезу.\n",
    "H0 = 'Нет значимой разницы между средним размером мидии в зависимости от города-производителя.'\n",
    "Ha = 'Существует значимая разницы между средним размером мидии в зависимости от города-производителя.'\n",
    "\n",
    "# Задаем уровень значимости.\n",
    "alpha = 0.05\n",
    "\n",
    "# Вычисляем p-value и выводим его.\n",
    "_, p = mannwhitneyu(city_df['petersburg'], city_df['magadan'])\n",
    "print(_,f\"p-value - {p}.\")\n",
    "\n",
    "# Сравнение p-value с уровнем значимости.\n",
    "if p > alpha:\n",
    "    print(f\" Мы принимаем нулевую гипотезу: '{H0}', т.к. {round(p, 3)} > {alpha}.\")\n",
    "else:\n",
    "    print(f\" Мы отвергаем нулевую гипотезу и принимает альтернативную: '{Ha}', т.к. {round(p, 4)} <= {alpha}.\")"
   ]
  },
  {
   "cell_type": "markdown",
   "id": "8fa68b1a",
   "metadata": {},
   "source": [
    "### *Вывод*:\n",
    "*Для ответа на вопрос \"Какова разница в среднем размере мидии в зависимости от города-производителя?\" мы провели U-тест Манна-Уитни или его еще называют \"Сумма рангов Уилкоксона\".*\n",
    "##### Выбор пал на данный тест по следующим причинам:*\n",
    "1. *данные являются количественными и не подчинены нормальному растпределению;*\n",
    "2. *группы данных являются независимыми, т.к. мы не импользуем в выборке одни и те же мидии;*\n",
    "3. *количество групп - 2.*\n",
    "\n",
    "*Проведя данный тест мы приняли альтернативную гипотезу, которая гласит, что существует значимая разница в среднем размере мидии в зависимости от города. Значение p - это самый низкий уровень значимости, при котором будет принята нулевая гипотеза. В нашем случае значение р практически равно заданному уровню значимости. На мой взгляд  предоставленных данных недостаточно для того, чтобы судить о том, что город-производителя влияет на средний размер мидии и есть вероятность получить ошибку как первого так и второго рода.*"
   ]
  },
  {
   "cell_type": "code",
   "execution_count": null,
   "id": "d8b5674e",
   "metadata": {},
   "outputs": [],
   "source": []
  }
 ],
 "metadata": {
  "kernelspec": {
   "display_name": "Python 3 (ipykernel)",
   "language": "python",
   "name": "python3"
  },
  "language_info": {
   "codemirror_mode": {
    "name": "ipython",
    "version": 3
   },
   "file_extension": ".py",
   "mimetype": "text/x-python",
   "name": "python",
   "nbconvert_exporter": "python",
   "pygments_lexer": "ipython3",
   "version": "3.8.8"
  }
 },
 "nbformat": 4,
 "nbformat_minor": 5
}
